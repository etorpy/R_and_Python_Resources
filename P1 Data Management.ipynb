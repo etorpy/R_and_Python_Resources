{
 "cells": [
  {
   "cell_type": "markdown",
   "metadata": {
    "colab_type": "text",
    "id": "GPScbsDWhjjS"
   },
   "source": [
    "# Python Libraries\n",
    "\n",
    "Commonly used Python libraries:\n",
    "\n",
    "* **Numpy (np)** a library for working with arrays of data\n",
    "\n",
    "* **Pandas (pd)** provides high-performance, easy-to-use data structures and data analysis tools\n",
    "\n",
    "* **Scipy** a library of techniques for numerical and scientific computing (only import specific functions)\n",
    "\n",
    "* **Matplotlib.pyplot (plt)** plotting library for making graphs (only import the **pyplot** module)\n",
    "\n",
    "* **Seaborn (sns)** a higher-level interface to Matplotlib that can be used to simplify many graphing tasks\n",
    "\n",
    "* **Statsmodels.api (sm)** provides classes and functions for the estimation of many different statistical models\n",
    "\n",
    "* **scikit-learn** a machine learning library with many of the same statistical techiques as Statsmodels (only import specific functions) \n",
    "  \n",
    "  \n",
    "NOTE: libraries can be imported in their entirety (with an alias) or just a portion of the library can be imported.  \n",
    "* Importing a *library*: **import** numpy as np\n",
    "* Importing a *module*: **import** matplotlib.pyplot as plt\n",
    "* Importing a *function*: **from** numpy **import** arange  \n"
   ]
  },
  {
   "cell_type": "markdown",
   "metadata": {},
   "source": [
    "### Commonly used sample datasets\n",
    "\n",
    "Seaborn sample datasets  \n",
    "https://github.com/mwaskom/seaborn-data  \n",
    "(used as a target for the seaborn.load_dataset function)\n",
    "\n",
    "scikit-learn sample datasets (need to be conveted into datafames)  \n",
    "https://scikit-learn.org/stable/datasets/index.html#toy-datasets  \n",
    "(note: scikit-learn dataset objects have separate \"data\", \"feature_names\", and \"target\")\n",
    "\n"
   ]
  },
  {
   "cell_type": "markdown",
   "metadata": {},
   "source": [
    "### Commonly used functions  \n",
    "\n",
    "* **pd.read_csv** Pandas function to read *.csv files\n",
    "* **df.describe()** produces descriptive stats on the numeric variables in a dataframe named \"df\"\n",
    "* **df.head()** shows the top of the dataframe\n",
    "\n",
    "\n"
   ]
  },
  {
   "cell_type": "markdown",
   "metadata": {},
   "source": [
    "The following code loads the Boston housing data from scikit-learn and creates a Pandas dataframe."
   ]
  },
  {
   "cell_type": "code",
   "execution_count": 1,
   "metadata": {},
   "outputs": [
    {
     "data": {
      "text/html": [
       "<div>\n",
       "<style scoped>\n",
       "    .dataframe tbody tr th:only-of-type {\n",
       "        vertical-align: middle;\n",
       "    }\n",
       "\n",
       "    .dataframe tbody tr th {\n",
       "        vertical-align: top;\n",
       "    }\n",
       "\n",
       "    .dataframe thead th {\n",
       "        text-align: right;\n",
       "    }\n",
       "</style>\n",
       "<table border=\"1\" class=\"dataframe\">\n",
       "  <thead>\n",
       "    <tr style=\"text-align: right;\">\n",
       "      <th></th>\n",
       "      <th>CRIM</th>\n",
       "      <th>ZN</th>\n",
       "      <th>INDUS</th>\n",
       "      <th>CHAS</th>\n",
       "      <th>NOX</th>\n",
       "      <th>RM</th>\n",
       "      <th>AGE</th>\n",
       "      <th>DIS</th>\n",
       "      <th>RAD</th>\n",
       "      <th>TAX</th>\n",
       "      <th>PTRATIO</th>\n",
       "      <th>B</th>\n",
       "      <th>LSTAT</th>\n",
       "      <th>target</th>\n",
       "    </tr>\n",
       "  </thead>\n",
       "  <tbody>\n",
       "    <tr>\n",
       "      <th>0</th>\n",
       "      <td>0.00632</td>\n",
       "      <td>18.0</td>\n",
       "      <td>2.31</td>\n",
       "      <td>0.0</td>\n",
       "      <td>0.538</td>\n",
       "      <td>6.575</td>\n",
       "      <td>65.2</td>\n",
       "      <td>4.0900</td>\n",
       "      <td>1.0</td>\n",
       "      <td>296.0</td>\n",
       "      <td>15.3</td>\n",
       "      <td>396.90</td>\n",
       "      <td>4.98</td>\n",
       "      <td>24.0</td>\n",
       "    </tr>\n",
       "    <tr>\n",
       "      <th>1</th>\n",
       "      <td>0.02731</td>\n",
       "      <td>0.0</td>\n",
       "      <td>7.07</td>\n",
       "      <td>0.0</td>\n",
       "      <td>0.469</td>\n",
       "      <td>6.421</td>\n",
       "      <td>78.9</td>\n",
       "      <td>4.9671</td>\n",
       "      <td>2.0</td>\n",
       "      <td>242.0</td>\n",
       "      <td>17.8</td>\n",
       "      <td>396.90</td>\n",
       "      <td>9.14</td>\n",
       "      <td>21.6</td>\n",
       "    </tr>\n",
       "    <tr>\n",
       "      <th>2</th>\n",
       "      <td>0.02729</td>\n",
       "      <td>0.0</td>\n",
       "      <td>7.07</td>\n",
       "      <td>0.0</td>\n",
       "      <td>0.469</td>\n",
       "      <td>7.185</td>\n",
       "      <td>61.1</td>\n",
       "      <td>4.9671</td>\n",
       "      <td>2.0</td>\n",
       "      <td>242.0</td>\n",
       "      <td>17.8</td>\n",
       "      <td>392.83</td>\n",
       "      <td>4.03</td>\n",
       "      <td>34.7</td>\n",
       "    </tr>\n",
       "    <tr>\n",
       "      <th>3</th>\n",
       "      <td>0.03237</td>\n",
       "      <td>0.0</td>\n",
       "      <td>2.18</td>\n",
       "      <td>0.0</td>\n",
       "      <td>0.458</td>\n",
       "      <td>6.998</td>\n",
       "      <td>45.8</td>\n",
       "      <td>6.0622</td>\n",
       "      <td>3.0</td>\n",
       "      <td>222.0</td>\n",
       "      <td>18.7</td>\n",
       "      <td>394.63</td>\n",
       "      <td>2.94</td>\n",
       "      <td>33.4</td>\n",
       "    </tr>\n",
       "    <tr>\n",
       "      <th>4</th>\n",
       "      <td>0.06905</td>\n",
       "      <td>0.0</td>\n",
       "      <td>2.18</td>\n",
       "      <td>0.0</td>\n",
       "      <td>0.458</td>\n",
       "      <td>7.147</td>\n",
       "      <td>54.2</td>\n",
       "      <td>6.0622</td>\n",
       "      <td>3.0</td>\n",
       "      <td>222.0</td>\n",
       "      <td>18.7</td>\n",
       "      <td>396.90</td>\n",
       "      <td>5.33</td>\n",
       "      <td>36.2</td>\n",
       "    </tr>\n",
       "  </tbody>\n",
       "</table>\n",
       "</div>"
      ],
      "text/plain": [
       "      CRIM    ZN  INDUS  CHAS    NOX     RM   AGE     DIS  RAD    TAX  \\\n",
       "0  0.00632  18.0   2.31   0.0  0.538  6.575  65.2  4.0900  1.0  296.0   \n",
       "1  0.02731   0.0   7.07   0.0  0.469  6.421  78.9  4.9671  2.0  242.0   \n",
       "2  0.02729   0.0   7.07   0.0  0.469  7.185  61.1  4.9671  2.0  242.0   \n",
       "3  0.03237   0.0   2.18   0.0  0.458  6.998  45.8  6.0622  3.0  222.0   \n",
       "4  0.06905   0.0   2.18   0.0  0.458  7.147  54.2  6.0622  3.0  222.0   \n",
       "\n",
       "   PTRATIO       B  LSTAT  target  \n",
       "0     15.3  396.90   4.98    24.0  \n",
       "1     17.8  396.90   9.14    21.6  \n",
       "2     17.8  392.83   4.03    34.7  \n",
       "3     18.7  394.63   2.94    33.4  \n",
       "4     18.7  396.90   5.33    36.2  "
      ]
     },
     "execution_count": 1,
     "metadata": {},
     "output_type": "execute_result"
    }
   ],
   "source": [
    "# Converting a scikit-learn sample dataset to a Pandas dataframe\n",
    "# NOTE: scikit-learn sample datasets are a \"bunch\"\n",
    "#    that includes \"data\", \"feature_names\", and \"target\"\n",
    "import pandas as pd\n",
    "from sklearn.datasets import load_boston\n",
    "boston_data = load_boston()\n",
    "#type(load_boston)   # type is: function (to create a sklean \"bunch\")\n",
    "#type(boston_data)   # type is: sklearn.utils.Bunch\n",
    "df_boston = pd.DataFrame(boston_data.data,columns=boston_data.feature_names)\n",
    "df_boston['target'] = pd.Series(boston_data.target)  # appends a new column\n",
    "\n",
    "df_boston.head()"
   ]
  },
  {
   "cell_type": "code",
   "execution_count": 2,
   "metadata": {},
   "outputs": [
    {
     "data": {
      "text/plain": [
       "['7zip',\n",
       " 'airports',\n",
       " 'annual-precip',\n",
       " 'anscombe',\n",
       " 'barley',\n",
       " 'birdstrikes',\n",
       " 'budget',\n",
       " 'budgets',\n",
       " 'burtin',\n",
       " 'cars',\n",
       " 'climate',\n",
       " 'co2-concentration',\n",
       " 'countries',\n",
       " 'crimea',\n",
       " 'disasters',\n",
       " 'driving',\n",
       " 'earthquakes',\n",
       " 'ffox',\n",
       " 'flare',\n",
       " 'flare-dependencies',\n",
       " 'flights-10k',\n",
       " 'flights-200k',\n",
       " 'flights-20k',\n",
       " 'flights-2k',\n",
       " 'flights-3m',\n",
       " 'flights-5k',\n",
       " 'flights-airport',\n",
       " 'gapminder',\n",
       " 'gapminder-health-income',\n",
       " 'gimp',\n",
       " 'github',\n",
       " 'graticule',\n",
       " 'income',\n",
       " 'iowa-electricity',\n",
       " 'iris',\n",
       " 'jobs',\n",
       " 'la-riots',\n",
       " 'londonBoroughs',\n",
       " 'londonCentroids',\n",
       " 'londonTubeLines',\n",
       " 'lookup_groups',\n",
       " 'lookup_people',\n",
       " 'miserables',\n",
       " 'monarchs',\n",
       " 'movies',\n",
       " 'normal-2d',\n",
       " 'obesity',\n",
       " 'ohlc',\n",
       " 'points',\n",
       " 'population',\n",
       " 'population_engineers_hurricanes',\n",
       " 'seattle-temps',\n",
       " 'seattle-weather',\n",
       " 'sf-temps',\n",
       " 'sp500',\n",
       " 'stocks',\n",
       " 'udistrict',\n",
       " 'unemployment',\n",
       " 'unemployment-across-industries',\n",
       " 'uniform-2d',\n",
       " 'us-10m',\n",
       " 'us-employment',\n",
       " 'us-state-capitals',\n",
       " 'volcano',\n",
       " 'weather',\n",
       " 'weball26',\n",
       " 'wheat',\n",
       " 'windvectors',\n",
       " 'world-110m',\n",
       " 'zipcodes']"
      ]
     },
     "execution_count": 2,
     "metadata": {},
     "output_type": "execute_result"
    }
   ],
   "source": [
    "# Vega Datasets from Jake Vanderplas, author of Python Data Science Handbook\n",
    "# https://cmdlinetips.com/2018/04/vega_datasets-a-python-package-for-datasets/\n",
    "\n",
    "# install vega_datasets\n",
    "# !pip install vega_datasets\n",
    "\n",
    "# import vega_dataets\n",
    "from vega_datasets import data\n",
    "# check to see the list of data sets\n",
    "data.list_datasets()"
   ]
  },
  {
   "cell_type": "code",
   "execution_count": 3,
   "metadata": {},
   "outputs": [
    {
     "data": {
      "text/html": [
       "<div>\n",
       "<style scoped>\n",
       "    .dataframe tbody tr th:only-of-type {\n",
       "        vertical-align: middle;\n",
       "    }\n",
       "\n",
       "    .dataframe tbody tr th {\n",
       "        vertical-align: top;\n",
       "    }\n",
       "\n",
       "    .dataframe thead th {\n",
       "        text-align: right;\n",
       "    }\n",
       "</style>\n",
       "<table border=\"1\" class=\"dataframe\">\n",
       "  <thead>\n",
       "    <tr style=\"text-align: right;\">\n",
       "      <th></th>\n",
       "      <th>year</th>\n",
       "      <th>country</th>\n",
       "      <th>cluster</th>\n",
       "      <th>pop</th>\n",
       "      <th>life_expect</th>\n",
       "      <th>fertility</th>\n",
       "    </tr>\n",
       "  </thead>\n",
       "  <tbody>\n",
       "    <tr>\n",
       "      <th>0</th>\n",
       "      <td>1955</td>\n",
       "      <td>Afghanistan</td>\n",
       "      <td>0</td>\n",
       "      <td>8891209</td>\n",
       "      <td>30.332</td>\n",
       "      <td>7.7</td>\n",
       "    </tr>\n",
       "    <tr>\n",
       "      <th>1</th>\n",
       "      <td>1960</td>\n",
       "      <td>Afghanistan</td>\n",
       "      <td>0</td>\n",
       "      <td>9829450</td>\n",
       "      <td>31.997</td>\n",
       "      <td>7.7</td>\n",
       "    </tr>\n",
       "    <tr>\n",
       "      <th>2</th>\n",
       "      <td>1965</td>\n",
       "      <td>Afghanistan</td>\n",
       "      <td>0</td>\n",
       "      <td>10997885</td>\n",
       "      <td>34.020</td>\n",
       "      <td>7.7</td>\n",
       "    </tr>\n",
       "    <tr>\n",
       "      <th>3</th>\n",
       "      <td>1970</td>\n",
       "      <td>Afghanistan</td>\n",
       "      <td>0</td>\n",
       "      <td>12430623</td>\n",
       "      <td>36.088</td>\n",
       "      <td>7.7</td>\n",
       "    </tr>\n",
       "    <tr>\n",
       "      <th>4</th>\n",
       "      <td>1975</td>\n",
       "      <td>Afghanistan</td>\n",
       "      <td>0</td>\n",
       "      <td>14132019</td>\n",
       "      <td>38.438</td>\n",
       "      <td>7.7</td>\n",
       "    </tr>\n",
       "  </tbody>\n",
       "</table>\n",
       "</div>"
      ],
      "text/plain": [
       "   year      country  cluster       pop  life_expect  fertility\n",
       "0  1955  Afghanistan        0   8891209       30.332        7.7\n",
       "1  1960  Afghanistan        0   9829450       31.997        7.7\n",
       "2  1965  Afghanistan        0  10997885       34.020        7.7\n",
       "3  1970  Afghanistan        0  12430623       36.088        7.7\n",
       "4  1975  Afghanistan        0  14132019       38.438        7.7"
      ]
     },
     "execution_count": 3,
     "metadata": {},
     "output_type": "execute_result"
    }
   ],
   "source": [
    "gapminder = data.gapminder()\n",
    "gapminder.head()"
   ]
  },
  {
   "cell_type": "code",
   "execution_count": 4,
   "metadata": {},
   "outputs": [
    {
     "data": {
      "text/html": [
       "<div>\n",
       "<style scoped>\n",
       "    .dataframe tbody tr th:only-of-type {\n",
       "        vertical-align: middle;\n",
       "    }\n",
       "\n",
       "    .dataframe tbody tr th {\n",
       "        vertical-align: top;\n",
       "    }\n",
       "\n",
       "    .dataframe thead th {\n",
       "        text-align: right;\n",
       "    }\n",
       "</style>\n",
       "<table border=\"1\" class=\"dataframe\">\n",
       "  <thead>\n",
       "    <tr style=\"text-align: right;\">\n",
       "      <th></th>\n",
       "      <th>mpg</th>\n",
       "      <th>cylinders</th>\n",
       "      <th>displacement</th>\n",
       "      <th>horsepower</th>\n",
       "      <th>weight</th>\n",
       "      <th>acceleration</th>\n",
       "      <th>model_year</th>\n",
       "      <th>origin</th>\n",
       "      <th>name</th>\n",
       "    </tr>\n",
       "  </thead>\n",
       "  <tbody>\n",
       "    <tr>\n",
       "      <th>0</th>\n",
       "      <td>18.0</td>\n",
       "      <td>8</td>\n",
       "      <td>307.0</td>\n",
       "      <td>130.0</td>\n",
       "      <td>3504</td>\n",
       "      <td>12.0</td>\n",
       "      <td>70</td>\n",
       "      <td>usa</td>\n",
       "      <td>chevrolet chevelle malibu</td>\n",
       "    </tr>\n",
       "    <tr>\n",
       "      <th>1</th>\n",
       "      <td>15.0</td>\n",
       "      <td>8</td>\n",
       "      <td>350.0</td>\n",
       "      <td>165.0</td>\n",
       "      <td>3693</td>\n",
       "      <td>11.5</td>\n",
       "      <td>70</td>\n",
       "      <td>usa</td>\n",
       "      <td>buick skylark 320</td>\n",
       "    </tr>\n",
       "    <tr>\n",
       "      <th>2</th>\n",
       "      <td>18.0</td>\n",
       "      <td>8</td>\n",
       "      <td>318.0</td>\n",
       "      <td>150.0</td>\n",
       "      <td>3436</td>\n",
       "      <td>11.0</td>\n",
       "      <td>70</td>\n",
       "      <td>usa</td>\n",
       "      <td>plymouth satellite</td>\n",
       "    </tr>\n",
       "    <tr>\n",
       "      <th>3</th>\n",
       "      <td>16.0</td>\n",
       "      <td>8</td>\n",
       "      <td>304.0</td>\n",
       "      <td>150.0</td>\n",
       "      <td>3433</td>\n",
       "      <td>12.0</td>\n",
       "      <td>70</td>\n",
       "      <td>usa</td>\n",
       "      <td>amc rebel sst</td>\n",
       "    </tr>\n",
       "    <tr>\n",
       "      <th>4</th>\n",
       "      <td>17.0</td>\n",
       "      <td>8</td>\n",
       "      <td>302.0</td>\n",
       "      <td>140.0</td>\n",
       "      <td>3449</td>\n",
       "      <td>10.5</td>\n",
       "      <td>70</td>\n",
       "      <td>usa</td>\n",
       "      <td>ford torino</td>\n",
       "    </tr>\n",
       "  </tbody>\n",
       "</table>\n",
       "</div>"
      ],
      "text/plain": [
       "    mpg  cylinders  displacement  horsepower  weight  acceleration  \\\n",
       "0  18.0          8         307.0       130.0    3504          12.0   \n",
       "1  15.0          8         350.0       165.0    3693          11.5   \n",
       "2  18.0          8         318.0       150.0    3436          11.0   \n",
       "3  16.0          8         304.0       150.0    3433          12.0   \n",
       "4  17.0          8         302.0       140.0    3449          10.5   \n",
       "\n",
       "   model_year origin                       name  \n",
       "0          70    usa  chevrolet chevelle malibu  \n",
       "1          70    usa          buick skylark 320  \n",
       "2          70    usa         plymouth satellite  \n",
       "3          70    usa              amc rebel sst  \n",
       "4          70    usa                ford torino  "
      ]
     },
     "execution_count": 4,
     "metadata": {},
     "output_type": "execute_result"
    }
   ],
   "source": [
    "import pandas as pd\n",
    "#df1=pd.read_csv('https://raw.githubusercontent.com/mwaskom/seaborn-data/master/iris.csv')\n",
    "#df1=pd.read_csv('https://raw.githubusercontent.com/mwaskom/seaborn-data/master/titanic.csv')\n",
    "df=pd.read_csv('https://raw.githubusercontent.com/mwaskom/seaborn-data/master/mpg.csv')\n",
    "df.head()\n"
   ]
  },
  {
   "cell_type": "code",
   "execution_count": 5,
   "metadata": {},
   "outputs": [
    {
     "data": {
      "text/plain": [
       "mpg             float64\n",
       "cylinders         int64\n",
       "displacement    float64\n",
       "horsepower      float64\n",
       "weight            int64\n",
       "acceleration    float64\n",
       "model_year        int64\n",
       "origin           object\n",
       "name             object\n",
       "dtype: object"
      ]
     },
     "execution_count": 5,
     "metadata": {},
     "output_type": "execute_result"
    }
   ],
   "source": [
    "# Check the data types\n",
    "df.dtypes\n"
   ]
  },
  {
   "cell_type": "code",
   "execution_count": 6,
   "metadata": {},
   "outputs": [
    {
     "data": {
      "text/plain": [
       "(398, 9)"
      ]
     },
     "execution_count": 6,
     "metadata": {},
     "output_type": "execute_result"
    }
   ],
   "source": [
    "# Get dataframe shape (number of rows & columns)\n",
    "df.shape"
   ]
  },
  {
   "cell_type": "code",
   "execution_count": 7,
   "metadata": {},
   "outputs": [
    {
     "data": {
      "text/plain": [
       "398"
      ]
     },
     "execution_count": 7,
     "metadata": {},
     "output_type": "execute_result"
    }
   ],
   "source": [
    "# Get the number of rows in the dataframe (runs quicker that the shape function)\n",
    "len(df.index)"
   ]
  },
  {
   "cell_type": "code",
   "execution_count": 8,
   "metadata": {
    "scrolled": true
   },
   "outputs": [
    {
     "data": {
      "text/html": [
       "<div>\n",
       "<style scoped>\n",
       "    .dataframe tbody tr th:only-of-type {\n",
       "        vertical-align: middle;\n",
       "    }\n",
       "\n",
       "    .dataframe tbody tr th {\n",
       "        vertical-align: top;\n",
       "    }\n",
       "\n",
       "    .dataframe thead th {\n",
       "        text-align: right;\n",
       "    }\n",
       "</style>\n",
       "<table border=\"1\" class=\"dataframe\">\n",
       "  <thead>\n",
       "    <tr style=\"text-align: right;\">\n",
       "      <th></th>\n",
       "      <th>mpg</th>\n",
       "      <th>cylinders</th>\n",
       "      <th>displacement</th>\n",
       "      <th>horsepower</th>\n",
       "      <th>weight</th>\n",
       "      <th>acceleration</th>\n",
       "      <th>model_year</th>\n",
       "    </tr>\n",
       "  </thead>\n",
       "  <tbody>\n",
       "    <tr>\n",
       "      <th>count</th>\n",
       "      <td>398.000000</td>\n",
       "      <td>398.000000</td>\n",
       "      <td>398.000000</td>\n",
       "      <td>392.000000</td>\n",
       "      <td>398.000000</td>\n",
       "      <td>398.000000</td>\n",
       "      <td>398.000000</td>\n",
       "    </tr>\n",
       "    <tr>\n",
       "      <th>mean</th>\n",
       "      <td>23.514573</td>\n",
       "      <td>5.454774</td>\n",
       "      <td>193.425879</td>\n",
       "      <td>104.469388</td>\n",
       "      <td>2970.424623</td>\n",
       "      <td>15.568090</td>\n",
       "      <td>76.010050</td>\n",
       "    </tr>\n",
       "    <tr>\n",
       "      <th>std</th>\n",
       "      <td>7.815984</td>\n",
       "      <td>1.701004</td>\n",
       "      <td>104.269838</td>\n",
       "      <td>38.491160</td>\n",
       "      <td>846.841774</td>\n",
       "      <td>2.757689</td>\n",
       "      <td>3.697627</td>\n",
       "    </tr>\n",
       "    <tr>\n",
       "      <th>min</th>\n",
       "      <td>9.000000</td>\n",
       "      <td>3.000000</td>\n",
       "      <td>68.000000</td>\n",
       "      <td>46.000000</td>\n",
       "      <td>1613.000000</td>\n",
       "      <td>8.000000</td>\n",
       "      <td>70.000000</td>\n",
       "    </tr>\n",
       "    <tr>\n",
       "      <th>25%</th>\n",
       "      <td>17.500000</td>\n",
       "      <td>4.000000</td>\n",
       "      <td>104.250000</td>\n",
       "      <td>75.000000</td>\n",
       "      <td>2223.750000</td>\n",
       "      <td>13.825000</td>\n",
       "      <td>73.000000</td>\n",
       "    </tr>\n",
       "    <tr>\n",
       "      <th>50%</th>\n",
       "      <td>23.000000</td>\n",
       "      <td>4.000000</td>\n",
       "      <td>148.500000</td>\n",
       "      <td>93.500000</td>\n",
       "      <td>2803.500000</td>\n",
       "      <td>15.500000</td>\n",
       "      <td>76.000000</td>\n",
       "    </tr>\n",
       "    <tr>\n",
       "      <th>75%</th>\n",
       "      <td>29.000000</td>\n",
       "      <td>8.000000</td>\n",
       "      <td>262.000000</td>\n",
       "      <td>126.000000</td>\n",
       "      <td>3608.000000</td>\n",
       "      <td>17.175000</td>\n",
       "      <td>79.000000</td>\n",
       "    </tr>\n",
       "    <tr>\n",
       "      <th>max</th>\n",
       "      <td>46.600000</td>\n",
       "      <td>8.000000</td>\n",
       "      <td>455.000000</td>\n",
       "      <td>230.000000</td>\n",
       "      <td>5140.000000</td>\n",
       "      <td>24.800000</td>\n",
       "      <td>82.000000</td>\n",
       "    </tr>\n",
       "  </tbody>\n",
       "</table>\n",
       "</div>"
      ],
      "text/plain": [
       "              mpg   cylinders  displacement  horsepower       weight  \\\n",
       "count  398.000000  398.000000    398.000000  392.000000   398.000000   \n",
       "mean    23.514573    5.454774    193.425879  104.469388  2970.424623   \n",
       "std      7.815984    1.701004    104.269838   38.491160   846.841774   \n",
       "min      9.000000    3.000000     68.000000   46.000000  1613.000000   \n",
       "25%     17.500000    4.000000    104.250000   75.000000  2223.750000   \n",
       "50%     23.000000    4.000000    148.500000   93.500000  2803.500000   \n",
       "75%     29.000000    8.000000    262.000000  126.000000  3608.000000   \n",
       "max     46.600000    8.000000    455.000000  230.000000  5140.000000   \n",
       "\n",
       "       acceleration  model_year  \n",
       "count    398.000000  398.000000  \n",
       "mean      15.568090   76.010050  \n",
       "std        2.757689    3.697627  \n",
       "min        8.000000   70.000000  \n",
       "25%       13.825000   73.000000  \n",
       "50%       15.500000   76.000000  \n",
       "75%       17.175000   79.000000  \n",
       "max       24.800000   82.000000  "
      ]
     },
     "execution_count": 8,
     "metadata": {},
     "output_type": "execute_result"
    }
   ],
   "source": [
    "# Get summary statistics on all numeric (int & float) variables\n",
    "df.describe()"
   ]
  },
  {
   "cell_type": "markdown",
   "metadata": {},
   "source": [
    "### Do car from different origins differ from each other?  \n",
    "1. group the data frame by car brand\n",
    "2. compare means for the different car brands\n"
   ]
  },
  {
   "cell_type": "code",
   "execution_count": 9,
   "metadata": {},
   "outputs": [
    {
     "data": {
      "text/plain": [
       "usa       249\n",
       "japan      79\n",
       "europe     70\n",
       "Name: origin, dtype: int64"
      ]
     },
     "execution_count": 9,
     "metadata": {},
     "output_type": "execute_result"
    }
   ],
   "source": [
    "# Q: How many unique values does origin have?\n",
    "#df['origin'].nunique()        # Count distict values\n",
    "df['origin'].value_counts()    # Produces a simple frequency table"
   ]
  },
  {
   "cell_type": "code",
   "execution_count": 10,
   "metadata": {},
   "outputs": [
    {
     "data": {
      "text/html": [
       "<div>\n",
       "<style scoped>\n",
       "    .dataframe tbody tr th:only-of-type {\n",
       "        vertical-align: middle;\n",
       "    }\n",
       "\n",
       "    .dataframe tbody tr th {\n",
       "        vertical-align: top;\n",
       "    }\n",
       "\n",
       "    .dataframe thead th {\n",
       "        text-align: right;\n",
       "    }\n",
       "</style>\n",
       "<table border=\"1\" class=\"dataframe\">\n",
       "  <thead>\n",
       "    <tr style=\"text-align: right;\">\n",
       "      <th></th>\n",
       "      <th>mpg</th>\n",
       "      <th>cylinders</th>\n",
       "      <th>displacement</th>\n",
       "      <th>horsepower</th>\n",
       "      <th>weight</th>\n",
       "      <th>acceleration</th>\n",
       "      <th>model_year</th>\n",
       "    </tr>\n",
       "    <tr>\n",
       "      <th>origin</th>\n",
       "      <th></th>\n",
       "      <th></th>\n",
       "      <th></th>\n",
       "      <th></th>\n",
       "      <th></th>\n",
       "      <th></th>\n",
       "      <th></th>\n",
       "    </tr>\n",
       "  </thead>\n",
       "  <tbody>\n",
       "    <tr>\n",
       "      <th>europe</th>\n",
       "      <td>27.891429</td>\n",
       "      <td>4.157143</td>\n",
       "      <td>109.142857</td>\n",
       "      <td>80.558824</td>\n",
       "      <td>2423.300000</td>\n",
       "      <td>16.787143</td>\n",
       "      <td>75.814286</td>\n",
       "    </tr>\n",
       "    <tr>\n",
       "      <th>japan</th>\n",
       "      <td>30.450633</td>\n",
       "      <td>4.101266</td>\n",
       "      <td>102.708861</td>\n",
       "      <td>79.835443</td>\n",
       "      <td>2221.227848</td>\n",
       "      <td>16.172152</td>\n",
       "      <td>77.443038</td>\n",
       "    </tr>\n",
       "    <tr>\n",
       "      <th>usa</th>\n",
       "      <td>20.083534</td>\n",
       "      <td>6.248996</td>\n",
       "      <td>245.901606</td>\n",
       "      <td>119.048980</td>\n",
       "      <td>3361.931727</td>\n",
       "      <td>15.033735</td>\n",
       "      <td>75.610442</td>\n",
       "    </tr>\n",
       "  </tbody>\n",
       "</table>\n",
       "</div>"
      ],
      "text/plain": [
       "              mpg  cylinders  displacement  horsepower       weight  \\\n",
       "origin                                                                \n",
       "europe  27.891429   4.157143    109.142857   80.558824  2423.300000   \n",
       "japan   30.450633   4.101266    102.708861   79.835443  2221.227848   \n",
       "usa     20.083534   6.248996    245.901606  119.048980  3361.931727   \n",
       "\n",
       "        acceleration  model_year  \n",
       "origin                            \n",
       "europe     16.787143   75.814286  \n",
       "japan      16.172152   77.443038  \n",
       "usa        15.033735   75.610442  "
      ]
     },
     "execution_count": 10,
     "metadata": {},
     "output_type": "execute_result"
    }
   ],
   "source": [
    "# group the data on origin\n",
    "df.groupby('origin').mean()"
   ]
  },
  {
   "cell_type": "markdown",
   "metadata": {},
   "source": [
    "### Do car brands differ from each other?  \n",
    "1. extract the car brand from the \"name\" field  \n",
    "2. group the data frame by car brand  \n",
    "3. compare means for the different car brands  \n"
   ]
  },
  {
   "cell_type": "code",
   "execution_count": 11,
   "metadata": {},
   "outputs": [
    {
     "data": {
      "text/plain": [
       "ford             51\n",
       "chevrolet        43\n",
       "plymouth         31\n",
       "dodge            28\n",
       "amc              28\n",
       "toyota           25\n",
       "datsun           23\n",
       "buick            17\n",
       "pontiac          16\n",
       "volkswagen       15\n",
       "honda            13\n",
       "mercury          11\n",
       "oldsmobile       10\n",
       "mazda            10\n",
       "peugeot           8\n",
       "fiat              8\n",
       "audi              7\n",
       "chrysler          6\n",
       "vw                6\n",
       "volvo             6\n",
       "renault           5\n",
       "opel              4\n",
       "saab              4\n",
       "subaru            4\n",
       "chevy             3\n",
       "cadillac          2\n",
       "maxda             2\n",
       "bmw               2\n",
       "mercedes-benz     2\n",
       "hi                1\n",
       "toyouta           1\n",
       "chevroelt         1\n",
       "capri             1\n",
       "nissan            1\n",
       "mercedes          1\n",
       "triumph           1\n",
       "vokswagen         1\n",
       "Name: brand, dtype: int64"
      ]
     },
     "execution_count": 11,
     "metadata": {},
     "output_type": "execute_result"
    }
   ],
   "source": [
    "# Extract the string of text up to the first space (' ')\n",
    "# https://stackoverflow.com/questions/45019319/pandas-split-a-string-and-then-create-a-new-column\n",
    "\n",
    "df['brand'] = df['name'].str.split(' ').str[0]\n",
    "df['brand'].value_counts()\n",
    "\n",
    "# NOTE: this \"brand\" variable needs some data cleaning\n"
   ]
  },
  {
   "cell_type": "code",
   "execution_count": null,
   "metadata": {},
   "outputs": [],
   "source": []
  },
  {
   "cell_type": "code",
   "execution_count": 12,
   "metadata": {},
   "outputs": [
    {
     "data": {
      "text/plain": [
       "'1.0.1'"
      ]
     },
     "execution_count": 12,
     "metadata": {},
     "output_type": "execute_result"
    }
   ],
   "source": [
    "import numpy as np\n",
    "import pandas as pd\n",
    "import random\n",
    "\n",
    "pd.__version__   # check Pandas version number\n",
    "#pd.show_versions(as_json=False)   # check the version of Panda's dependencies"
   ]
  },
  {
   "cell_type": "code",
   "execution_count": 13,
   "metadata": {},
   "outputs": [
    {
     "data": {
      "text/html": [
       "<div>\n",
       "<style scoped>\n",
       "    .dataframe tbody tr th:only-of-type {\n",
       "        vertical-align: middle;\n",
       "    }\n",
       "\n",
       "    .dataframe tbody tr th {\n",
       "        vertical-align: top;\n",
       "    }\n",
       "\n",
       "    .dataframe thead th {\n",
       "        text-align: right;\n",
       "    }\n",
       "</style>\n",
       "<table border=\"1\" class=\"dataframe\">\n",
       "  <thead>\n",
       "    <tr style=\"text-align: right;\">\n",
       "      <th></th>\n",
       "      <th>Names</th>\n",
       "      <th>temp_month</th>\n",
       "      <th>temp_yr</th>\n",
       "      <th>temp_day</th>\n",
       "    </tr>\n",
       "  </thead>\n",
       "  <tbody>\n",
       "    <tr>\n",
       "      <th>0</th>\n",
       "      <td>Jake Barnes</td>\n",
       "      <td>6</td>\n",
       "      <td>1985</td>\n",
       "      <td>8</td>\n",
       "    </tr>\n",
       "    <tr>\n",
       "      <th>1</th>\n",
       "      <td>Quincy Wagstaff</td>\n",
       "      <td>12</td>\n",
       "      <td>1963</td>\n",
       "      <td>20</td>\n",
       "    </tr>\n",
       "    <tr>\n",
       "      <th>2</th>\n",
       "      <td>James Bond</td>\n",
       "      <td>9</td>\n",
       "      <td>1964</td>\n",
       "      <td>11</td>\n",
       "    </tr>\n",
       "    <tr>\n",
       "      <th>3</th>\n",
       "      <td>Emma Bovary</td>\n",
       "      <td>10</td>\n",
       "      <td>1984</td>\n",
       "      <td>15</td>\n",
       "    </tr>\n",
       "    <tr>\n",
       "      <th>4</th>\n",
       "      <td>Scarlett O’Hara</td>\n",
       "      <td>12</td>\n",
       "      <td>1977</td>\n",
       "      <td>1</td>\n",
       "    </tr>\n",
       "    <tr>\n",
       "      <th>5</th>\n",
       "      <td>Holden Caulfield</td>\n",
       "      <td>6</td>\n",
       "      <td>1971</td>\n",
       "      <td>25</td>\n",
       "    </tr>\n",
       "    <tr>\n",
       "      <th>6</th>\n",
       "      <td>Ichabod Crane</td>\n",
       "      <td>1</td>\n",
       "      <td>1972</td>\n",
       "      <td>24</td>\n",
       "    </tr>\n",
       "    <tr>\n",
       "      <th>7</th>\n",
       "      <td>Eliza Doolittle</td>\n",
       "      <td>1</td>\n",
       "      <td>1986</td>\n",
       "      <td>24</td>\n",
       "    </tr>\n",
       "    <tr>\n",
       "      <th>8</th>\n",
       "      <td>Nancy Drew</td>\n",
       "      <td>2</td>\n",
       "      <td>1980</td>\n",
       "      <td>2</td>\n",
       "    </tr>\n",
       "    <tr>\n",
       "      <th>9</th>\n",
       "      <td>Frodo Baggins</td>\n",
       "      <td>8</td>\n",
       "      <td>1976</td>\n",
       "      <td>18</td>\n",
       "    </tr>\n",
       "    <tr>\n",
       "      <th>10</th>\n",
       "      <td>Edwin Drood</td>\n",
       "      <td>7</td>\n",
       "      <td>1973</td>\n",
       "      <td>14</td>\n",
       "    </tr>\n",
       "    <tr>\n",
       "      <th>11</th>\n",
       "      <td>Sam Spade</td>\n",
       "      <td>10</td>\n",
       "      <td>1979</td>\n",
       "      <td>4</td>\n",
       "    </tr>\n",
       "    <tr>\n",
       "      <th>12</th>\n",
       "      <td>Dorian Gray</td>\n",
       "      <td>3</td>\n",
       "      <td>1969</td>\n",
       "      <td>1</td>\n",
       "    </tr>\n",
       "    <tr>\n",
       "      <th>13</th>\n",
       "      <td>Mike Hammer</td>\n",
       "      <td>5</td>\n",
       "      <td>1978</td>\n",
       "      <td>25</td>\n",
       "    </tr>\n",
       "    <tr>\n",
       "      <th>14</th>\n",
       "      <td>Matt Helm</td>\n",
       "      <td>6</td>\n",
       "      <td>1975</td>\n",
       "      <td>14</td>\n",
       "    </tr>\n",
       "    <tr>\n",
       "      <th>15</th>\n",
       "      <td>Stanley Kowalski</td>\n",
       "      <td>3</td>\n",
       "      <td>1960</td>\n",
       "      <td>7</td>\n",
       "    </tr>\n",
       "    <tr>\n",
       "      <th>16</th>\n",
       "      <td>Willy Loman</td>\n",
       "      <td>5</td>\n",
       "      <td>1964</td>\n",
       "      <td>21</td>\n",
       "    </tr>\n",
       "    <tr>\n",
       "      <th>17</th>\n",
       "      <td>Philip Marlowe</td>\n",
       "      <td>12</td>\n",
       "      <td>1985</td>\n",
       "      <td>22</td>\n",
       "    </tr>\n",
       "    <tr>\n",
       "      <th>18</th>\n",
       "      <td>Perry Mason</td>\n",
       "      <td>11</td>\n",
       "      <td>1975</td>\n",
       "      <td>7</td>\n",
       "    </tr>\n",
       "    <tr>\n",
       "      <th>19</th>\n",
       "      <td>Walter Mitty</td>\n",
       "      <td>3</td>\n",
       "      <td>1962</td>\n",
       "      <td>3</td>\n",
       "    </tr>\n",
       "    <tr>\n",
       "      <th>20</th>\n",
       "      <td>Hercule Poirot</td>\n",
       "      <td>5</td>\n",
       "      <td>1983</td>\n",
       "      <td>13</td>\n",
       "    </tr>\n",
       "    <tr>\n",
       "      <th>21</th>\n",
       "      <td>Mary Poppins</td>\n",
       "      <td>8</td>\n",
       "      <td>1967</td>\n",
       "      <td>28</td>\n",
       "    </tr>\n",
       "    <tr>\n",
       "      <th>22</th>\n",
       "      <td>Christopher Robin</td>\n",
       "      <td>8</td>\n",
       "      <td>1986</td>\n",
       "      <td>22</td>\n",
       "    </tr>\n",
       "    <tr>\n",
       "      <th>23</th>\n",
       "      <td>Tom Sawyer</td>\n",
       "      <td>10</td>\n",
       "      <td>1985</td>\n",
       "      <td>12</td>\n",
       "    </tr>\n",
       "    <tr>\n",
       "      <th>24</th>\n",
       "      <td>Becky Sharp</td>\n",
       "      <td>2</td>\n",
       "      <td>1968</td>\n",
       "      <td>8</td>\n",
       "    </tr>\n",
       "    <tr>\n",
       "      <th>25</th>\n",
       "      <td>Anne Shirley</td>\n",
       "      <td>8</td>\n",
       "      <td>1982</td>\n",
       "      <td>14</td>\n",
       "    </tr>\n",
       "    <tr>\n",
       "      <th>26</th>\n",
       "      <td>Becky Thatcher</td>\n",
       "      <td>1</td>\n",
       "      <td>1969</td>\n",
       "      <td>9</td>\n",
       "    </tr>\n",
       "    <tr>\n",
       "      <th>27</th>\n",
       "      <td>Emma Woodhouse</td>\n",
       "      <td>7</td>\n",
       "      <td>1963</td>\n",
       "      <td>12</td>\n",
       "    </tr>\n",
       "    <tr>\n",
       "      <th>28</th>\n",
       "      <td>Harry Flashman</td>\n",
       "      <td>10</td>\n",
       "      <td>1967</td>\n",
       "      <td>13</td>\n",
       "    </tr>\n",
       "    <tr>\n",
       "      <th>29</th>\n",
       "      <td>Elizabeth Bennett</td>\n",
       "      <td>10</td>\n",
       "      <td>1990</td>\n",
       "      <td>12</td>\n",
       "    </tr>\n",
       "    <tr>\n",
       "      <th>30</th>\n",
       "      <td>Anne Elliot</td>\n",
       "      <td>8</td>\n",
       "      <td>1983</td>\n",
       "      <td>21</td>\n",
       "    </tr>\n",
       "    <tr>\n",
       "      <th>31</th>\n",
       "      <td>Jane Eyre</td>\n",
       "      <td>7</td>\n",
       "      <td>1989</td>\n",
       "      <td>5</td>\n",
       "    </tr>\n",
       "    <tr>\n",
       "      <th>32</th>\n",
       "      <td>Moll Flanders</td>\n",
       "      <td>10</td>\n",
       "      <td>1964</td>\n",
       "      <td>8</td>\n",
       "    </tr>\n",
       "    <tr>\n",
       "      <th>33</th>\n",
       "      <td>John Yossarian</td>\n",
       "      <td>2</td>\n",
       "      <td>1987</td>\n",
       "      <td>8</td>\n",
       "    </tr>\n",
       "    <tr>\n",
       "      <th>34</th>\n",
       "      <td>Atticus Finch</td>\n",
       "      <td>1</td>\n",
       "      <td>1965</td>\n",
       "      <td>14</td>\n",
       "    </tr>\n",
       "    <tr>\n",
       "      <th>35</th>\n",
       "      <td>Jay Gatsby</td>\n",
       "      <td>2</td>\n",
       "      <td>1985</td>\n",
       "      <td>5</td>\n",
       "    </tr>\n",
       "    <tr>\n",
       "      <th>36</th>\n",
       "      <td>Lois Lane</td>\n",
       "      <td>9</td>\n",
       "      <td>1979</td>\n",
       "      <td>26</td>\n",
       "    </tr>\n",
       "    <tr>\n",
       "      <th>37</th>\n",
       "      <td>Victor Frankenstein</td>\n",
       "      <td>9</td>\n",
       "      <td>1966</td>\n",
       "      <td>17</td>\n",
       "    </tr>\n",
       "    <tr>\n",
       "      <th>38</th>\n",
       "      <td>Veruca Salt</td>\n",
       "      <td>4</td>\n",
       "      <td>1968</td>\n",
       "      <td>19</td>\n",
       "    </tr>\n",
       "    <tr>\n",
       "      <th>39</th>\n",
       "      <td>Marion Crane</td>\n",
       "      <td>11</td>\n",
       "      <td>1960</td>\n",
       "      <td>1</td>\n",
       "    </tr>\n",
       "    <tr>\n",
       "      <th>40</th>\n",
       "      <td>Holly Golightly</td>\n",
       "      <td>10</td>\n",
       "      <td>1962</td>\n",
       "      <td>14</td>\n",
       "    </tr>\n",
       "    <tr>\n",
       "      <th>41</th>\n",
       "      <td>Rufus Firefly</td>\n",
       "      <td>9</td>\n",
       "      <td>1970</td>\n",
       "      <td>11</td>\n",
       "    </tr>\n",
       "    <tr>\n",
       "      <th>42</th>\n",
       "      <td>Bilbo Baggins</td>\n",
       "      <td>8</td>\n",
       "      <td>1983</td>\n",
       "      <td>24</td>\n",
       "    </tr>\n",
       "    <tr>\n",
       "      <th>43</th>\n",
       "      <td>Otis Driftwood</td>\n",
       "      <td>4</td>\n",
       "      <td>1975</td>\n",
       "      <td>18</td>\n",
       "    </tr>\n",
       "    <tr>\n",
       "      <th>44</th>\n",
       "      <td>Hugo Hackenbush</td>\n",
       "      <td>7</td>\n",
       "      <td>1975</td>\n",
       "      <td>8</td>\n",
       "    </tr>\n",
       "    <tr>\n",
       "      <th>45</th>\n",
       "      <td>Charlie McCarthy</td>\n",
       "      <td>6</td>\n",
       "      <td>1983</td>\n",
       "      <td>26</td>\n",
       "    </tr>\n",
       "    <tr>\n",
       "      <th>46</th>\n",
       "      <td>Mary Richards</td>\n",
       "      <td>2</td>\n",
       "      <td>1985</td>\n",
       "      <td>25</td>\n",
       "    </tr>\n",
       "  </tbody>\n",
       "</table>\n",
       "</div>"
      ],
      "text/plain": [
       "                  Names  temp_month  temp_yr  temp_day\n",
       "0           Jake Barnes           6     1985         8\n",
       "1       Quincy Wagstaff          12     1963        20\n",
       "2            James Bond           9     1964        11\n",
       "3           Emma Bovary          10     1984        15\n",
       "4       Scarlett O’Hara          12     1977         1\n",
       "5      Holden Caulfield           6     1971        25\n",
       "6         Ichabod Crane           1     1972        24\n",
       "7       Eliza Doolittle           1     1986        24\n",
       "8            Nancy Drew           2     1980         2\n",
       "9         Frodo Baggins           8     1976        18\n",
       "10          Edwin Drood           7     1973        14\n",
       "11            Sam Spade          10     1979         4\n",
       "12          Dorian Gray           3     1969         1\n",
       "13          Mike Hammer           5     1978        25\n",
       "14            Matt Helm           6     1975        14\n",
       "15     Stanley Kowalski           3     1960         7\n",
       "16          Willy Loman           5     1964        21\n",
       "17       Philip Marlowe          12     1985        22\n",
       "18          Perry Mason          11     1975         7\n",
       "19         Walter Mitty           3     1962         3\n",
       "20       Hercule Poirot           5     1983        13\n",
       "21         Mary Poppins           8     1967        28\n",
       "22    Christopher Robin           8     1986        22\n",
       "23           Tom Sawyer          10     1985        12\n",
       "24          Becky Sharp           2     1968         8\n",
       "25         Anne Shirley           8     1982        14\n",
       "26       Becky Thatcher           1     1969         9\n",
       "27       Emma Woodhouse           7     1963        12\n",
       "28       Harry Flashman          10     1967        13\n",
       "29    Elizabeth Bennett          10     1990        12\n",
       "30          Anne Elliot           8     1983        21\n",
       "31            Jane Eyre           7     1989         5\n",
       "32        Moll Flanders          10     1964         8\n",
       "33       John Yossarian           2     1987         8\n",
       "34        Atticus Finch           1     1965        14\n",
       "35           Jay Gatsby           2     1985         5\n",
       "36            Lois Lane           9     1979        26\n",
       "37  Victor Frankenstein           9     1966        17\n",
       "38          Veruca Salt           4     1968        19\n",
       "39         Marion Crane          11     1960         1\n",
       "40      Holly Golightly          10     1962        14\n",
       "41        Rufus Firefly           9     1970        11\n",
       "42        Bilbo Baggins           8     1983        24\n",
       "43       Otis Driftwood           4     1975        18\n",
       "44      Hugo Hackenbush           7     1975         8\n",
       "45     Charlie McCarthy           6     1983        26\n",
       "46        Mary Richards           2     1985        25"
      ]
     },
     "execution_count": 13,
     "metadata": {},
     "output_type": "execute_result"
    }
   ],
   "source": [
    "# Generating fake data for demo purposes\n",
    "\n",
    "# list of names \n",
    "list_names=['Jake Barnes', 'Quincy Wagstaff', 'James Bond', 'Emma Bovary',\n",
    "    \"Scarlett O’Hara\", 'Holden Caulfield', 'Ichabod Crane', 'Eliza Doolittle',\n",
    "    'Nancy Drew', 'Frodo Baggins', 'Edwin Drood', 'Sam Spade', 'Dorian Gray',\n",
    "    'Mike Hammer', 'Matt Helm', 'Stanley Kowalski', 'Willy Loman', 'Philip Marlowe',\n",
    "    'Perry Mason', 'Walter Mitty', 'Hercule Poirot', 'Mary Poppins',\n",
    "    'Christopher Robin', 'Tom Sawyer', 'Becky Sharp', 'Anne Shirley',\n",
    "    'Becky Thatcher', 'Emma Woodhouse', 'Harry Flashman', 'Elizabeth Bennett',\n",
    "    'Anne Elliot', 'Jane Eyre', 'Moll Flanders', 'John Yossarian', 'Atticus Finch',\n",
    "    'Jay Gatsby', 'Lois Lane', 'Victor Frankenstein', 'Veruca Salt', 'Marion Crane',\n",
    "    'Holly Golightly', 'Rufus Firefly', 'Bilbo Baggins', 'Otis Driftwood',\n",
    "    'Hugo Hackenbush', 'Charlie McCarthy', 'Mary Richards']\n",
    "\n",
    "# Calling DataFrame constructor on list \n",
    "df = pd.DataFrame(list_names, columns=['Names'])\n",
    "\n",
    "# Generate fake dates\n",
    "np.random.seed(1)\n",
    "df['temp_month'] = np.random.randint(1, 13, df.shape[0])\n",
    "df['temp_yr'] = np.random.randint(1960, 1991, df.shape[0])\n",
    "df['temp_day'] = np.random.randint(1, 29, df.shape[0])\n",
    "\n",
    "df\n"
   ]
  },
  {
   "cell_type": "code",
   "execution_count": 14,
   "metadata": {},
   "outputs": [
    {
     "data": {
      "text/html": [
       "<div>\n",
       "<style scoped>\n",
       "    .dataframe tbody tr th:only-of-type {\n",
       "        vertical-align: middle;\n",
       "    }\n",
       "\n",
       "    .dataframe tbody tr th {\n",
       "        vertical-align: top;\n",
       "    }\n",
       "\n",
       "    .dataframe thead th {\n",
       "        text-align: right;\n",
       "    }\n",
       "</style>\n",
       "<table border=\"1\" class=\"dataframe\">\n",
       "  <thead>\n",
       "    <tr style=\"text-align: right;\">\n",
       "      <th></th>\n",
       "      <th>Names</th>\n",
       "      <th>temp_month</th>\n",
       "      <th>temp_yr</th>\n",
       "      <th>temp_day</th>\n",
       "      <th>temp_day2</th>\n",
       "    </tr>\n",
       "  </thead>\n",
       "  <tbody>\n",
       "    <tr>\n",
       "      <th>0</th>\n",
       "      <td>Jake Barnes</td>\n",
       "      <td>6</td>\n",
       "      <td>1985</td>\n",
       "      <td>8</td>\n",
       "      <td>22</td>\n",
       "    </tr>\n",
       "    <tr>\n",
       "      <th>1</th>\n",
       "      <td>Quincy Wagstaff</td>\n",
       "      <td>12</td>\n",
       "      <td>1963</td>\n",
       "      <td>20</td>\n",
       "      <td>22</td>\n",
       "    </tr>\n",
       "    <tr>\n",
       "      <th>2</th>\n",
       "      <td>James Bond</td>\n",
       "      <td>9</td>\n",
       "      <td>1964</td>\n",
       "      <td>11</td>\n",
       "      <td>22</td>\n",
       "    </tr>\n",
       "    <tr>\n",
       "      <th>3</th>\n",
       "      <td>Emma Bovary</td>\n",
       "      <td>10</td>\n",
       "      <td>1984</td>\n",
       "      <td>15</td>\n",
       "      <td>22</td>\n",
       "    </tr>\n",
       "    <tr>\n",
       "      <th>4</th>\n",
       "      <td>Scarlett O’Hara</td>\n",
       "      <td>12</td>\n",
       "      <td>1977</td>\n",
       "      <td>1</td>\n",
       "      <td>22</td>\n",
       "    </tr>\n",
       "  </tbody>\n",
       "</table>\n",
       "</div>"
      ],
      "text/plain": [
       "             Names  temp_month  temp_yr  temp_day  temp_day2\n",
       "0      Jake Barnes           6     1985         8         22\n",
       "1  Quincy Wagstaff          12     1963        20         22\n",
       "2       James Bond           9     1964        11         22\n",
       "3      Emma Bovary          10     1984        15         22\n",
       "4  Scarlett O’Hara          12     1977         1         22"
      ]
     },
     "execution_count": 14,
     "metadata": {},
     "output_type": "execute_result"
    }
   ],
   "source": [
    "# Need to figure out looping and conditional compute (if?)\n",
    "\n",
    "# NOTE: this code generates one random number and then loops through the data set to apply it.\n",
    "for index, row in df.iterrows(): \n",
    "    df['temp_day2'] = np.random.randint(1, 29)\n",
    "df.head()\n",
    "\n"
   ]
  },
  {
   "cell_type": "code",
   "execution_count": 15,
   "metadata": {},
   "outputs": [
    {
     "data": {
      "text/html": [
       "<div>\n",
       "<style scoped>\n",
       "    .dataframe tbody tr th:only-of-type {\n",
       "        vertical-align: middle;\n",
       "    }\n",
       "\n",
       "    .dataframe tbody tr th {\n",
       "        vertical-align: top;\n",
       "    }\n",
       "\n",
       "    .dataframe thead th {\n",
       "        text-align: right;\n",
       "    }\n",
       "</style>\n",
       "<table border=\"1\" class=\"dataframe\">\n",
       "  <thead>\n",
       "    <tr style=\"text-align: right;\">\n",
       "      <th></th>\n",
       "      <th>Names</th>\n",
       "      <th>temp_month</th>\n",
       "      <th>temp_yr</th>\n",
       "      <th>temp_day</th>\n",
       "      <th>temp_day2</th>\n",
       "    </tr>\n",
       "  </thead>\n",
       "  <tbody>\n",
       "    <tr>\n",
       "      <th>0</th>\n",
       "      <td>Jake Barnes</td>\n",
       "      <td>6</td>\n",
       "      <td>1985</td>\n",
       "      <td>8</td>\n",
       "      <td>22</td>\n",
       "    </tr>\n",
       "    <tr>\n",
       "      <th>1</th>\n",
       "      <td>Quincy Wagstaff</td>\n",
       "      <td>12</td>\n",
       "      <td>1963</td>\n",
       "      <td>1</td>\n",
       "      <td>22</td>\n",
       "    </tr>\n",
       "    <tr>\n",
       "      <th>2</th>\n",
       "      <td>James Bond</td>\n",
       "      <td>9</td>\n",
       "      <td>1964</td>\n",
       "      <td>26</td>\n",
       "      <td>22</td>\n",
       "    </tr>\n",
       "    <tr>\n",
       "      <th>3</th>\n",
       "      <td>Emma Bovary</td>\n",
       "      <td>10</td>\n",
       "      <td>1984</td>\n",
       "      <td>20</td>\n",
       "      <td>22</td>\n",
       "    </tr>\n",
       "    <tr>\n",
       "      <th>4</th>\n",
       "      <td>Scarlett O’Hara</td>\n",
       "      <td>12</td>\n",
       "      <td>1977</td>\n",
       "      <td>26</td>\n",
       "      <td>22</td>\n",
       "    </tr>\n",
       "  </tbody>\n",
       "</table>\n",
       "</div>"
      ],
      "text/plain": [
       "             Names  temp_month  temp_yr  temp_day  temp_day2\n",
       "0      Jake Barnes           6     1985         8         22\n",
       "1  Quincy Wagstaff          12     1963         1         22\n",
       "2       James Bond           9     1964        26         22\n",
       "3      Emma Bovary          10     1984        20         22\n",
       "4  Scarlett O’Hara          12     1977        26         22"
      ]
     },
     "execution_count": 15,
     "metadata": {},
     "output_type": "execute_result"
    }
   ],
   "source": [
    "#df['Feb']= (df['temp_month'] == 2)    # creates a boolean\n",
    "#df\n",
    "df['temp_day'] = np.random.randint(1, 29, df.shape[0])\n",
    "df.head()\n"
   ]
  },
  {
   "cell_type": "code",
   "execution_count": null,
   "metadata": {},
   "outputs": [],
   "source": [
    "# applying groupby() function to \n",
    "# group the data on team value. \n",
    "gk = df.groupby('Team') \n",
    "  \n",
    "# Let's print the first entries \n",
    "# in all the groups formed. \n",
    "gk.first() \n",
    "\n"
   ]
  },
  {
   "cell_type": "code",
   "execution_count": null,
   "metadata": {},
   "outputs": [],
   "source": [
    "# Finding the values contained in the \"Boston Celtics\" group \n",
    "gk.get_group('Boston Celtics') \n",
    "\n"
   ]
  },
  {
   "cell_type": "code",
   "execution_count": null,
   "metadata": {},
   "outputs": [],
   "source": [
    "df.groupby(['Animal']).mean()"
   ]
  },
  {
   "cell_type": "code",
   "execution_count": null,
   "metadata": {},
   "outputs": [],
   "source": []
  },
  {
   "cell_type": "markdown",
   "metadata": {},
   "source": [
    "One term that’s frequently used alongside .groupby() is **split-apply-combine**. This refers to a chain of three steps:\n",
    "\n",
    "1. **Split** a table into groups\n",
    "2. **Apply** some operations to each of those smaller tables\n",
    "3. **Combine** the results\n"
   ]
  },
  {
   "cell_type": "code",
   "execution_count": null,
   "metadata": {},
   "outputs": [],
   "source": []
  },
  {
   "cell_type": "code",
   "execution_count": null,
   "metadata": {},
   "outputs": [],
   "source": []
  },
  {
   "cell_type": "code",
   "execution_count": null,
   "metadata": {},
   "outputs": [],
   "source": [
    "# For a sorted dataframe, compute pct_change from pervious row\n",
    "#pct_change = close[1:]/close[:-1]\n",
    "\n",
    "# import vega_dataets\n",
    "from vega_datasets import data\n",
    "\n",
    "# check to see the list of data sets\n",
    "#data.list_datasets()\n",
    "\n",
    "gapminder = data.gapminder()\n",
    "gapminder.head()\n",
    "\n",
    "#pct_change = close[1:]/close[:-1]\n"
   ]
  },
  {
   "cell_type": "markdown",
   "metadata": {
    "colab_type": "text",
    "id": "9oG4uoyAhjjX"
   },
   "source": [
    "NOTE: From this point forward, this notebook needs to be re-written\n",
    "\n",
    "### Utilizing Library Functions\n",
    "\n",
    "After importing a library, its functions can then be called from your code by prepending the library name to the function name.  For example, to use the '`dot`' function from the '`numpy`' library, you would enter '`numpy.dot`'.  To avoid repeatedly having to type the libary name in your scripts, it is conventional to define a two or three letter abbreviation for each library, e.g. '`numpy`' is usually abbreviated as '`np`'.  This allows us to use '`np.dot`' instead of '`numpy.dot`'.  Similarly, the Pandas library is typically abbreviated as '`pd`'."
   ]
  },
  {
   "cell_type": "markdown",
   "metadata": {
    "colab_type": "text",
    "id": "fip4VOLMhjjY"
   },
   "source": [
    "The next cell shows how to call functions within an imported library:"
   ]
  },
  {
   "cell_type": "code",
   "execution_count": null,
   "metadata": {
    "colab": {},
    "colab_type": "code",
    "id": "9S03bwnkhjja",
    "outputId": "f3a621eb-281b-4f96-b4a9-ca112e4f8604"
   },
   "outputs": [],
   "source": [
    "a = np.array([[1,2],[3,4]]) \n",
    "b = np.array([[11,12],[13,14]]) \n",
    "\n",
    "np.dot(a,b)"
   ]
  },
  {
   "cell_type": "markdown",
   "metadata": {
    "colab_type": "text",
    "id": "ljjQpFYfhjje"
   },
   "source": [
    "As you can see, we used the dot() function within the numpy library to calculate the dot product of two arrays, a and b."
   ]
  },
  {
   "cell_type": "markdown",
   "metadata": {
    "colab_type": "text",
    "id": "auNcbdxVhjjf"
   },
   "source": [
    "# Data Management\n",
    "\n",
    "Data management is a crucial component to statistical analysis and data science work.  The following code will show how to import data via the pandas library, view your data, and transform your data.\n",
    "\n",
    "The main data structure that Pandas works with is called a **Data Frame**.  This is a two-dimensional table of data in which the rows typically represent cases (e.g. Cartwheel Contest Participants), and the columns represent variables.  Pandas also has a one-dimensional data structure called a **Series** that we will encounter when accesing a single column of a Data Frame.\n",
    "\n",
    "Pandas has a variety of functions named '`read_xxx`' for reading data in different formats.  Right now we will focus on reading '`csv`' files, which stands for comma-separated values. However the other file formats include excel, json, and sql just to name a few.\n",
    "\n",
    "There are many other options to '`read_csv`' that are very useful.  For example, you would use the option `sep='\\t'` instead of the default `sep=','` if the fields of your data file are delimited by tabs instead of commas.  See [here](https://pandas.pydata.org/pandas-docs/stable/generated/pandas.read_csv.html) for the full documentation for '`read_csv`'."
   ]
  },
  {
   "cell_type": "markdown",
   "metadata": {
    "colab_type": "text",
    "id": "MbGKgakihjjg"
   },
   "source": [
    "### Importing Data"
   ]
  },
  {
   "cell_type": "code",
   "execution_count": null,
   "metadata": {
    "colab": {},
    "colab_type": "code",
    "id": "DXHHhj2jhjjg",
    "outputId": "af99e411-9c09-44aa-d619-553b2d2a5aa8"
   },
   "outputs": [],
   "source": [
    "# Store the url string that hosts our .csv file\n",
    "url = \"Cartwheeldata.csv\"\n",
    "\n",
    "# Read the .csv file and store it as a pandas Data Frame\n",
    "df = pd.read_csv(url)\n",
    "\n",
    "# Output object type\n",
    "type(df)"
   ]
  },
  {
   "cell_type": "markdown",
   "metadata": {
    "colab_type": "text",
    "id": "-TrO3YWShjjl"
   },
   "source": [
    "### Viewing Data"
   ]
  },
  {
   "cell_type": "code",
   "execution_count": null,
   "metadata": {
    "colab": {},
    "colab_type": "code",
    "id": "IMgR30w4hjjl",
    "outputId": "9a269897-78a7-4380-9634-81d2d6165c2d"
   },
   "outputs": [],
   "source": [
    "# We can view our Data Frame by calling the head() function\n",
    "df.head()"
   ]
  },
  {
   "cell_type": "markdown",
   "metadata": {
    "colab_type": "text",
    "id": "rwcqqpCrhjjp"
   },
   "source": [
    "The head() function simply shows the first 5 rows of our Data Frame.  If we wanted to show the entire Data Frame we would simply write the following:"
   ]
  },
  {
   "cell_type": "code",
   "execution_count": null,
   "metadata": {
    "colab": {},
    "colab_type": "code",
    "id": "clB7ZnfOhjjq",
    "outputId": "32b34b9e-c481-4c46-b443-488ac7097c55"
   },
   "outputs": [],
   "source": [
    "# Output entire Data Frame\n",
    "df"
   ]
  },
  {
   "cell_type": "markdown",
   "metadata": {
    "colab_type": "text",
    "id": "-F1DVbu4hjju"
   },
   "source": [
    "As you can see, we have a 2-Dimensional object where each row is an independent observation of our cartwheel data.\n",
    "\n",
    "To gather more information regarding the data, we can view the column names and data types of each column with the following functions:"
   ]
  },
  {
   "cell_type": "code",
   "execution_count": null,
   "metadata": {
    "colab": {},
    "colab_type": "code",
    "id": "pEdgVYnDhjjv",
    "outputId": "3c4a5edc-e29d-4665-b58c-b2e9fa125442"
   },
   "outputs": [],
   "source": [
    "df.columns"
   ]
  },
  {
   "cell_type": "markdown",
   "metadata": {
    "colab_type": "text",
    "id": "oeR8lBkmhjjz"
   },
   "source": [
    "Lets say we would like to splice our data frame and select only specific portions of our data.  There are three different ways of doing so.\n",
    "\n",
    "1. .loc()\n",
    "2. .iloc()\n",
    "3. .ix()\n",
    "\n",
    "We will cover the .loc() and .iloc() splicing functions.\n",
    "\n",
    "### .loc()\n",
    ".loc() takes two single/list/range operator separated by ','. The first one indicates the row and the second one indicates columns."
   ]
  },
  {
   "cell_type": "code",
   "execution_count": null,
   "metadata": {
    "colab": {},
    "colab_type": "code",
    "id": "HpUEXXovhjj0",
    "outputId": "d4f26af0-9769-4fc1-c7ae-679e3dbf7c69"
   },
   "outputs": [],
   "source": [
    "# Return all observations of CWDistance\n",
    "df.loc[:,\"CWDistance\"]"
   ]
  },
  {
   "cell_type": "code",
   "execution_count": null,
   "metadata": {
    "colab": {},
    "colab_type": "code",
    "id": "vmZyHBk_hjj4",
    "outputId": "3d76358a-cd47-43bb-fd69-9f858f03add1"
   },
   "outputs": [],
   "source": [
    "# Select all rows for multiple columns, [\"CWDistance\", \"Height\", \"Wingspan\"]\n",
    "df.loc[:,[\"CWDistance\", \"Height\", \"Wingspan\"]]"
   ]
  },
  {
   "cell_type": "code",
   "execution_count": null,
   "metadata": {
    "colab": {},
    "colab_type": "code",
    "id": "xi9U34Kwhjj8",
    "outputId": "e6413dbf-1ffe-4af4-e6b9-95e6d7c56dc0"
   },
   "outputs": [],
   "source": [
    "# Select few rows for multiple columns, [\"CWDistance\", \"Height\", \"Wingspan\"]\n",
    "df.loc[:9, [\"CWDistance\", \"Height\", \"Wingspan\"]]"
   ]
  },
  {
   "cell_type": "code",
   "execution_count": null,
   "metadata": {
    "colab": {},
    "colab_type": "code",
    "id": "8SACpAZDhjkA",
    "outputId": "79f0f222-85ed-4224-8242-69a8ae2742ff"
   },
   "outputs": [],
   "source": [
    "# Select range of rows for all columns\n",
    "df.loc[10:15]"
   ]
  },
  {
   "cell_type": "markdown",
   "metadata": {
    "colab_type": "text",
    "id": "ALS06G3rhjkC"
   },
   "source": [
    "The .loc() function requires to arguments, the indices of the rows and the column names you wish to observe.\n",
    "\n",
    "In the above case **:** specifies all rows, and our column is **CWDistance**. df.loc[**:**,**\"CWDistance\"**]"
   ]
  },
  {
   "cell_type": "markdown",
   "metadata": {
    "colab_type": "text",
    "id": "DG7GYn4nhjkE"
   },
   "source": [
    "Now, let's say we only want to return the first 10 observations:"
   ]
  },
  {
   "cell_type": "code",
   "execution_count": null,
   "metadata": {
    "colab": {},
    "colab_type": "code",
    "id": "rKfblg4KhjkE",
    "outputId": "b3f4df29-8b8e-4a58-e69c-403dcd5a4dc5"
   },
   "outputs": [],
   "source": [
    "df.loc[:9, \"CWDistance\"]"
   ]
  },
  {
   "cell_type": "markdown",
   "metadata": {
    "colab_type": "text",
    "id": "DhluNGL1hjkI"
   },
   "source": [
    "### .iloc()\n",
    ".iloc() is integer based slicing, whereas .loc() used labels/column names. Here are some examples:"
   ]
  },
  {
   "cell_type": "code",
   "execution_count": null,
   "metadata": {
    "colab": {},
    "colab_type": "code",
    "id": "6u1A-2drhjkJ",
    "outputId": "1eaf5856-74d9-4b2e-d8a4-93e163973cae"
   },
   "outputs": [],
   "source": [
    "df.iloc[:4]"
   ]
  },
  {
   "cell_type": "code",
   "execution_count": null,
   "metadata": {
    "colab": {},
    "colab_type": "code",
    "id": "L7U4Db6WhjkM",
    "outputId": "4068bbfc-c246-4847-bcd6-bce52656a71b"
   },
   "outputs": [],
   "source": [
    "df.iloc[1:5, 2:4]"
   ]
  },
  {
   "cell_type": "code",
   "execution_count": null,
   "metadata": {
    "colab": {},
    "colab_type": "code",
    "id": "Cot4DwdUhjkQ",
    "outputId": "52430bbe-8bab-48ac-b43d-deba59750797"
   },
   "outputs": [],
   "source": [
    "df.iloc[1:5, [\"Gender\", \"GenderGroup\"]]"
   ]
  },
  {
   "cell_type": "markdown",
   "metadata": {
    "colab_type": "text",
    "id": "FIekmzj6hjkT"
   },
   "source": [
    "We can view the data types of our data frame columns with by calling .dtypes on our data frame:"
   ]
  },
  {
   "cell_type": "code",
   "execution_count": null,
   "metadata": {
    "colab": {},
    "colab_type": "code",
    "id": "VVvtjY7ghjkU",
    "outputId": "4cb2e4f1-19f7-46f8-b5f4-3d1d3b779c67"
   },
   "outputs": [],
   "source": [
    "df.dtypes"
   ]
  },
  {
   "cell_type": "markdown",
   "metadata": {
    "colab_type": "text",
    "id": "fxzHKNfKhjkX"
   },
   "source": [
    "The output indicates we have integers, floats, and objects with our Data Frame.\n",
    "\n",
    "We may also want to observe the different unique values within a specific column, lets do this for Gender:"
   ]
  },
  {
   "cell_type": "code",
   "execution_count": null,
   "metadata": {
    "colab": {},
    "colab_type": "code",
    "id": "brIC2kbKhjkZ",
    "outputId": "b3c7b6f1-3c6b-4145-ff19-a3437e298212"
   },
   "outputs": [],
   "source": [
    "# List unique values in the df['Gender'] column\n",
    "df.Gender.unique()"
   ]
  },
  {
   "cell_type": "code",
   "execution_count": null,
   "metadata": {
    "colab": {},
    "colab_type": "code",
    "id": "Js4ikCVWhjkc",
    "outputId": "4cfbdf05-044e-4c56-9430-d392a589e9ee"
   },
   "outputs": [],
   "source": [
    "# Lets explore df[\"GenderGroup] as well\n",
    "df.GenderGroup.unique()"
   ]
  },
  {
   "cell_type": "markdown",
   "metadata": {
    "colab_type": "text",
    "id": "a3pqgpifhjkf"
   },
   "source": [
    "It seems that these fields may serve the same purpose, which is to specify male vs. female. Lets check this quickly by observing only these two columns:"
   ]
  },
  {
   "cell_type": "code",
   "execution_count": null,
   "metadata": {
    "colab": {},
    "colab_type": "code",
    "id": "8Oqj-XOghjkf",
    "outputId": "a02d15e9-bd6c-4f41-aa26-10dc0d8697e4"
   },
   "outputs": [],
   "source": [
    "# Use .loc() to specify a list of mulitple column names\n",
    "df.loc[:,[\"Gender\", \"GenderGroup\"]]"
   ]
  },
  {
   "cell_type": "markdown",
   "metadata": {
    "colab_type": "text",
    "id": "n0S7vCwphjkj"
   },
   "source": [
    "From eyeballing the output, it seems to check out.  We can streamline this by utilizing the groupby() and size() functions."
   ]
  },
  {
   "cell_type": "code",
   "execution_count": null,
   "metadata": {
    "colab": {},
    "colab_type": "code",
    "id": "nNvUQetJhjkj",
    "outputId": "3eedb9e8-0d1a-4a1f-ff65-f7ee4a178c5e"
   },
   "outputs": [],
   "source": [
    "df.groupby(['Gender','GenderGroup']).size()"
   ]
  },
  {
   "cell_type": "markdown",
   "metadata": {
    "colab_type": "text",
    "id": "7bHLzOH2hjkn"
   },
   "source": [
    "This output indicates that we have two types of combinations. \n",
    "\n",
    "* Case 1: Gender = F & Gender Group = 1 \n",
    "* Case 2: Gender = M & GenderGroup = 2.  \n",
    "\n",
    "This validates our initial assumption that these two fields essentially portray the same information."
   ]
  }
 ],
 "metadata": {
  "colab": {
   "name": "Introduction to Libraries and Data Management.ipynb",
   "provenance": [],
   "version": "0.3.2"
  },
  "kernelspec": {
   "display_name": "Python 3",
   "language": "python",
   "name": "python3"
  },
  "language_info": {
   "codemirror_mode": {
    "name": "ipython",
    "version": 3
   },
   "file_extension": ".py",
   "mimetype": "text/x-python",
   "name": "python",
   "nbconvert_exporter": "python",
   "pygments_lexer": "ipython3",
   "version": "3.7.6"
  }
 },
 "nbformat": 4,
 "nbformat_minor": 1
}

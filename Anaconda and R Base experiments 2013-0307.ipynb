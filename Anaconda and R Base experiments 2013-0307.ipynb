{
 "cells": [
  {
   "cell_type": "markdown",
   "id": "ee9c5763",
   "metadata": {},
   "source": [
    "Anaconda and R Base experiments"
   ]
  },
  {
   "cell_type": "markdown",
   "id": "85a7b116",
   "metadata": {},
   "source": [
    "conda deactivate  \n",
    "  \n",
    "conda create --name r4-base  \n",
    "  \n",
    "conda activate r4-base  \n",
    "  \n",
    "**installs r-base from conda-forge**  \n",
    "conda install -c conda-forge r-base\n",
    "  \n",
    "**NOTE: gcc7 appears to be a \"repo\"**  \n",
    "conda install -c conda-forge/label/gcc7 r-base  \n",
    "\n",
    "conda install jupyter\n",
    "\n",
    "**installs irkernel from conda-forge**  \n",
    "conda install -c conda-forge r-irkernel  \n",
    "  \n",
    "conda list                  "
   ]
  },
  {
   "cell_type": "code",
   "execution_count": 1,
   "id": "904bc5f9",
   "metadata": {},
   "outputs": [
    {
     "data": {
      "text/plain": [
       "               _                           \n",
       "platform       x86_64-w64-mingw32          \n",
       "arch           x86_64                      \n",
       "os             mingw32                     \n",
       "system         x86_64, mingw32             \n",
       "status                                     \n",
       "major          4                           \n",
       "minor          1.3                         \n",
       "year           2022                        \n",
       "month          03                          \n",
       "day            10                          \n",
       "svn rev        81868                       \n",
       "language       R                           \n",
       "version.string R version 4.1.3 (2022-03-10)\n",
       "nickname       One Push-Up                 "
      ]
     },
     "metadata": {},
     "output_type": "display_data"
    }
   ],
   "source": [
    "# A new\n",
    "version"
   ]
  },
  {
   "cell_type": "code",
   "execution_count": 4,
   "id": "9290dce1",
   "metadata": {},
   "outputs": [
    {
     "name": "stderr",
     "output_type": "stream",
     "text": [
      "Installing package into 'C:/Users/etorpy/Documents/R/win-library/4.1'\n",
      "(as 'lib' is unspecified)\n",
      "\n",
      "also installing the dependencies 'lattice', 'colorspace', 'nlme', 'Matrix', 'farver', 'labeling', 'munsell', 'R6', 'RColorBrewer', 'viridisLite', 'magrittr', 'pkgconfig', 'gtable', 'isoband', 'MASS', 'mgcv', 'scales', 'tibble', 'withr'\n",
      "\n",
      "\n"
     ]
    },
    {
     "name": "stdout",
     "output_type": "stream",
     "text": [
      "\n",
      "  There is a binary version available but the source version is later:\n",
      "       binary   source needs_compilation\n",
      "MASS 7.3-58.2 7.3-58.3              TRUE\n",
      "\n",
      "  Binaries will be installed\n",
      "package 'lattice' successfully unpacked and MD5 sums checked\n",
      "package 'colorspace' successfully unpacked and MD5 sums checked\n",
      "package 'nlme' successfully unpacked and MD5 sums checked\n",
      "package 'Matrix' successfully unpacked and MD5 sums checked\n",
      "package 'farver' successfully unpacked and MD5 sums checked\n",
      "package 'labeling' successfully unpacked and MD5 sums checked\n",
      "package 'munsell' successfully unpacked and MD5 sums checked\n",
      "package 'R6' successfully unpacked and MD5 sums checked\n",
      "package 'RColorBrewer' successfully unpacked and MD5 sums checked\n",
      "package 'viridisLite' successfully unpacked and MD5 sums checked\n",
      "package 'magrittr' successfully unpacked and MD5 sums checked\n",
      "package 'pkgconfig' successfully unpacked and MD5 sums checked\n",
      "package 'gtable' successfully unpacked and MD5 sums checked\n",
      "package 'isoband' successfully unpacked and MD5 sums checked\n",
      "package 'MASS' successfully unpacked and MD5 sums checked\n",
      "package 'mgcv' successfully unpacked and MD5 sums checked\n",
      "package 'scales' successfully unpacked and MD5 sums checked\n",
      "package 'tibble' successfully unpacked and MD5 sums checked\n",
      "package 'withr' successfully unpacked and MD5 sums checked\n",
      "package 'ggplot2' successfully unpacked and MD5 sums checked\n",
      "\n",
      "The downloaded binary packages are in\n",
      "\tC:\\Users\\etorpy\\AppData\\Local\\Temp\\Rtmp69EIa5\\downloaded_packages\n"
     ]
    }
   ],
   "source": [
    "# Check to see if the ggplot2 and dlstats packages are already installed\n",
    "# system.file(package='r-ggplot2')  \n",
    "install.packages('ggplot2')   # install ggplot"
   ]
  },
  {
   "cell_type": "code",
   "execution_count": 5,
   "id": "26e3472d",
   "metadata": {},
   "outputs": [
    {
     "data": {
      "text/html": [
       "'C:/Users/etorpy/Documents/R/win-library/4.1/ggplot2'"
      ],
      "text/latex": [
       "'C:/Users/etorpy/Documents/R/win-library/4.1/ggplot2'"
      ],
      "text/markdown": [
       "'C:/Users/etorpy/Documents/R/win-library/4.1/ggplot2'"
      ],
      "text/plain": [
       "[1] \"C:/Users/etorpy/Documents/R/win-library/4.1/ggplot2\""
      ]
     },
     "metadata": {},
     "output_type": "display_data"
    }
   ],
   "source": [
    "system.file(package='ggplot2')  "
   ]
  },
  {
   "cell_type": "code",
   "execution_count": 6,
   "id": "de2368be",
   "metadata": {},
   "outputs": [
    {
     "data": {
      "text/plain": [
       "               _                           \n",
       "platform       x86_64-w64-mingw32          \n",
       "arch           x86_64                      \n",
       "os             mingw32                     \n",
       "system         x86_64, mingw32             \n",
       "status                                     \n",
       "major          4                           \n",
       "minor          1.3                         \n",
       "year           2022                        \n",
       "month          03                          \n",
       "day            10                          \n",
       "svn rev        81868                       \n",
       "language       R                           \n",
       "version.string R version 4.1.3 (2022-03-10)\n",
       "nickname       One Push-Up                 "
      ]
     },
     "metadata": {},
     "output_type": "display_data"
    }
   ],
   "source": [
    "version\n"
   ]
  },
  {
   "cell_type": "code",
   "execution_count": null,
   "id": "85e887dd",
   "metadata": {},
   "outputs": [],
   "source": []
  }
 ],
 "metadata": {
  "kernelspec": {
   "display_name": "R",
   "language": "R",
   "name": "ir"
  },
  "language_info": {
   "codemirror_mode": "r",
   "file_extension": ".r",
   "mimetype": "text/x-r-source",
   "name": "R",
   "pygments_lexer": "r",
   "version": "4.1.3"
  }
 },
 "nbformat": 4,
 "nbformat_minor": 5
}

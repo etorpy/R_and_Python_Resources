{
 "cells": [
  {
   "cell_type": "markdown",
   "id": "0dccc9c2",
   "metadata": {},
   "source": [
    "### R Programming From an SPSS Perspective"
   ]
  },
  {
   "cell_type": "code",
   "execution_count": 1,
   "id": "c78c0bd4",
   "metadata": {},
   "outputs": [
    {
     "data": {
      "text/plain": [
       "               _                           \n",
       "platform       x86_64-w64-mingw32          \n",
       "arch           x86_64                      \n",
       "os             mingw32                     \n",
       "system         x86_64, mingw32             \n",
       "status                                     \n",
       "major          3                           \n",
       "minor          6.1                         \n",
       "year           2019                        \n",
       "month          07                          \n",
       "day            05                          \n",
       "svn rev        76782                       \n",
       "language       R                           \n",
       "version.string R version 3.6.1 (2019-07-05)\n",
       "nickname       Action of the Toes          "
      ]
     },
     "metadata": {},
     "output_type": "display_data"
    }
   ],
   "source": [
    "# R Programming From an SPSS Perspective\n",
    "# Last updated 2/4/2023\n",
    "version # show the version of R used in Anaconda"
   ]
  },
  {
   "cell_type": "code",
   "execution_count": null,
   "id": "b7eeadda",
   "metadata": {},
   "outputs": [],
   "source": []
  }
 ],
 "metadata": {
  "kernelspec": {
   "display_name": "R",
   "language": "R",
   "name": "ir"
  },
  "language_info": {
   "codemirror_mode": "r",
   "file_extension": ".r",
   "mimetype": "text/x-r-source",
   "name": "R",
   "pygments_lexer": "r",
   "version": "3.6.1"
  }
 },
 "nbformat": 4,
 "nbformat_minor": 5
}

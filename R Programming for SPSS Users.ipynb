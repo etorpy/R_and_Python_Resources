{
 "cells": [
  {
   "cell_type": "markdown",
   "id": "93cbf11b",
   "metadata": {},
   "source": [
    "#### IMPORTANT NOTES about Anaconda\n",
    "As of Feb 2023, Anaconda has issues with R.  Anconda is using R Base 3.6.1, while the current version of R Base is 4.2.2.  It's unclear what the problem is, but the R environment that Anaconda is using causes a multitude of problems with other R packages, including nearly everything from the tidyverse (aka RStudio)."
   ]
  },
  {
   "cell_type": "markdown",
   "id": "0dccc9c2",
   "metadata": {},
   "source": [
    "## R Programming For SPSS Users\n",
    "From 2003 - 2009, I taught software training courses for SPSS Inc.  The contents of this notebook are partially inspired by the course titled \"Statistical Analysis Using SPSS\" that I frequenty taught during that time.  Another important source is a book titled \"R for SAS and SPSS Users\" by Robert Muenchen.  If you already know how to write SPSS Statistics syntax (code) or SAS code and want to learn how to do similiar things in R, Bob's book is highly recommended.  The following URL will take you to the web site for Bob's book: https://r4stats.com/  \n",
    "\n",
    "=================  \n",
    "### Two options for how to call a variable from a dataframe\n",
    "\n",
    "You can call var1 by first specifying the name of the data set (e.g., mydata):  \n",
    "- mydata$var1  \n",
    "- mydata[,\"var1\"]  \n",
    "  \n",
    "Alternatively, use the function **attach()**, which attaches the data set to the R search path. You can now refer to variables by name. The function **detach()** undoes attach().  \n",
    "- attach(mydata)  \n",
    "- var1  \n",
    "- detach(mydata)  \n",
    "\n",
    "=================  \n",
    "### R Tutorials  \n",
    "\n",
    "** Tutorials Point: Learn R Programming  (old tutorial from around 2015, but still very good)\n",
    "https://www.tutorialspoint.com/r/index.htm  \n"
   ]
  },
  {
   "cell_type": "markdown",
   "id": "a9d2b60d",
   "metadata": {},
   "source": [
    "### R 4.0 is a major new release of R  \n",
    "R Base 4.0.0 was released on April 4, 2020.  \n",
    "\n",
    "Major R language update brings big changes  \n",
    "https://www.infoworld.com/article/3540989/major-r-language-update-brings-big-changes.html  \n",
    "\n",
    "NOTE: As of Feb 2023, the Anaconda distribution uses R Base 3.6.1 and this notebook uses that version  \n",
    "\n"
   ]
  },
  {
   "cell_type": "markdown",
   "id": "6b970162",
   "metadata": {},
   "source": [
    "#### Possibly useful resources\n",
    "\n",
    "SPSS to R function locator  \n",
    "https://users.phhp.ufl.edu/marsiske/r/  \n"
   ]
  },
  {
   "cell_type": "code",
   "execution_count": null,
   "id": "10b4292e",
   "metadata": {},
   "outputs": [],
   "source": [
    "### R Packages covered  \n",
    "- vcd: Visualizing Categorical Data"
   ]
  },
  {
   "cell_type": "markdown",
   "id": "6ceaa5b7",
   "metadata": {},
   "source": [
    "### Procedures covered\n",
    "- head(): returns the first six rows in the data frame   \n",
    "- summary(): frequencies & descriptive statistics   \n",
    "- transform (aka compute): \n",
    "- recode  -  mydata$qr1 <- recode(q1, \"1=2; 5=4\")\n",
    "\n"
   ]
  },
  {
   "cell_type": "markdown",
   "id": "bec40981",
   "metadata": {},
   "source": [
    "## Useful R Packages to consider\n",
    "\n",
    "**R pkg download stats**  \n",
    "https://ipub.com/dev-corner/apps/r-package-downloads/  \n",
    "an interactive graph of downloads over time from the RStudio CRAN Mirror  \n",
    "\n",
    "**Demo and Testing Datasets for Predictive Modeling** (available in R packages)  \n",
    "modeldata: Data Sets Useful for Modeling Examples  (part of the TidyVerse)  \n",
    "https://github.com/tidymodels/modeldata  \n",
    "\n",
    "\n",
    "### Data Manipulation\n",
    "\n",
    "**dplyr**  \n",
    "dplyr is the package which is used for data manipulation by providing different sets of verbs like select(), arrange(), filter(), summarise(), and mutate(). dplyr is a new package which provides a set of tools for efficiently manipulating datasets in R. dplyr is the next iteration of plyr, focussing on only data frames. dplyr is faster, has a more consistent API and should be easier to use.  \n",
    "**dplyr Tutorial**  \n",
    "http://personales.upv.es/algarsal/R-tutorials/07_Tutorial-7_R-dplyr-tidyr.html  \n",
    "\n",
    "**plyr** - Tools for Splitting, Applying and Combining Data  \n",
    "A quick introduction to plyr  \n",
    "https://seananderson.ca/courses/12-plyr/plyr_2012.pdf  \n",
    "\n",
    "Data Manipulation in R – Alter, Sample, Reduce & Elaborate Datasets  \n",
    "https://techvidvan.com/tutorials/data-manipulation-r/  \n",
    "\n",
    "\n",
    "### String Manipulation\n",
    "**stringi**  \n",
    "The original badass, mack daddy of string manipulation for R.  stringr is based on stringi. stringi works with the R Base that is installed in Anaconda as of Feb 2023.  \n",
    "**stringr**  \n",
    "A tidyverse package that uses a subset of stringi and is generally more simple to use. Note that there are problems with using R Studio and tidyverse packages with the R Base that is installed in Anaconda as of Feb 2023.  \n",
    "\n",
    "Top 10 String Manipulation Functions in R programming  \n",
    "https://techvidvan.com/tutorials/r-string-manipulation/  \n",
    "\n",
    "\n",
    "### Summary Statistics of Individual Variables\n",
    "Numeric output will be in the form of frequency tables (numeric variables) and descriptive statisics (categorical variables)  \n",
    "Graph output includes bar charts and histograms  \n",
    "**Frequencies**  \n",
    "Frequencies and Crosstabs  \n",
    "https://www.statmethods.net/stats/frequencies.html  \n",
    "\n",
    "\n",
    "### Statistical Analysis & Machine Learning\n",
    "\n",
    "7 Best R Packages for Machine Learning  \n",
    "https://www.geeksforgeeks.org/7-best-r-packages-for-machine-learning/  \n",
    "\n",
    "\n",
    "Generalized Linear Models in R – Components, Types and Implementation  \n",
    "https://techvidvan.com/tutorials/r-generalized-linear-models/  \n",
    "\n",
    "\n",
    "- **Hmisc** (Frank Harrell’s Hmisc package - extremely popular)  \n",
    "Contains functions (e.g. describe, rcorr, errbar, tabulr) that produce more informative output than standard R functions  \n",
    "https://hbiostat.org/rflow/  \n",
    "\n",
    "- **gmodels** - Various R Programming Tools for Model Fitting  \n",
    "includes a very good crosstabs function  \n",
    "\n",
    "- **randomForest** - Breiman and Cutler's Random Forests for Classification and Regression  \n",
    "NOTE: Depends: R (≥ 4.1.0)  \n",
    "Tutorials Point: R - Random Forest  \n",
    "https://www.tutorialspoint.com/r/r_random_forest.htm  \n",
    "  \n",
    "- **rpart** Recursive Partitioning and Regression Trees  \n",
    "- **cluster** \"Finding Groups in Data\": Cluster Analysis Extended Rousseeuw et al.  \n",
    "Data Clustering Basics  (uses the cluster package)  \n",
    "https://www.datanovia.com/en/courses/data-clustering-basics/  \n",
    "- **DBSCAN** (Density-Based Spatial Clustering and Application with Noise)  \n",
    "DBSCAN: Density-Based Clustering Essentials  \n",
    "https://www.datanovia.com/en/lessons/dbscan-density-based-clustering-essentials/  \n",
    "\n",
    "- **XGBoost** (gradient boosting)  \n",
    "XGBoost is an implementation of the gradient boosting framework. It also provides an interface for R where the model in R's caret package is also present. Its speed and performance are faster than the implementation in H20, Spark, and Python. This package's primary use case is for machine learning tasks like classification, ranking problems, and regression.\n",
    "\n",
    "- **Caret** (Classification And Regression Training)\n",
    "A caret package is a short form of Classification And Regression Training used for predictive modeling where it provides the tools for the following process.  \n",
    "1) Pre-Processing: Where data is pre-processed and also the missing data is checked.preprocess() is provided by caret for doing such task.  \n",
    "2) Data splitting: Splitting the training data into two similar categorical data sets is done.  \n",
    "3) Feature selection: Techniques which is most suitable like Recursive Feature selection can be used.  \n",
    "4) Training Model: caret provides many packages for machine learning algorithms.  \n",
    "5) Resampling for model tuning: The model can be tuned using repeated k-fold, k-fold, etc. Also, the parameter can be tuned using 'tuneLength.'  \n",
    "6) Variable importance estimation: vlamp() can be used for any model to access the variable importance estimation.  \n",
    "\n",
    "- **C50** (C5.0 Decision Trees and Rule-Based Models)  \n",
    "\n",
    "\n",
    "- **e1071** (Misc Functions of the Department of Statistics, Probability Theory Group)  \n",
    "SVM in R for Data Classification using e1071 Package  \n",
    "https://techvidvan.com/tutorials/svm-in-r/  \n",
    "\n",
    "- **R Base GLM for logistic regression**  [see ISLR2]  \n",
    " **ISLR2** - R package that supports the book \"An Introduction to Statistical Learning, 2nd Ed (2021)\"   \n",
    "R Files and Jupyter Notebooks for ISLR2 and the book    \n",
    "https://www.statlearning.com/resources-second-edition  \n",
    "An Introduction to Statistical Learning, 2nd Ed (2021)  \n",
    "https://www.statlearning.com/  \n",
    "How to Build a Logistic Regression Model in R?  \n",
    "https://www.projectpro.io/article/example-on-how-to-do-logistic-regression-in-r/542  \n",
    "\n",
    "- **psych**  \n",
    "useful for personality and psychological research  \n",
    "\n",
    "- **mlr3**  \n",
    "mlr3 package is created for doing Machine Learning with an emphasis on scalability. (NOTE: Not very popular compared to Caret and XGBoost)  \n",
    "mlr3: Machine Learning in R - Next Generation  \n",
    "https://mlr3.mlr-org.com/reference/mlr3-package.html  \n",
    "Machine Learning in R with mlr3  \n",
    "https://seandavi.github.io/ITR/machine_learning_mlr3.html  \n",
    "\n",
    "\n",
    "### Graphs\n",
    "\n",
    "Saving Graphs to Files in R in Easy Steps  \n",
    "https://techvidvan.com/tutorials/saving-graphs-to-files-in-r/  \n",
    "\n",
    "Graphical Data Analysis in R – Types and Examples  \n",
    "https://techvidvan.com/tutorials/graphical-data-analysis-in-r/  \n",
    "\n",
    "\n",
    "**ggplot2**  \n",
    "ggplot2 Overview and Cheatsheet  \n",
    "https://ggplot2.tidyverse.org/  \n",
    "\n",
    "ggplot2 Graph Gallery  \n",
    "https://r-graph-gallery.com/ggplot2-package.html  \n",
    "\n",
    "R Graphics Cookbook, 2nd edition  \n",
    "https://r-graphics.org/  \n",
    "\n",
    "\n"
   ]
  },
  {
   "cell_type": "markdown",
   "id": "de24bd1d",
   "metadata": {},
   "source": [
    "Following the topics covered in the **Introduction to Statistical Analysis Using SPSS Statistics** course, the following topics will be covered in this notebook:\n",
    "\n",
    "- Data Distributions for Categorical Variables\n",
    "\n",
    "- Data Distributions for Scale Variables\n",
    "\n",
    "- Relationships Between Categorical Variables\n",
    "\n",
    "- The Independent- Samples T Test\n",
    "\n",
    "- The Paired-Samples T Test\n",
    "\n",
    "- One-Way ANOVA\n",
    "\n",
    "- Bivariate Plots and Correlations for Scale Variables\n",
    "\n",
    "- Regression Analysis\n",
    "\n",
    "- Nonparametric Tests\n"
   ]
  },
  {
   "cell_type": "code",
   "execution_count": 1,
   "id": "4d5a3eda",
   "metadata": {},
   "outputs": [],
   "source": [
    "# dlstats: Download stats of R packages\n",
    "# https://cran.r-project.org/web/packages/dlstats/vignettes/dlstats.html#download-stats-of-cran-packages\n",
    "\n",
    "# Check to see if the ggplot2 and dlstats packages are already installed\n",
    "# system.file(package='r-ggplot2')  \n",
    "# install.packages('r-ggplot2')\n",
    "\n",
    "#system.file(package='stringi')  \n",
    "#install.packages('stringi')\n",
    "\n",
    "library()  #list all the installed packages\n"
   ]
  },
  {
   "cell_type": "code",
   "execution_count": 3,
   "id": "f0ee1d2f",
   "metadata": {},
   "outputs": [
    {
     "ename": "ERROR",
     "evalue": "Error in library(\"ggplot2\"): there is no package called 'ggplot2'\n",
     "output_type": "error",
     "traceback": [
      "Error in library(\"ggplot2\"): there is no package called 'ggplot2'\nTraceback:\n",
      "1. library(\"ggplot2\")"
     ]
    }
   ],
   "source": [
    "library(\"ggplot2\")\n",
    "library(\"dlstats\")\n",
    "\n",
    "# Shows downlaods of two packages: stringi and stringr\n",
    "\n",
    "x <- cran_stats(c(\"stringi\", \"stringr\"))\n",
    "\n",
    "if (!is.null(x)) {\n",
    "   print(head(x))\n",
    "   ggplot(x, aes(end, downloads, group=package, color=package)) +\n",
    "       geom_line() + \n",
    "       geom_point() +\n",
    "       scale_y_log10()\n",
    "}"
   ]
  },
  {
   "cell_type": "code",
   "execution_count": 5,
   "id": "c78c0bd4",
   "metadata": {
    "scrolled": true
   },
   "outputs": [
    {
     "data": {
      "text/plain": [
       "               _                           \n",
       "platform       x86_64-w64-mingw32          \n",
       "arch           x86_64                      \n",
       "os             mingw32                     \n",
       "system         x86_64, mingw32             \n",
       "status                                     \n",
       "major          4                           \n",
       "minor          1.3                         \n",
       "year           2022                        \n",
       "month          03                          \n",
       "day            10                          \n",
       "svn rev        81868                       \n",
       "language       R                           \n",
       "version.string R version 4.1.3 (2022-03-10)\n",
       "nickname       One Push-Up                 "
      ]
     },
     "metadata": {},
     "output_type": "display_data"
    }
   ],
   "source": [
    "# Last updated 3/7/2023\n",
    "# Anaconda installs R 3.6.1 (4.0 was release in April 2020)\n",
    "\n",
    "# R 4.1.3 was manually installed in a new Anaconda environment using the Anaconda prompt\n",
    "# ----------------\n",
    "# conda deactivate                                # deactivates the current environment\n",
    "# conda create --name r4-base\n",
    "# conda activate r4-base                          # make r4-base the active environment\n",
    "# conda install -c conda-forge r-base             # installs r-base from conda-forge\n",
    "# conda install -c conda-forge/label/gcc7 r-base  # NOTE: gcc7 appears to be a \"repo\"\n",
    "# conda install jupyter\n",
    "# conda install -c conda-forge r-irkernel         # installs irkernel from conda-forge\n",
    "# conda list                                      # lists the packages currently installed in the active environment\n",
    "\n",
    "version"
   ]
  },
  {
   "cell_type": "markdown",
   "id": "20183541",
   "metadata": {},
   "source": [
    "### Useful R programming tips\n",
    "\n",
    "#### attach, detach, search\n",
    "If you are doing a lot of work on a single dataframe, you can specify an \"active\" dataframe\n",
    "   using attach() and then later using detach()\n"
   ]
  },
  {
   "cell_type": "markdown",
   "id": "da577068",
   "metadata": {},
   "source": [
    "### Working with datasets included in R Base"
   ]
  },
  {
   "cell_type": "code",
   "execution_count": 8,
   "id": "b7eeadda",
   "metadata": {},
   "outputs": [],
   "source": [
    "# Displays a list of the dataset contain in the installed version of R Base  \n",
    "library(help = \"datasets\")  \n",
    "# favorite datasets include: mtcars, iris, titanic\n",
    "\n",
    "# head(mtcars)\n",
    "# summary(mtcars)\n",
    "\n",
    "# head(UCBAdmissions)"
   ]
  },
  {
   "cell_type": "code",
   "execution_count": 3,
   "id": "fde5c329",
   "metadata": {},
   "outputs": [
    {
     "data": {
      "text/plain": [
       "      mpg        cyl         disp             hp             drat      \n",
       " Min.   :10.40   4:11   Min.   : 71.1   Min.   : 52.0   Min.   :2.760  \n",
       " 1st Qu.:15.43   6: 7   1st Qu.:120.8   1st Qu.: 96.5   1st Qu.:3.080  \n",
       " Median :19.20   8:14   Median :196.3   Median :123.0   Median :3.695  \n",
       " Mean   :20.09          Mean   :230.7   Mean   :146.7   Mean   :3.597  \n",
       " 3rd Qu.:22.80          3rd Qu.:326.0   3rd Qu.:180.0   3rd Qu.:3.920  \n",
       " Max.   :33.90          Max.   :472.0   Max.   :335.0   Max.   :4.930  \n",
       "       wt             qsec             vs         am     gear   carb  \n",
       " Min.   :1.513   Min.   :14.50   Min.   :0.0000   0:19   3:15   1: 7  \n",
       " 1st Qu.:2.581   1st Qu.:16.89   1st Qu.:0.0000   1:13   4:12   2:10  \n",
       " Median :3.325   Median :17.71   Median :0.0000          5: 5   3: 3  \n",
       " Mean   :3.217   Mean   :17.85   Mean   :0.4375                 4:10  \n",
       " 3rd Qu.:3.610   3rd Qu.:18.90   3rd Qu.:1.0000                 6: 1  \n",
       " Max.   :5.424   Max.   :22.90   Max.   :1.0000                 8: 1  "
      ]
     },
     "metadata": {},
     "output_type": "display_data"
    }
   ],
   "source": [
    "# Convert cyl and gear (Numeric) to factor using as.factor()\n",
    "# alternative syntax: mtcars$gear <- as.factor(mtcars$gear)\n",
    "# as.numeric(mtcars$carb) -> mtcars$carb\n",
    "\n",
    "# To convert a variable from factor to number\n",
    "as.factor(mtcars$cyl)->mtcars$cyl  \n",
    "as.factor(mtcars$gear)->mtcars$gear \n",
    "as.factor(mtcars$am)->mtcars$am\n",
    "as.factor(mtcars$carb) -> mtcars$carb\n",
    "\n",
    "summary(mtcars)\n"
   ]
  },
  {
   "cell_type": "code",
   "execution_count": 4,
   "id": "385e616f",
   "metadata": {},
   "outputs": [
    {
     "data": {
      "text/html": [
       "<table>\n",
       "<thead><tr><th scope=col>Sepal.Length</th><th scope=col>Sepal.Width</th><th scope=col>Petal.Length</th><th scope=col>Petal.Width</th><th scope=col>Species</th></tr></thead>\n",
       "<tbody>\n",
       "\t<tr><td>5.1   </td><td>3.5   </td><td>1.4   </td><td>0.2   </td><td>setosa</td></tr>\n",
       "\t<tr><td>4.9   </td><td>3.0   </td><td>1.4   </td><td>0.2   </td><td>setosa</td></tr>\n",
       "\t<tr><td>4.7   </td><td>3.2   </td><td>1.3   </td><td>0.2   </td><td>setosa</td></tr>\n",
       "\t<tr><td>4.6   </td><td>3.1   </td><td>1.5   </td><td>0.2   </td><td>setosa</td></tr>\n",
       "\t<tr><td>5.0   </td><td>3.6   </td><td>1.4   </td><td>0.2   </td><td>setosa</td></tr>\n",
       "\t<tr><td>5.4   </td><td>3.9   </td><td>1.7   </td><td>0.4   </td><td>setosa</td></tr>\n",
       "\t<tr><td>4.6   </td><td>3.4   </td><td>1.4   </td><td>0.3   </td><td>setosa</td></tr>\n",
       "\t<tr><td>5.0   </td><td>3.4   </td><td>1.5   </td><td>0.2   </td><td>setosa</td></tr>\n",
       "\t<tr><td>4.4   </td><td>2.9   </td><td>1.4   </td><td>0.2   </td><td>setosa</td></tr>\n",
       "\t<tr><td>4.9   </td><td>3.1   </td><td>1.5   </td><td>0.1   </td><td>setosa</td></tr>\n",
       "</tbody>\n",
       "</table>\n"
      ],
      "text/latex": [
       "\\begin{tabular}{r|lllll}\n",
       " Sepal.Length & Sepal.Width & Petal.Length & Petal.Width & Species\\\\\n",
       "\\hline\n",
       "\t 5.1    & 3.5    & 1.4    & 0.2    & setosa\\\\\n",
       "\t 4.9    & 3.0    & 1.4    & 0.2    & setosa\\\\\n",
       "\t 4.7    & 3.2    & 1.3    & 0.2    & setosa\\\\\n",
       "\t 4.6    & 3.1    & 1.5    & 0.2    & setosa\\\\\n",
       "\t 5.0    & 3.6    & 1.4    & 0.2    & setosa\\\\\n",
       "\t 5.4    & 3.9    & 1.7    & 0.4    & setosa\\\\\n",
       "\t 4.6    & 3.4    & 1.4    & 0.3    & setosa\\\\\n",
       "\t 5.0    & 3.4    & 1.5    & 0.2    & setosa\\\\\n",
       "\t 4.4    & 2.9    & 1.4    & 0.2    & setosa\\\\\n",
       "\t 4.9    & 3.1    & 1.5    & 0.1    & setosa\\\\\n",
       "\\end{tabular}\n"
      ],
      "text/markdown": [
       "\n",
       "| Sepal.Length | Sepal.Width | Petal.Length | Petal.Width | Species |\n",
       "|---|---|---|---|---|\n",
       "| 5.1    | 3.5    | 1.4    | 0.2    | setosa |\n",
       "| 4.9    | 3.0    | 1.4    | 0.2    | setosa |\n",
       "| 4.7    | 3.2    | 1.3    | 0.2    | setosa |\n",
       "| 4.6    | 3.1    | 1.5    | 0.2    | setosa |\n",
       "| 5.0    | 3.6    | 1.4    | 0.2    | setosa |\n",
       "| 5.4    | 3.9    | 1.7    | 0.4    | setosa |\n",
       "| 4.6    | 3.4    | 1.4    | 0.3    | setosa |\n",
       "| 5.0    | 3.4    | 1.5    | 0.2    | setosa |\n",
       "| 4.4    | 2.9    | 1.4    | 0.2    | setosa |\n",
       "| 4.9    | 3.1    | 1.5    | 0.1    | setosa |\n",
       "\n"
      ],
      "text/plain": [
       "   Sepal.Length Sepal.Width Petal.Length Petal.Width Species\n",
       "1  5.1          3.5         1.4          0.2         setosa \n",
       "2  4.9          3.0         1.4          0.2         setosa \n",
       "3  4.7          3.2         1.3          0.2         setosa \n",
       "4  4.6          3.1         1.5          0.2         setosa \n",
       "5  5.0          3.6         1.4          0.2         setosa \n",
       "6  5.4          3.9         1.7          0.4         setosa \n",
       "7  4.6          3.4         1.4          0.3         setosa \n",
       "8  5.0          3.4         1.5          0.2         setosa \n",
       "9  4.4          2.9         1.4          0.2         setosa \n",
       "10 4.9          3.1         1.5          0.1         setosa "
      ]
     },
     "metadata": {},
     "output_type": "display_data"
    },
    {
     "data": {
      "text/plain": [
       "  Sepal.Length    Sepal.Width     Petal.Length    Petal.Width   \n",
       " Min.   :4.300   Min.   :2.000   Min.   :1.000   Min.   :0.100  \n",
       " 1st Qu.:5.100   1st Qu.:2.800   1st Qu.:1.600   1st Qu.:0.300  \n",
       " Median :5.800   Median :3.000   Median :4.350   Median :1.300  \n",
       " Mean   :5.843   Mean   :3.057   Mean   :3.758   Mean   :1.199  \n",
       " 3rd Qu.:6.400   3rd Qu.:3.300   3rd Qu.:5.100   3rd Qu.:1.800  \n",
       " Max.   :7.900   Max.   :4.400   Max.   :6.900   Max.   :2.500  \n",
       "       Species  \n",
       " setosa    :50  \n",
       " versicolor:50  \n",
       " virginica :50  \n",
       "                \n",
       "                \n",
       "                "
      ]
     },
     "metadata": {},
     "output_type": "display_data"
    }
   ],
   "source": [
    "# R Base: Summary function\n",
    "# produces summary statistics of both continuous and categorical variables  \n",
    "head(iris, n=10)   # By default, the head() function returns the first 6 rows by default\n",
    "summary(iris)  # species is a categorical variable, all others are continuous)  \n"
   ]
  },
  {
   "cell_type": "code",
   "execution_count": 11,
   "id": "b0aa33bf",
   "metadata": {},
   "outputs": [
    {
     "data": {
      "text/html": [
       "<table>\n",
       "<thead><tr><th scope=col>Survived</th><th scope=col>Pclass</th><th scope=col>Name</th><th scope=col>Sex</th><th scope=col>Age</th><th scope=col>Siblings.Spouses.Aboard</th><th scope=col>Parents.Children.Aboard</th><th scope=col>Fare</th><th scope=col>Child_cat</th></tr></thead>\n",
       "<tbody>\n",
       "\t<tr><td>0                                                 </td><td>3                                                 </td><td>Mr. Owen Harris Braund                            </td><td>male                                              </td><td>22                                                </td><td>1                                                 </td><td>0                                                 </td><td> 7.2500                                           </td><td>Adult                                             </td></tr>\n",
       "\t<tr><td>1                                                 </td><td>1                                                 </td><td>Mrs. John Bradley (Florence Briggs Thayer) Cumings</td><td>female                                            </td><td>38                                                </td><td>1                                                 </td><td>0                                                 </td><td>71.2833                                           </td><td>Adult                                             </td></tr>\n",
       "\t<tr><td>1                                                 </td><td>3                                                 </td><td>Miss. Laina Heikkinen                             </td><td>female                                            </td><td>26                                                </td><td>0                                                 </td><td>0                                                 </td><td> 7.9250                                           </td><td>Adult                                             </td></tr>\n",
       "\t<tr><td>1                                                 </td><td>1                                                 </td><td>Mrs. Jacques Heath (Lily May Peel) Futrelle       </td><td>female                                            </td><td>35                                                </td><td>1                                                 </td><td>0                                                 </td><td>53.1000                                           </td><td>Adult                                             </td></tr>\n",
       "\t<tr><td>0                                                 </td><td>3                                                 </td><td>Mr. William Henry Allen                           </td><td>male                                              </td><td>35                                                </td><td>0                                                 </td><td>0                                                 </td><td> 8.0500                                           </td><td>Adult                                             </td></tr>\n",
       "\t<tr><td>0                                                 </td><td>3                                                 </td><td>Mr. James Moran                                   </td><td>male                                              </td><td>27                                                </td><td>0                                                 </td><td>0                                                 </td><td> 8.4583                                           </td><td>Adult                                             </td></tr>\n",
       "\t<tr><td>0                                                 </td><td>1                                                 </td><td>Mr. Timothy J McCarthy                            </td><td>male                                              </td><td>54                                                </td><td>0                                                 </td><td>0                                                 </td><td>51.8625                                           </td><td>Adult                                             </td></tr>\n",
       "\t<tr><td>0                                                 </td><td>3                                                 </td><td>Master. Gosta Leonard Palsson                     </td><td>male                                              </td><td> 2                                                </td><td>3                                                 </td><td>1                                                 </td><td>21.0750                                           </td><td>Child                                             </td></tr>\n",
       "\t<tr><td>1                                                 </td><td>3                                                 </td><td>Mrs. Oscar W (Elisabeth Vilhelmina Berg) Johnson  </td><td>female                                            </td><td>27                                                </td><td>0                                                 </td><td>2                                                 </td><td>11.1333                                           </td><td>Adult                                             </td></tr>\n",
       "\t<tr><td>1                                                 </td><td>2                                                 </td><td>Mrs. Nicholas (Adele Achem) Nasser                </td><td>female                                            </td><td>14                                                </td><td>1                                                 </td><td>0                                                 </td><td>30.0708                                           </td><td>Child                                             </td></tr>\n",
       "</tbody>\n",
       "</table>\n"
      ],
      "text/latex": [
       "\\begin{tabular}{r|lllllllll}\n",
       " Survived & Pclass & Name & Sex & Age & Siblings.Spouses.Aboard & Parents.Children.Aboard & Fare & Child\\_cat\\\\\n",
       "\\hline\n",
       "\t 0                                                  & 3                                                  & Mr. Owen Harris Braund                             & male                                               & 22                                                 & 1                                                  & 0                                                  &  7.2500                                            & Adult                                             \\\\\n",
       "\t 1                                                  & 1                                                  & Mrs. John Bradley (Florence Briggs Thayer) Cumings & female                                             & 38                                                 & 1                                                  & 0                                                  & 71.2833                                            & Adult                                             \\\\\n",
       "\t 1                                                  & 3                                                  & Miss. Laina Heikkinen                              & female                                             & 26                                                 & 0                                                  & 0                                                  &  7.9250                                            & Adult                                             \\\\\n",
       "\t 1                                                  & 1                                                  & Mrs. Jacques Heath (Lily May Peel) Futrelle        & female                                             & 35                                                 & 1                                                  & 0                                                  & 53.1000                                            & Adult                                             \\\\\n",
       "\t 0                                                  & 3                                                  & Mr. William Henry Allen                            & male                                               & 35                                                 & 0                                                  & 0                                                  &  8.0500                                            & Adult                                             \\\\\n",
       "\t 0                                                  & 3                                                  & Mr. James Moran                                    & male                                               & 27                                                 & 0                                                  & 0                                                  &  8.4583                                            & Adult                                             \\\\\n",
       "\t 0                                                  & 1                                                  & Mr. Timothy J McCarthy                             & male                                               & 54                                                 & 0                                                  & 0                                                  & 51.8625                                            & Adult                                             \\\\\n",
       "\t 0                                                  & 3                                                  & Master. Gosta Leonard Palsson                      & male                                               &  2                                                 & 3                                                  & 1                                                  & 21.0750                                            & Child                                             \\\\\n",
       "\t 1                                                  & 3                                                  & Mrs. Oscar W (Elisabeth Vilhelmina Berg) Johnson   & female                                             & 27                                                 & 0                                                  & 2                                                  & 11.1333                                            & Adult                                             \\\\\n",
       "\t 1                                                  & 2                                                  & Mrs. Nicholas (Adele Achem) Nasser                 & female                                             & 14                                                 & 1                                                  & 0                                                  & 30.0708                                            & Child                                             \\\\\n",
       "\\end{tabular}\n"
      ],
      "text/markdown": [
       "\n",
       "| Survived | Pclass | Name | Sex | Age | Siblings.Spouses.Aboard | Parents.Children.Aboard | Fare | Child_cat |\n",
       "|---|---|---|---|---|---|---|---|---|\n",
       "| 0                                                  | 3                                                  | Mr. Owen Harris Braund                             | male                                               | 22                                                 | 1                                                  | 0                                                  |  7.2500                                            | Adult                                              |\n",
       "| 1                                                  | 1                                                  | Mrs. John Bradley (Florence Briggs Thayer) Cumings | female                                             | 38                                                 | 1                                                  | 0                                                  | 71.2833                                            | Adult                                              |\n",
       "| 1                                                  | 3                                                  | Miss. Laina Heikkinen                              | female                                             | 26                                                 | 0                                                  | 0                                                  |  7.9250                                            | Adult                                              |\n",
       "| 1                                                  | 1                                                  | Mrs. Jacques Heath (Lily May Peel) Futrelle        | female                                             | 35                                                 | 1                                                  | 0                                                  | 53.1000                                            | Adult                                              |\n",
       "| 0                                                  | 3                                                  | Mr. William Henry Allen                            | male                                               | 35                                                 | 0                                                  | 0                                                  |  8.0500                                            | Adult                                              |\n",
       "| 0                                                  | 3                                                  | Mr. James Moran                                    | male                                               | 27                                                 | 0                                                  | 0                                                  |  8.4583                                            | Adult                                              |\n",
       "| 0                                                  | 1                                                  | Mr. Timothy J McCarthy                             | male                                               | 54                                                 | 0                                                  | 0                                                  | 51.8625                                            | Adult                                              |\n",
       "| 0                                                  | 3                                                  | Master. Gosta Leonard Palsson                      | male                                               |  2                                                 | 3                                                  | 1                                                  | 21.0750                                            | Child                                              |\n",
       "| 1                                                  | 3                                                  | Mrs. Oscar W (Elisabeth Vilhelmina Berg) Johnson   | female                                             | 27                                                 | 0                                                  | 2                                                  | 11.1333                                            | Adult                                              |\n",
       "| 1                                                  | 2                                                  | Mrs. Nicholas (Adele Achem) Nasser                 | female                                             | 14                                                 | 1                                                  | 0                                                  | 30.0708                                            | Child                                              |\n",
       "\n"
      ],
      "text/plain": [
       "   Survived Pclass Name                                               Sex   \n",
       "1  0        3      Mr. Owen Harris Braund                             male  \n",
       "2  1        1      Mrs. John Bradley (Florence Briggs Thayer) Cumings female\n",
       "3  1        3      Miss. Laina Heikkinen                              female\n",
       "4  1        1      Mrs. Jacques Heath (Lily May Peel) Futrelle        female\n",
       "5  0        3      Mr. William Henry Allen                            male  \n",
       "6  0        3      Mr. James Moran                                    male  \n",
       "7  0        1      Mr. Timothy J McCarthy                             male  \n",
       "8  0        3      Master. Gosta Leonard Palsson                      male  \n",
       "9  1        3      Mrs. Oscar W (Elisabeth Vilhelmina Berg) Johnson   female\n",
       "10 1        2      Mrs. Nicholas (Adele Achem) Nasser                 female\n",
       "   Age Siblings.Spouses.Aboard Parents.Children.Aboard Fare    Child_cat\n",
       "1  22  1                       0                        7.2500 Adult    \n",
       "2  38  1                       0                       71.2833 Adult    \n",
       "3  26  0                       0                        7.9250 Adult    \n",
       "4  35  1                       0                       53.1000 Adult    \n",
       "5  35  0                       0                        8.0500 Adult    \n",
       "6  27  0                       0                        8.4583 Adult    \n",
       "7  54  0                       0                       51.8625 Adult    \n",
       "8   2  3                       1                       21.0750 Child    \n",
       "9  27  0                       2                       11.1333 Adult    \n",
       "10 14  1                       0                       30.0708 Child    "
      ]
     },
     "metadata": {},
     "output_type": "display_data"
    },
    {
     "data": {
      "text/plain": [
       " Survived Pclass                                  Name         Sex     \n",
       " 0:545    1:216   Capt. Edward Gifford Crosby       :  1   female:314  \n",
       " 1:342    2:184   Col. John Weir                    :  1   male  :573  \n",
       "          3:487   Col. Oberst Alfons Simonius-Blumer:  1               \n",
       "                  Don. Manuel E Uruchurtu           :  1               \n",
       "                  Dr. Alfred Pain                   :  1               \n",
       "                  Dr. Alice (Farnham) Leader        :  1               \n",
       "                  (Other)                           :881               \n",
       "      Age        Siblings.Spouses.Aboard Parents.Children.Aboard\n",
       " Min.   : 0.42   Min.   :0.0000          Min.   :0.0000         \n",
       " 1st Qu.:20.25   1st Qu.:0.0000          1st Qu.:0.0000         \n",
       " Median :28.00   Median :0.0000          Median :0.0000         \n",
       " Mean   :29.47   Mean   :0.5254          Mean   :0.3833         \n",
       " 3rd Qu.:38.00   3rd Qu.:1.0000          3rd Qu.:0.0000         \n",
       " Max.   :80.00   Max.   :8.0000          Max.   :6.0000         \n",
       "                                                                \n",
       "      Fare          Child_cat        \n",
       " Min.   :  0.000   Length:887        \n",
       " 1st Qu.:  7.925   Class :character  \n",
       " Median : 14.454   Mode  :character  \n",
       " Mean   : 32.305                     \n",
       " 3rd Qu.: 31.137                     \n",
       " Max.   :512.329                     \n",
       "                                     "
      ]
     },
     "metadata": {},
     "output_type": "display_data"
    }
   ],
   "source": [
    "# Stanford course CS109: A Titanic Probability\n",
    "# https://web.stanford.edu/class/archive/cs/cs109/cs109.1166/problem12.html\n",
    "# reads in a copy of the Titanic survival data from a URL\n",
    "X <- read.csv(url(\"https://web.stanford.edu/class/archive/cs/cs109/cs109.1166/stuff/titanic.csv\"))\n",
    "\n",
    "# convert Survived and Pclass to factors\n",
    "X$Survived <- as.factor(X$Survived)\n",
    "X$Pclass <- as.factor(X$Pclass)\n",
    "\n",
    "# Creates a new dichotomous variable for Adult/Child\n",
    "X$Child_cat[X$Age < 18] <- \"Child\"\n",
    "X$Child_cat[X$Age >=18] <- \"Adult\"\n",
    "\n",
    "head(X,10)\n",
    "summary(X)"
   ]
  },
  {
   "cell_type": "code",
   "execution_count": 12,
   "id": "ac87b2d6",
   "metadata": {},
   "outputs": [
    {
     "data": {
      "text/plain": [
       "\n",
       "female   male \n",
       "   314    573 "
      ]
     },
     "metadata": {},
     "output_type": "display_data"
    },
    {
     "data": {
      "text/plain": [
       "\n",
       "   female      male \n",
       "0.3540023 0.6459977 "
      ]
     },
     "metadata": {},
     "output_type": "display_data"
    },
    {
     "data": {
      "text/plain": [
       "\n",
       "female   male \n",
       "  0.35   0.65 "
      ]
     },
     "metadata": {},
     "output_type": "display_data"
    },
    {
     "data": {
      "text/plain": [
       "\n",
       "female   male \n",
       "    35     65 "
      ]
     },
     "metadata": {},
     "output_type": "display_data"
    },
    {
     "data": {
      "image/png": "[encoded data removed]",
      "text/plain": [
       "plot without title"
      ]
     },
     "metadata": {},
     "output_type": "display_data"
    }
   ],
   "source": [
    "# Frequency tables 1: The quick and dirty way courtesy of Bob M.\n",
    "\n",
    "table(X$Sex)                           # counts\n",
    "prop.table(table(X$Sex))               # proportions\n",
    "round(prop.table(table(X$Sex)),2)      # Rounding off proportions\n",
    "round(100*(prop.table(table(X$Sex))))  # Converting proportions to percents\n",
    "\n",
    "# Print percentage table\n",
    "# Bar Chart 1: The quick and dirty way\n",
    "barplot(table(X$Sex))"
   ]
  },
  {
   "cell_type": "code",
   "execution_count": 13,
   "id": "2951961f",
   "metadata": {},
   "outputs": [
    {
     "ename": "ERROR",
     "evalue": "Error in tab1(X$Sex, cum.percent = TRUE): could not find function \"tab1\"\n",
     "output_type": "error",
     "traceback": [
      "Error in tab1(X$Sex, cum.percent = TRUE): could not find function \"tab1\"\nTraceback:\n"
     ]
    }
   ],
   "source": [
    "# Frequency tables 2: use the epiDisplay package\n",
    "\n",
    "# tab1(table(X$Sex, sort.group = \"decreasing\", cum.percent = TRUE)\n",
    "\n",
    "# Check to see if the epiDisplay package is already installed\n",
    "# system.file(package='epiDisplay')  \n",
    "# install.packages('epiDisplay')\n",
    "# library(epiDisplay)\n",
    "\n",
    "tab1(X$Sex, cum.percent = TRUE)\n"
   ]
  },
  {
   "cell_type": "code",
   "execution_count": null,
   "id": "d3031364",
   "metadata": {},
   "outputs": [],
   "source": []
  },
  {
   "cell_type": "markdown",
   "id": "d2d31e63",
   "metadata": {},
   "source": [
    "### Data Transformations in R Base   \n",
    "\n",
    "#### plyr: Tools for Splitting, Applying and Combining Data   "
   ]
  },
  {
   "cell_type": "code",
   "execution_count": null,
   "id": "fabbc301",
   "metadata": {},
   "outputs": [],
   "source": []
  },
  {
   "cell_type": "code",
   "execution_count": null,
   "id": "8de505f1",
   "metadata": {},
   "outputs": [],
   "source": []
  },
  {
   "cell_type": "code",
   "execution_count": null,
   "id": "14fa80e8",
   "metadata": {},
   "outputs": [],
   "source": []
  },
  {
   "cell_type": "markdown",
   "id": "05ac1d57",
   "metadata": {},
   "source": [
    "### Crosstabs  \n",
    "The following R packages do a good job with crosstabs and chi-square  \n",
    "- gmodels: Various R Programming Tools for Model Fitting (best option)  \n",
    "- vcd: Visualizing Categorical Data  (recommended by ChatGPT with an error)"
   ]
  },
  {
   "cell_type": "code",
   "execution_count": 15,
   "id": "d23919e3",
   "metadata": {},
   "outputs": [
    {
     "data": {
      "text/html": [
       "<table>\n",
       "<thead><tr><th></th><th scope=col>No</th><th scope=col>Yes</th></tr></thead>\n",
       "<tbody>\n",
       "\t<tr><th scope=row>Child</th><td>  52</td><td> 57 </td></tr>\n",
       "\t<tr><th scope=row>Adult</th><td>1438</td><td>654 </td></tr>\n",
       "</tbody>\n",
       "</table>\n"
      ],
      "text/latex": [
       "\\begin{tabular}{r|ll}\n",
       "  & No & Yes\\\\\n",
       "\\hline\n",
       "\tChild &   52 &  57 \\\\\n",
       "\tAdult & 1438 & 654 \\\\\n",
       "\\end{tabular}\n"
      ],
      "text/markdown": [
       "\n",
       "| <!--/--> | No | Yes |\n",
       "|---|---|---|\n",
       "| Child |   52 |  57  |\n",
       "| Adult | 1438 | 654  |\n",
       "\n"
      ],
      "text/plain": [
       "       Survived\n",
       "Age     No   Yes\n",
       "  Child   52  57\n",
       "  Adult 1438 654"
      ]
     },
     "metadata": {},
     "output_type": "display_data"
    }
   ],
   "source": [
    "# simple crosstab table of counts\n",
    "# Higher survival rates in children?\n",
    "apply(Titanic, c(3, 4), sum)    # This is a VERY simple crosstabs of counts\n",
    "\n",
    "# NOTE: There appears to be something funky about the Titantic dataset in R Base"
   ]
  },
  {
   "cell_type": "markdown",
   "id": "ac5cb81d",
   "metadata": {},
   "source": [
    "#### Chi-square with vcd  \n",
    "vcd: Visualizing Categorical Data\n",
    "\n"
   ]
  },
  {
   "cell_type": "code",
   "execution_count": 3,
   "id": "fd579117",
   "metadata": {},
   "outputs": [
    {
     "name": "stderr",
     "output_type": "stream",
     "text": [
      "also installing the dependencies 'zoo', 'lmtest'\n",
      "\n"
     ]
    },
    {
     "name": "stdout",
     "output_type": "stream",
     "text": [
      "\n",
      "  There are binary versions available but the source versions are later:\n",
      "       binary source needs_compilation\n",
      "zoo     1.8-9 1.8-11              TRUE\n",
      "lmtest 0.9-38 0.9-40              TRUE\n",
      "vcd     1.4-8 1.4-11             FALSE\n",
      "\n",
      "  Binaries will be installed\n",
      "package 'zoo' successfully unpacked and MD5 sums checked\n",
      "package 'lmtest' successfully unpacked and MD5 sums checked\n",
      "\n",
      "The downloaded binary packages are in\n",
      "\tC:\\Users\\etorpy\\AppData\\Local\\Temp\\Rtmp8MQ3Ya\\downloaded_packages\n"
     ]
    },
    {
     "name": "stderr",
     "output_type": "stream",
     "text": [
      "installing the source package 'vcd'\n",
      "\n"
     ]
    }
   ],
   "source": []
  },
  {
   "cell_type": "code",
   "execution_count": 9,
   "id": "eb0fe958",
   "metadata": {},
   "outputs": [
    {
     "ename": "ERROR",
     "evalue": "Error in table(Arthritis$Treatment, Arthritis$Improvement): all arguments must have the same length\n",
     "output_type": "error",
     "traceback": [
      "Error in table(Arthritis$Treatment, Arthritis$Improvement): all arguments must have the same length\nTraceback:\n",
      "1. table(Arthritis$Treatment, Arthritis$Improvement)",
      "2. stop(\"all arguments must have the same length\")"
     ]
    }
   ],
   "source": [
    "###################   DO NOT RUN THIS CODE   ###################\n",
    "\n",
    "#### The following code was generated by ChatGPT on 2/12/2023\n",
    "#    The ChatGPT code produces the error \"all arguments must have the same length\"\n",
    "#    (See the exact error message at the bottom of this code cell)\n",
    "#    NOTE: the actual error was an incorrect variable name (Improvement is wrong, Improved is correct)\n",
    "\n",
    "##########\n",
    "# Load the library 'vcd'\n",
    "library(vcd)\n",
    "\n",
    "# Sample data\n",
    "data(Arthritis)\n",
    "\n",
    "# Create the crosstabulation table\n",
    "crosstab <- table(Arthritis$Treatment, Arthritis$Improvement)\n",
    "print(crosstab)\n",
    "\n",
    "# Conduct the chi-square test\n",
    "chisq.test(crosstab)\n",
    "\n",
    "##########\n",
    "\n",
    "#    This is the error that the ChatGPT code produces:\n",
    "Error in table(Arthritis$Treatment, Arthritis$Improvement): all arguments must have the same length\n",
    "Traceback:\n",
    "\n",
    "1. table(Arthritis$Treatment, Arthritis$Improvement)\n",
    "2. stop(\"all arguments must have the same length\")\n"
   ]
  },
  {
   "cell_type": "code",
   "execution_count": 14,
   "id": "7ed7e9df",
   "metadata": {},
   "outputs": [
    {
     "name": "stderr",
     "output_type": "stream",
     "text": [
      "Loading required package: grid\n"
     ]
    },
    {
     "name": "stdout",
     "output_type": "stream",
     "text": [
      "'data.frame':\t84 obs. of  5 variables:\n",
      " $ ID       : int  57 46 77 17 36 23 75 39 33 55 ...\n",
      " $ Treatment: Factor w/ 2 levels \"Placebo\",\"Treated\": 2 2 2 2 2 2 2 2 2 2 ...\n",
      " $ Sex      : Factor w/ 2 levels \"Female\",\"Male\": 2 2 2 2 2 2 2 2 2 2 ...\n",
      " $ Age      : int  27 29 30 32 46 58 59 59 63 63 ...\n",
      " $ Improved : Ord.factor w/ 3 levels \"None\"<\"Some\"<..: 2 1 1 3 3 3 1 3 1 1 ...\n"
     ]
    },
    {
     "data": {
      "text/html": [
       "<table>\n",
       "<thead><tr><th scope=col>ID</th><th scope=col>Treatment</th><th scope=col>Sex</th><th scope=col>Age</th><th scope=col>Improved</th></tr></thead>\n",
       "<tbody>\n",
       "\t<tr><td>57     </td><td>Treated</td><td>Male   </td><td>27     </td><td>Some   </td></tr>\n",
       "\t<tr><td>46     </td><td>Treated</td><td>Male   </td><td>29     </td><td>None   </td></tr>\n",
       "\t<tr><td>77     </td><td>Treated</td><td>Male   </td><td>30     </td><td>None   </td></tr>\n",
       "\t<tr><td>17     </td><td>Treated</td><td>Male   </td><td>32     </td><td>Marked </td></tr>\n",
       "\t<tr><td>36     </td><td>Treated</td><td>Male   </td><td>46     </td><td>Marked </td></tr>\n",
       "\t<tr><td>23     </td><td>Treated</td><td>Male   </td><td>58     </td><td>Marked </td></tr>\n",
       "</tbody>\n",
       "</table>\n"
      ],
      "text/latex": [
       "\\begin{tabular}{r|lllll}\n",
       " ID & Treatment & Sex & Age & Improved\\\\\n",
       "\\hline\n",
       "\t 57      & Treated & Male    & 27      & Some   \\\\\n",
       "\t 46      & Treated & Male    & 29      & None   \\\\\n",
       "\t 77      & Treated & Male    & 30      & None   \\\\\n",
       "\t 17      & Treated & Male    & 32      & Marked \\\\\n",
       "\t 36      & Treated & Male    & 46      & Marked \\\\\n",
       "\t 23      & Treated & Male    & 58      & Marked \\\\\n",
       "\\end{tabular}\n"
      ],
      "text/markdown": [
       "\n",
       "| ID | Treatment | Sex | Age | Improved |\n",
       "|---|---|---|---|---|\n",
       "| 57      | Treated | Male    | 27      | Some    |\n",
       "| 46      | Treated | Male    | 29      | None    |\n",
       "| 77      | Treated | Male    | 30      | None    |\n",
       "| 17      | Treated | Male    | 32      | Marked  |\n",
       "| 36      | Treated | Male    | 46      | Marked  |\n",
       "| 23      | Treated | Male    | 58      | Marked  |\n",
       "\n"
      ],
      "text/plain": [
       "  ID Treatment Sex  Age Improved\n",
       "1 57 Treated   Male 27  Some    \n",
       "2 46 Treated   Male 29  None    \n",
       "3 77 Treated   Male 30  None    \n",
       "4 17 Treated   Male 32  Marked  \n",
       "5 36 Treated   Male 46  Marked  \n",
       "6 23 Treated   Male 58  Marked  "
      ]
     },
     "metadata": {},
     "output_type": "display_data"
    },
    {
     "data": {
      "text/html": [
       "84"
      ],
      "text/latex": [
       "84"
      ],
      "text/markdown": [
       "84"
      ],
      "text/plain": [
       "[1] 84"
      ]
     },
     "metadata": {},
     "output_type": "display_data"
    },
    {
     "data": {
      "text/html": [
       "84"
      ],
      "text/latex": [
       "84"
      ],
      "text/markdown": [
       "84"
      ],
      "text/plain": [
       "[1] 84"
      ]
     },
     "metadata": {},
     "output_type": "display_data"
    },
    {
     "name": "stdout",
     "output_type": "stream",
     "text": [
      "         \n",
      "          None Some Marked\n",
      "  Placebo   29    7      7\n",
      "  Treated   13    7     21\n"
     ]
    },
    {
     "data": {
      "text/plain": [
       "\n",
       "\tPearson's Chi-squared test\n",
       "\n",
       "data:  crosstab\n",
       "X-squared = 13.055, df = 2, p-value = 0.001463\n"
      ]
     },
     "metadata": {},
     "output_type": "display_data"
    }
   ],
   "source": [
    "# The following code was generated by ChatGPT on 2/12/2023 and was modified to fix the error above\n",
    "\n",
    "# system.file(package='vcd')     # check if vcd has been installed\n",
    "# install.packages('vcd')        # install vcd if necessary\n",
    "library(vcd)                     # load the installed copy of vcd from the libarary\n",
    "\n",
    "# Sample data\n",
    "data(Arthritis)\n",
    "\n",
    "str(Arthritis)\n",
    "head(Arthritis)\n",
    "\n",
    "# The ChatGPT code produced the error \"all arguments must have the same length\"\n",
    "# The problem was that the variable was named \"Improved\" and NOT \"Improvement\"\n",
    "length(Arthritis$Treatment)\n",
    "length(Arthritis$Improved)\n",
    "\n",
    "# Changed the R code to reference the variable named \"Improved\" instead of \"Improvement\"\n",
    "# Create the crosstabulation table\n",
    "crosstab <- table(Arthritis$Treatment, Arthritis$Improved)\n",
    "print(crosstab)\n",
    "\n",
    "# Conduct the chi-square test\n",
    "chisq.test(crosstab)"
   ]
  },
  {
   "cell_type": "code",
   "execution_count": 20,
   "id": "8674fe7a",
   "metadata": {},
   "outputs": [
    {
     "data": {
      "text/html": [
       "'C:/ProgramData/Anaconda3/Lib/R/library/gmodels'"
      ],
      "text/latex": [
       "'C:/ProgramData/Anaconda3/Lib/R/library/gmodels'"
      ],
      "text/markdown": [
       "'C:/ProgramData/Anaconda3/Lib/R/library/gmodels'"
      ],
      "text/plain": [
       "[1] \"C:/ProgramData/Anaconda3/Lib/R/library/gmodels\""
      ]
     },
     "metadata": {},
     "output_type": "display_data"
    },
    {
     "name": "stdout",
     "output_type": "stream",
     "text": [
      "\n",
      " \n",
      "   Cell Contents\n",
      "|-------------------------|\n",
      "|                       N |\n",
      "|              Expected N |\n",
      "| Chi-square contribution |\n",
      "|           N / Row Total |\n",
      "|           N / Col Total |\n",
      "|         N / Table Total |\n",
      "|-------------------------|\n",
      "\n",
      " \n",
      "Total Observations in Table:  84 \n",
      "\n",
      " \n",
      "                    | Arthritis$Improved \n",
      "Arthritis$Treatment |      None |      Some |    Marked | Row Total | \n",
      "--------------------|-----------|-----------|-----------|-----------|\n",
      "            Placebo |        29 |         7 |         7 |        43 | \n",
      "                    |    21.500 |     7.167 |    14.333 |           | \n",
      "                    |     2.616 |     0.004 |     3.752 |           | \n",
      "                    |     0.674 |     0.163 |     0.163 |     0.512 | \n",
      "                    |     0.690 |     0.500 |     0.250 |           | \n",
      "                    |     0.345 |     0.083 |     0.083 |           | \n",
      "--------------------|-----------|-----------|-----------|-----------|\n",
      "            Treated |        13 |         7 |        21 |        41 | \n",
      "                    |    20.500 |     6.833 |    13.667 |           | \n",
      "                    |     2.744 |     0.004 |     3.935 |           | \n",
      "                    |     0.317 |     0.171 |     0.512 |     0.488 | \n",
      "                    |     0.310 |     0.500 |     0.750 |           | \n",
      "                    |     0.155 |     0.083 |     0.250 |           | \n",
      "--------------------|-----------|-----------|-----------|-----------|\n",
      "       Column Total |        42 |        14 |        28 |        84 | \n",
      "                    |     0.500 |     0.167 |     0.333 |           | \n",
      "--------------------|-----------|-----------|-----------|-----------|\n",
      "\n",
      " \n",
      "Statistics for All Table Factors\n",
      "\n",
      "\n",
      "Pearson's Chi-squared test \n",
      "------------------------------------------------------------\n",
      "Chi^2 =  13.05502     d.f. =  2     p =  0.001462643 \n",
      "\n",
      "\n",
      " \n"
     ]
    }
   ],
   "source": [
    "## Crosstabs using gmodels package\n",
    "\n",
    "# Check to see if the gmodels package is already installed\n",
    "system.file(package='gmodels')  # the gmodels package is installed\n",
    "\n",
    "library(gmodels)\n",
    "CrossTable(Arthritis$Treatment, Arthritis$Improved, expected = TRUE)"
   ]
  },
  {
   "cell_type": "code",
   "execution_count": null,
   "id": "890887be",
   "metadata": {},
   "outputs": [],
   "source": []
  },
  {
   "cell_type": "code",
   "execution_count": null,
   "id": "6f19d43e",
   "metadata": {},
   "outputs": [],
   "source": []
  },
  {
   "cell_type": "code",
   "execution_count": null,
   "id": "8bd4a248",
   "metadata": {},
   "outputs": [],
   "source": []
  },
  {
   "cell_type": "code",
   "execution_count": null,
   "id": "2b2ea402",
   "metadata": {},
   "outputs": [],
   "source": [
    "## Grouped summaries of continuous variables  "
   ]
  },
  {
   "cell_type": "code",
   "execution_count": null,
   "id": "7ee8349c",
   "metadata": {},
   "outputs": [],
   "source": []
  },
  {
   "cell_type": "markdown",
   "id": "591c33f1",
   "metadata": {},
   "source": [
    "### Linear Regression"
   ]
  },
  {
   "cell_type": "code",
   "execution_count": 84,
   "id": "c3ca18f4",
   "metadata": {},
   "outputs": [
    {
     "data": {
      "text/html": [
       "'x is a vector: TRUE'"
      ],
      "text/latex": [
       "'x is a vector: TRUE'"
      ],
      "text/markdown": [
       "'x is a vector: TRUE'"
      ],
      "text/plain": [
       "[1] \"x is a vector: TRUE\""
      ]
     },
     "metadata": {},
     "output_type": "display_data"
    },
    {
     "data": {
      "text/html": [
       "'y is a vector: TRUE'"
      ],
      "text/latex": [
       "'y is a vector: TRUE'"
      ],
      "text/markdown": [
       "'y is a vector: TRUE'"
      ],
      "text/plain": [
       "[1] \"y is a vector: TRUE\""
      ]
     },
     "metadata": {},
     "output_type": "display_data"
    },
    {
     "data": {
      "text/html": [
       "'x type: integer'"
      ],
      "text/latex": [
       "'x type: integer'"
      ],
      "text/markdown": [
       "'x type: integer'"
      ],
      "text/plain": [
       "[1] \"x type: integer\""
      ]
     },
     "metadata": {},
     "output_type": "display_data"
    },
    {
     "data": {
      "text/html": [
       "'y type: double'"
      ],
      "text/latex": [
       "'y type: double'"
      ],
      "text/markdown": [
       "'y type: double'"
      ],
      "text/plain": [
       "[1] \"y type: double\""
      ]
     },
     "metadata": {},
     "output_type": "display_data"
    },
    {
     "data": {
      "text/html": [
       "<table>\n",
       "<thead><tr><th scope=col>x</th><th scope=col>y</th></tr></thead>\n",
       "<tbody>\n",
       "\t<tr><td> 1 </td><td>  1</td></tr>\n",
       "\t<tr><td> 2 </td><td>  4</td></tr>\n",
       "\t<tr><td> 3 </td><td>  9</td></tr>\n",
       "\t<tr><td> 4 </td><td> 16</td></tr>\n",
       "\t<tr><td> 5 </td><td> 25</td></tr>\n",
       "\t<tr><td> 6 </td><td> 36</td></tr>\n",
       "\t<tr><td> 7 </td><td> 49</td></tr>\n",
       "\t<tr><td> 8 </td><td> 64</td></tr>\n",
       "\t<tr><td> 9 </td><td> 81</td></tr>\n",
       "\t<tr><td>10 </td><td>100</td></tr>\n",
       "</tbody>\n",
       "</table>\n"
      ],
      "text/latex": [
       "\\begin{tabular}{r|ll}\n",
       " x & y\\\\\n",
       "\\hline\n",
       "\t  1  &   1\\\\\n",
       "\t  2  &   4\\\\\n",
       "\t  3  &   9\\\\\n",
       "\t  4  &  16\\\\\n",
       "\t  5  &  25\\\\\n",
       "\t  6  &  36\\\\\n",
       "\t  7  &  49\\\\\n",
       "\t  8  &  64\\\\\n",
       "\t  9  &  81\\\\\n",
       "\t 10  & 100\\\\\n",
       "\\end{tabular}\n"
      ],
      "text/markdown": [
       "\n",
       "| x | y |\n",
       "|---|---|\n",
       "|  1  |   1 |\n",
       "|  2  |   4 |\n",
       "|  3  |   9 |\n",
       "|  4  |  16 |\n",
       "|  5  |  25 |\n",
       "|  6  |  36 |\n",
       "|  7  |  49 |\n",
       "|  8  |  64 |\n",
       "|  9  |  81 |\n",
       "| 10  | 100 |\n",
       "\n"
      ],
      "text/plain": [
       "   x  y  \n",
       "1   1   1\n",
       "2   2   4\n",
       "3   3   9\n",
       "4   4  16\n",
       "5   5  25\n",
       "6   6  36\n",
       "7   7  49\n",
       "8   8  64\n",
       "9   9  81\n",
       "10 10 100"
      ]
     },
     "metadata": {},
     "output_type": "display_data"
    },
    {
     "name": "stdout",
     "output_type": "stream",
     "text": [
      "'data.frame':\t10 obs. of  2 variables:\n",
      " $ x: int  1 2 3 4 5 6 7 8 9 10\n",
      " $ y: num  1 4 9 16 25 36 49 64 81 100\n"
     ]
    },
    {
     "data": {
      "text/html": [
       "<table>\n",
       "<thead><tr><th scope=col>x</th><th scope=col>y</th></tr></thead>\n",
       "<tbody>\n",
       "\t<tr><td>1 </td><td> 1</td></tr>\n",
       "\t<tr><td>2 </td><td> 4</td></tr>\n",
       "\t<tr><td>3 </td><td> 9</td></tr>\n",
       "\t<tr><td>4 </td><td>16</td></tr>\n",
       "\t<tr><td>5 </td><td>25</td></tr>\n",
       "\t<tr><td>6 </td><td>36</td></tr>\n",
       "</tbody>\n",
       "</table>\n"
      ],
      "text/latex": [
       "\\begin{tabular}{r|ll}\n",
       " x & y\\\\\n",
       "\\hline\n",
       "\t 1  &  1\\\\\n",
       "\t 2  &  4\\\\\n",
       "\t 3  &  9\\\\\n",
       "\t 4  & 16\\\\\n",
       "\t 5  & 25\\\\\n",
       "\t 6  & 36\\\\\n",
       "\\end{tabular}\n"
      ],
      "text/markdown": [
       "\n",
       "| x | y |\n",
       "|---|---|\n",
       "| 1  |  1 |\n",
       "| 2  |  4 |\n",
       "| 3  |  9 |\n",
       "| 4  | 16 |\n",
       "| 5  | 25 |\n",
       "| 6  | 36 |\n",
       "\n"
      ],
      "text/plain": [
       "  x y \n",
       "1 1  1\n",
       "2 2  4\n",
       "3 3  9\n",
       "4 4 16\n",
       "5 5 25\n",
       "6 6 36"
      ]
     },
     "metadata": {},
     "output_type": "display_data"
    },
    {
     "data": {
      "text/plain": [
       "       x               y         \n",
       " Min.   : 1.00   Min.   :  1.00  \n",
       " 1st Qu.: 3.25   1st Qu.: 10.75  \n",
       " Median : 5.50   Median : 30.50  \n",
       " Mean   : 5.50   Mean   : 38.50  \n",
       " 3rd Qu.: 7.75   3rd Qu.: 60.25  \n",
       " Max.   :10.00   Max.   :100.00  "
      ]
     },
     "metadata": {},
     "output_type": "display_data"
    }
   ],
   "source": [
    "# Create x and y vectors with data values\n",
    "x <- 1:10 \n",
    "y <- x^2  \n",
    "\n",
    "paste(\"x is a vector:\", is.vector(x))   # confirms x and y are vectors\n",
    "paste(\"y is a vector:\", is.vector(y))\n",
    "\n",
    "# NOTE: The two most common numeric classes used in R are integer and double\n",
    "#   (for double precision floating point numbers). R automatically converts\n",
    "#   between these two classes when needed for mathematical purposes. As a result,\n",
    "#   it’s feasible to use R and perform analyses for years without specifying these differences.\n",
    "paste(\"x type:\", typeof(x)) # x is integer\n",
    "paste(\"y type:\", typeof(y)) # y is double\n",
    "\n",
    "\n",
    "# Create a dataframe using the x and y vectors\n",
    "df <- data.frame(x, y)\n",
    "\n",
    "df   # prints the dataframe named \"df\"\n",
    "str(df)   # prints the structure\n",
    "head(df)   # prints the first 6 rows\n",
    "summary(df)   # prints summary statistics"
   ]
  },
  {
   "cell_type": "code",
   "execution_count": 89,
   "id": "98b47240",
   "metadata": {},
   "outputs": [
    {
     "data": {
      "text/plain": [
       "\n",
       "Call:\n",
       "lm(formula = y ~ x, data = df)\n",
       "\n",
       "Residuals:\n",
       "   Min     1Q Median     3Q    Max \n",
       "    -8     -6     -2      4     12 \n",
       "\n",
       "Coefficients:\n",
       "            Estimate Std. Error t value Pr(>|t|)    \n",
       "(Intercept) -22.0000     5.5498  -3.964  0.00415 ** \n",
       "x            11.0000     0.8944  12.298 1.78e-06 ***\n",
       "---\n",
       "Signif. codes:  0 '***' 0.001 '**' 0.01 '*' 0.05 '.' 0.1 ' ' 1\n",
       "\n",
       "Residual standard error: 8.124 on 8 degrees of freedom\n",
       "Multiple R-squared:  0.9498,\tAdjusted R-squared:  0.9435 \n",
       "F-statistic: 151.2 on 1 and 8 DF,  p-value: 1.778e-06\n"
      ]
     },
     "metadata": {},
     "output_type": "display_data"
    }
   ],
   "source": [
    "#model <- lm(y ~ x)  # Linear regression model y = A + B * x.\n",
    "#summary(model)  # Display an in-depth summary of the model.\n",
    "\n",
    "model = lm(y~x, data=df)\n",
    "summary(model)"
   ]
  },
  {
   "cell_type": "code",
   "execution_count": 91,
   "id": "b4a8edcb",
   "metadata": {},
   "outputs": [],
   "source": [
    "pred_y <- (11 * (x) - 22)"
   ]
  },
  {
   "cell_type": "code",
   "execution_count": 92,
   "id": "c08028fc",
   "metadata": {},
   "outputs": [
    {
     "data": {
      "text/html": [
       "<ol class=list-inline>\n",
       "\t<li>-11</li>\n",
       "\t<li>0</li>\n",
       "\t<li>11</li>\n",
       "\t<li>22</li>\n",
       "\t<li>33</li>\n",
       "\t<li>44</li>\n",
       "\t<li>55</li>\n",
       "\t<li>66</li>\n",
       "\t<li>77</li>\n",
       "\t<li>88</li>\n",
       "</ol>\n"
      ],
      "text/latex": [
       "\\begin{enumerate*}\n",
       "\\item -11\n",
       "\\item 0\n",
       "\\item 11\n",
       "\\item 22\n",
       "\\item 33\n",
       "\\item 44\n",
       "\\item 55\n",
       "\\item 66\n",
       "\\item 77\n",
       "\\item 88\n",
       "\\end{enumerate*}\n"
      ],
      "text/markdown": [
       "1. -11\n",
       "2. 0\n",
       "3. 11\n",
       "4. 22\n",
       "5. 33\n",
       "6. 44\n",
       "7. 55\n",
       "8. 66\n",
       "9. 77\n",
       "10. 88\n",
       "\n",
       "\n"
      ],
      "text/plain": [
       " [1] -11   0  11  22  33  44  55  66  77  88"
      ]
     },
     "metadata": {},
     "output_type": "display_data"
    }
   ],
   "source": [
    "pred_y\n"
   ]
  },
  {
   "cell_type": "code",
   "execution_count": 93,
   "id": "565e7bea",
   "metadata": {},
   "outputs": [
    {
     "data": {
      "text/html": [
       "<table>\n",
       "<thead><tr><th scope=col>x</th><th scope=col>y</th><th scope=col>pred_y2</th><th scope=col>pred_y</th></tr></thead>\n",
       "<tbody>\n",
       "\t<tr><td> 1 </td><td>  1</td><td>-11</td><td>-11</td></tr>\n",
       "\t<tr><td> 2 </td><td>  4</td><td>  0</td><td>  0</td></tr>\n",
       "\t<tr><td> 3 </td><td>  9</td><td> 11</td><td> 11</td></tr>\n",
       "\t<tr><td> 4 </td><td> 16</td><td> 22</td><td> 22</td></tr>\n",
       "\t<tr><td> 5 </td><td> 25</td><td> 33</td><td> 33</td></tr>\n",
       "\t<tr><td> 6 </td><td> 36</td><td> 44</td><td> 44</td></tr>\n",
       "\t<tr><td> 7 </td><td> 49</td><td> 55</td><td> 55</td></tr>\n",
       "\t<tr><td> 8 </td><td> 64</td><td> 66</td><td> 66</td></tr>\n",
       "\t<tr><td> 9 </td><td> 81</td><td> 77</td><td> 77</td></tr>\n",
       "\t<tr><td>10 </td><td>100</td><td> 88</td><td> 88</td></tr>\n",
       "</tbody>\n",
       "</table>\n"
      ],
      "text/latex": [
       "\\begin{tabular}{r|llll}\n",
       " x & y & pred\\_y2 & pred\\_y\\\\\n",
       "\\hline\n",
       "\t  1  &   1 & -11 & -11\\\\\n",
       "\t  2  &   4 &   0 &   0\\\\\n",
       "\t  3  &   9 &  11 &  11\\\\\n",
       "\t  4  &  16 &  22 &  22\\\\\n",
       "\t  5  &  25 &  33 &  33\\\\\n",
       "\t  6  &  36 &  44 &  44\\\\\n",
       "\t  7  &  49 &  55 &  55\\\\\n",
       "\t  8  &  64 &  66 &  66\\\\\n",
       "\t  9  &  81 &  77 &  77\\\\\n",
       "\t 10  & 100 &  88 &  88\\\\\n",
       "\\end{tabular}\n"
      ],
      "text/markdown": [
       "\n",
       "| x | y | pred_y2 | pred_y |\n",
       "|---|---|---|---|\n",
       "|  1  |   1 | -11 | -11 |\n",
       "|  2  |   4 |   0 |   0 |\n",
       "|  3  |   9 |  11 |  11 |\n",
       "|  4  |  16 |  22 |  22 |\n",
       "|  5  |  25 |  33 |  33 |\n",
       "|  6  |  36 |  44 |  44 |\n",
       "|  7  |  49 |  55 |  55 |\n",
       "|  8  |  64 |  66 |  66 |\n",
       "|  9  |  81 |  77 |  77 |\n",
       "| 10  | 100 |  88 |  88 |\n",
       "\n"
      ],
      "text/plain": [
       "   x  y   pred_y2 pred_y\n",
       "1   1   1 -11     -11   \n",
       "2   2   4   0       0   \n",
       "3   3   9  11      11   \n",
       "4   4  16  22      22   \n",
       "5   5  25  33      33   \n",
       "6   6  36  44      44   \n",
       "7   7  49  55      55   \n",
       "8   8  64  66      66   \n",
       "9   9  81  77      77   \n",
       "10 10 100  88      88   "
      ]
     },
     "metadata": {},
     "output_type": "display_data"
    }
   ],
   "source": [
    "df <- data.frame(df, pred_y)\n",
    "df\n"
   ]
  },
  {
   "cell_type": "code",
   "execution_count": 88,
   "id": "31674836",
   "metadata": {},
   "outputs": [
    {
     "data": {
      "image/png": "[encoded data removed]",
      "text/plain": [
       "Plot with title \"Regression for y based on x\""
      ]
     },
     "metadata": {},
     "output_type": "display_data"
    }
   ],
   "source": [
    "# plot a scatter plot\n",
    "plot(df$x,df$y,\n",
    "     main='Regression for y based on x',\n",
    "     xlab='The Value of X',ylab='The Value of Y')\n",
    "  \n",
    "# plot a regression line\n",
    "abline(lm(y~x,data=df),col='red')"
   ]
  },
  {
   "cell_type": "code",
   "execution_count": 90,
   "id": "2a95f750",
   "metadata": {},
   "outputs": [
    {
     "data": {
      "image/png": "[encoded data removed]",
      "text/plain": [
       "Plot with title \"\""
      ]
     },
     "metadata": {},
     "output_type": "display_data"
    }
   ],
   "source": [
    "par(mfrow = c(2, 2))  # Create a 2 by 2 layout for figures.\n",
    "plot(model)  # Output diagnostic plots of the model."
   ]
  },
  {
   "cell_type": "code",
   "execution_count": null,
   "id": "c04443a4",
   "metadata": {},
   "outputs": [],
   "source": []
  },
  {
   "cell_type": "markdown",
   "id": "95c5abfe",
   "metadata": {},
   "source": [
    "### Graphs  \n",
    "Use GGPlot2  \n"
   ]
  },
  {
   "cell_type": "code",
   "execution_count": 2,
   "id": "3c19bddf",
   "metadata": {},
   "outputs": [
    {
     "name": "stderr",
     "output_type": "stream",
     "text": [
      "also installing the dependencies 'cli', 'lifecycle', 'rlang', 'scales', 'vctrs'\n",
      "\n"
     ]
    },
    {
     "name": "stdout",
     "output_type": "stream",
     "text": [
      "\n",
      "  There are binary versions available but the source versions are later:\n",
      "          binary source needs_compilation\n",
      "cli        2.5.0  3.6.0              TRUE\n",
      "lifecycle  1.0.0  1.0.3             FALSE\n",
      "rlang     0.4.11  1.0.6              TRUE\n",
      "scales     1.1.1  1.2.1             FALSE\n",
      "vctrs      0.3.8  0.5.2              TRUE\n",
      "ggplot2    3.3.3  3.4.1             FALSE\n",
      "\n",
      "  Binaries will be installed\n",
      "package 'cli' successfully unpacked and MD5 sums checked\n",
      "package 'rlang' successfully unpacked and MD5 sums checked\n"
     ]
    },
    {
     "name": "stderr",
     "output_type": "stream",
     "text": [
      "Warning message:\n",
      "\"cannot remove prior installation of package 'rlang'\"Warning message in file.copy(savedcopy, lib, recursive = TRUE):\n",
      "\"problem copying C:\\ProgramData\\Anaconda3\\Lib\\R\\library\\00LOCK\\rlang\\libs\\x64\\rlang.dll to C:\\ProgramData\\Anaconda3\\Lib\\R\\library\\rlang\\libs\\x64\\rlang.dll: Permission denied\"Warning message:\n",
      "\"restored 'rlang'\""
     ]
    },
    {
     "name": "stdout",
     "output_type": "stream",
     "text": [
      "package 'vctrs' successfully unpacked and MD5 sums checked\n",
      "\n",
      "The downloaded binary packages are in\n",
      "\tC:\\Users\\etorpy\\AppData\\Local\\Temp\\RtmpSSCkeR\\downloaded_packages\n"
     ]
    },
    {
     "name": "stderr",
     "output_type": "stream",
     "text": [
      "installing the source packages 'lifecycle', 'scales', 'ggplot2'\n",
      "\n",
      "Warning message in install.packages(\"ggplot2\"):\n",
      "\"installation of package 'lifecycle' had non-zero exit status\"Warning message in install.packages(\"ggplot2\"):\n",
      "\"installation of package 'scales' had non-zero exit status\"Warning message in install.packages(\"ggplot2\"):\n",
      "\"installation of package 'ggplot2' had non-zero exit status\""
     ]
    }
   ],
   "source": [
    "# Check to see if the ggplot2 and dlstats packages are already installed\n",
    "# system.file(package='r-ggplot2')  \n",
    "# system.file(package='ggplot2')  \n",
    "# install.packages('r-ggplot2')\n",
    "install.packages(\"ggplot2\")\n",
    "# NOTE: install ggplot2 produces warnings and fails.  \n",
    "\n",
    "# As of 3/3/2023, the current version of ggplot2 is 3.4.1 and requires R Base 3.3 or higher  \n",
    "\n"
   ]
  },
  {
   "cell_type": "code",
   "execution_count": 3,
   "id": "11ff7b53",
   "metadata": {},
   "outputs": [
    {
     "data": {
      "text/html": [
       "''"
      ],
      "text/latex": [
       "''"
      ],
      "text/markdown": [
       "''"
      ],
      "text/plain": [
       "[1] \"\""
      ]
     },
     "metadata": {},
     "output_type": "display_data"
    }
   ],
   "source": [
    "system.file(package='ggplot2')  \n"
   ]
  },
  {
   "cell_type": "code",
   "execution_count": 4,
   "id": "56a38d68",
   "metadata": {},
   "outputs": [
    {
     "ename": "ERROR",
     "evalue": "Error in library(ggplot2): there is no package called 'ggplot2'\n",
     "output_type": "error",
     "traceback": [
      "Error in library(ggplot2): there is no package called 'ggplot2'\nTraceback:\n",
      "1. library(ggplot2)"
     ]
    }
   ],
   "source": [
    "library(ggplot2)"
   ]
  },
  {
   "cell_type": "code",
   "execution_count": 5,
   "id": "19ffb4c1",
   "metadata": {},
   "outputs": [
    {
     "data": {
      "text/plain": [
       "               _                           \n",
       "platform       x86_64-w64-mingw32          \n",
       "arch           x86_64                      \n",
       "os             mingw32                     \n",
       "system         x86_64, mingw32             \n",
       "status                                     \n",
       "major          3                           \n",
       "minor          6.1                         \n",
       "year           2019                        \n",
       "month          07                          \n",
       "day            05                          \n",
       "svn rev        76782                       \n",
       "language       R                           \n",
       "version.string R version 3.6.1 (2019-07-05)\n",
       "nickname       Action of the Toes          "
      ]
     },
     "metadata": {},
     "output_type": "display_data"
    }
   ],
   "source": [
    "version"
   ]
  },
  {
   "cell_type": "code",
   "execution_count": 1,
   "id": "9bc74ba4",
   "metadata": {},
   "outputs": [
    {
     "ename": "ERROR",
     "evalue": "Error in update.packages(ggplot2): object 'ggplot2' not found\n",
     "output_type": "error",
     "traceback": [
      "Error in update.packages(ggplot2): object 'ggplot2' not found\nTraceback:\n",
      "1. update.packages(ggplot2)"
     ]
    }
   ],
   "source": [
    "update.packages(ggplot2)"
   ]
  },
  {
   "cell_type": "code",
   "execution_count": null,
   "id": "479223b9",
   "metadata": {},
   "outputs": [],
   "source": []
  }
 ],
 "metadata": {
  "celltoolbar": "Raw Cell Format",
  "kernelspec": {
   "display_name": "R",
   "language": "R",
   "name": "ir"
  },
  "language_info": {
   "codemirror_mode": "r",
   "file_extension": ".r",
   "mimetype": "text/x-r-source",
   "name": "R",
   "pygments_lexer": "r",
   "version": "4.1.3"
  }
 },
 "nbformat": 4,
 "nbformat_minor": 5
}

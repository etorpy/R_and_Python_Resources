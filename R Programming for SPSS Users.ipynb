{
 "cells": [
  {
   "cell_type": "markdown",
   "id": "0dccc9c2",
   "metadata": {},
   "source": [
    "## R Programming For SPSS Users\n",
    "From 2003 - 2009, I taught software training courses for SPSS Inc.  The contents of this notebook are partially inspired by the course titled \"Statistical Analysis Using SPSS\" that I frequenty taught during that time.  Another important source is a book titled \"R for SAS and SPSS Users\" by Robert Muenchen.  If you already know how to write SPSS Statistics syntax (code) or SAS code and want to learn how to do similiar things in R, Bob's book is highly recommended.  The following URL will take you to the web site for Bob's book: https://r4stats.com/\n"
   ]
  },
  {
   "cell_type": "markdown",
   "id": "6ceaa5b7",
   "metadata": {},
   "source": [
    "### Procedures covered\n",
    "- head(): returns the first six rows in the data frame   \n",
    "- summary(): frequencies & descriptive statistics   \n",
    "- \n"
   ]
  },
  {
   "cell_type": "markdown",
   "id": "bec40981",
   "metadata": {},
   "source": [
    "### Useful R Packages to consider\n",
    "\n",
    "Frank Harrell’s Hmisc package  \n",
    "https://cran.r-project.org/web/packages/Hmisc/  \n",
    "https://hbiostat.org/R/Hmisc/  \n",
    "contains functions that produce more informative output than standard R functions  \n"
   ]
  },
  {
   "cell_type": "code",
   "execution_count": 1,
   "id": "c78c0bd4",
   "metadata": {},
   "outputs": [
    {
     "data": {
      "text/plain": [
       "               _                           \n",
       "platform       x86_64-w64-mingw32          \n",
       "arch           x86_64                      \n",
       "os             mingw32                     \n",
       "system         x86_64, mingw32             \n",
       "status                                     \n",
       "major          3                           \n",
       "minor          6.1                         \n",
       "year           2019                        \n",
       "month          07                          \n",
       "day            05                          \n",
       "svn rev        76782                       \n",
       "language       R                           \n",
       "version.string R version 3.6.1 (2019-07-05)\n",
       "nickname       Action of the Toes          "
      ]
     },
     "metadata": {},
     "output_type": "display_data"
    }
   ],
   "source": [
    "# R Programming For SPSS Users\n",
    "# Last updated 2/5/2023\n",
    "\n",
    "version # show the version of R used in Anaconda"
   ]
  },
  {
   "cell_type": "markdown",
   "id": "20183541",
   "metadata": {},
   "source": [
    "### Useful R programming tips\n",
    "\n",
    "#### attach, detach, search\n",
    "If you are doing a lot of work on a single dataframe, you can specify an \"active\" dataframe\n",
    "   using attach() and then later using detach()\n"
   ]
  },
  {
   "cell_type": "markdown",
   "id": "da577068",
   "metadata": {},
   "source": [
    "### Working with datasets included in R Base"
   ]
  },
  {
   "cell_type": "code",
   "execution_count": 8,
   "id": "b7eeadda",
   "metadata": {},
   "outputs": [],
   "source": [
    "# Displays a list of the dataset contain in the installed version of R Base  \n",
    "library(help = \"datasets\")  \n",
    "# favorite datasets include: mtcars, iris, titanic\n",
    "\n",
    "# head(mtcars)\n",
    "# summary(mtcars)\n",
    "\n",
    "# head(UCBAdmissions)"
   ]
  },
  {
   "cell_type": "code",
   "execution_count": 3,
   "id": "fde5c329",
   "metadata": {},
   "outputs": [
    {
     "data": {
      "text/plain": [
       "      mpg        cyl         disp             hp             drat      \n",
       " Min.   :10.40   4:11   Min.   : 71.1   Min.   : 52.0   Min.   :2.760  \n",
       " 1st Qu.:15.43   6: 7   1st Qu.:120.8   1st Qu.: 96.5   1st Qu.:3.080  \n",
       " Median :19.20   8:14   Median :196.3   Median :123.0   Median :3.695  \n",
       " Mean   :20.09          Mean   :230.7   Mean   :146.7   Mean   :3.597  \n",
       " 3rd Qu.:22.80          3rd Qu.:326.0   3rd Qu.:180.0   3rd Qu.:3.920  \n",
       " Max.   :33.90          Max.   :472.0   Max.   :335.0   Max.   :4.930  \n",
       "       wt             qsec             vs         am     gear   carb  \n",
       " Min.   :1.513   Min.   :14.50   Min.   :0.0000   0:19   3:15   1: 7  \n",
       " 1st Qu.:2.581   1st Qu.:16.89   1st Qu.:0.0000   1:13   4:12   2:10  \n",
       " Median :3.325   Median :17.71   Median :0.0000          5: 5   3: 3  \n",
       " Mean   :3.217   Mean   :17.85   Mean   :0.4375                 4:10  \n",
       " 3rd Qu.:3.610   3rd Qu.:18.90   3rd Qu.:1.0000                 6: 1  \n",
       " Max.   :5.424   Max.   :22.90   Max.   :1.0000                 8: 1  "
      ]
     },
     "metadata": {},
     "output_type": "display_data"
    }
   ],
   "source": [
    "# Convert cyl and gear (Numeric) to factor using as.factor()\n",
    "# alternative syntax: mtcars$gear <- as.factor(mtcars$gear)\n",
    "# as.numeric(mtcars$carb) -> mtcars$carb\n",
    "\n",
    "# To convert a variable from factor to number\n",
    "as.factor(mtcars$cyl)->mtcars$cyl  \n",
    "as.factor(mtcars$gear)->mtcars$gear \n",
    "as.factor(mtcars$am)->mtcars$am\n",
    "as.factor(mtcars$carb) -> mtcars$carb\n",
    "\n",
    "summary(mtcars)\n"
   ]
  },
  {
   "cell_type": "code",
   "execution_count": 4,
   "id": "385e616f",
   "metadata": {},
   "outputs": [
    {
     "data": {
      "text/html": [
       "<table>\n",
       "<thead><tr><th scope=col>Sepal.Length</th><th scope=col>Sepal.Width</th><th scope=col>Petal.Length</th><th scope=col>Petal.Width</th><th scope=col>Species</th></tr></thead>\n",
       "<tbody>\n",
       "\t<tr><td>5.1   </td><td>3.5   </td><td>1.4   </td><td>0.2   </td><td>setosa</td></tr>\n",
       "\t<tr><td>4.9   </td><td>3.0   </td><td>1.4   </td><td>0.2   </td><td>setosa</td></tr>\n",
       "\t<tr><td>4.7   </td><td>3.2   </td><td>1.3   </td><td>0.2   </td><td>setosa</td></tr>\n",
       "\t<tr><td>4.6   </td><td>3.1   </td><td>1.5   </td><td>0.2   </td><td>setosa</td></tr>\n",
       "\t<tr><td>5.0   </td><td>3.6   </td><td>1.4   </td><td>0.2   </td><td>setosa</td></tr>\n",
       "\t<tr><td>5.4   </td><td>3.9   </td><td>1.7   </td><td>0.4   </td><td>setosa</td></tr>\n",
       "\t<tr><td>4.6   </td><td>3.4   </td><td>1.4   </td><td>0.3   </td><td>setosa</td></tr>\n",
       "\t<tr><td>5.0   </td><td>3.4   </td><td>1.5   </td><td>0.2   </td><td>setosa</td></tr>\n",
       "\t<tr><td>4.4   </td><td>2.9   </td><td>1.4   </td><td>0.2   </td><td>setosa</td></tr>\n",
       "\t<tr><td>4.9   </td><td>3.1   </td><td>1.5   </td><td>0.1   </td><td>setosa</td></tr>\n",
       "</tbody>\n",
       "</table>\n"
      ],
      "text/latex": [
       "\\begin{tabular}{r|lllll}\n",
       " Sepal.Length & Sepal.Width & Petal.Length & Petal.Width & Species\\\\\n",
       "\\hline\n",
       "\t 5.1    & 3.5    & 1.4    & 0.2    & setosa\\\\\n",
       "\t 4.9    & 3.0    & 1.4    & 0.2    & setosa\\\\\n",
       "\t 4.7    & 3.2    & 1.3    & 0.2    & setosa\\\\\n",
       "\t 4.6    & 3.1    & 1.5    & 0.2    & setosa\\\\\n",
       "\t 5.0    & 3.6    & 1.4    & 0.2    & setosa\\\\\n",
       "\t 5.4    & 3.9    & 1.7    & 0.4    & setosa\\\\\n",
       "\t 4.6    & 3.4    & 1.4    & 0.3    & setosa\\\\\n",
       "\t 5.0    & 3.4    & 1.5    & 0.2    & setosa\\\\\n",
       "\t 4.4    & 2.9    & 1.4    & 0.2    & setosa\\\\\n",
       "\t 4.9    & 3.1    & 1.5    & 0.1    & setosa\\\\\n",
       "\\end{tabular}\n"
      ],
      "text/markdown": [
       "\n",
       "| Sepal.Length | Sepal.Width | Petal.Length | Petal.Width | Species |\n",
       "|---|---|---|---|---|\n",
       "| 5.1    | 3.5    | 1.4    | 0.2    | setosa |\n",
       "| 4.9    | 3.0    | 1.4    | 0.2    | setosa |\n",
       "| 4.7    | 3.2    | 1.3    | 0.2    | setosa |\n",
       "| 4.6    | 3.1    | 1.5    | 0.2    | setosa |\n",
       "| 5.0    | 3.6    | 1.4    | 0.2    | setosa |\n",
       "| 5.4    | 3.9    | 1.7    | 0.4    | setosa |\n",
       "| 4.6    | 3.4    | 1.4    | 0.3    | setosa |\n",
       "| 5.0    | 3.4    | 1.5    | 0.2    | setosa |\n",
       "| 4.4    | 2.9    | 1.4    | 0.2    | setosa |\n",
       "| 4.9    | 3.1    | 1.5    | 0.1    | setosa |\n",
       "\n"
      ],
      "text/plain": [
       "   Sepal.Length Sepal.Width Petal.Length Petal.Width Species\n",
       "1  5.1          3.5         1.4          0.2         setosa \n",
       "2  4.9          3.0         1.4          0.2         setosa \n",
       "3  4.7          3.2         1.3          0.2         setosa \n",
       "4  4.6          3.1         1.5          0.2         setosa \n",
       "5  5.0          3.6         1.4          0.2         setosa \n",
       "6  5.4          3.9         1.7          0.4         setosa \n",
       "7  4.6          3.4         1.4          0.3         setosa \n",
       "8  5.0          3.4         1.5          0.2         setosa \n",
       "9  4.4          2.9         1.4          0.2         setosa \n",
       "10 4.9          3.1         1.5          0.1         setosa "
      ]
     },
     "metadata": {},
     "output_type": "display_data"
    },
    {
     "data": {
      "text/plain": [
       "  Sepal.Length    Sepal.Width     Petal.Length    Petal.Width   \n",
       " Min.   :4.300   Min.   :2.000   Min.   :1.000   Min.   :0.100  \n",
       " 1st Qu.:5.100   1st Qu.:2.800   1st Qu.:1.600   1st Qu.:0.300  \n",
       " Median :5.800   Median :3.000   Median :4.350   Median :1.300  \n",
       " Mean   :5.843   Mean   :3.057   Mean   :3.758   Mean   :1.199  \n",
       " 3rd Qu.:6.400   3rd Qu.:3.300   3rd Qu.:5.100   3rd Qu.:1.800  \n",
       " Max.   :7.900   Max.   :4.400   Max.   :6.900   Max.   :2.500  \n",
       "       Species  \n",
       " setosa    :50  \n",
       " versicolor:50  \n",
       " virginica :50  \n",
       "                \n",
       "                \n",
       "                "
      ]
     },
     "metadata": {},
     "output_type": "display_data"
    }
   ],
   "source": [
    "# R Base: Summary function\n",
    "# produces summary statistics of both continuous and categorical variables  \n",
    "head(iris, n=10)   # By default, the head() function returns the first 6 rows by default\n",
    "summary(iris)  # species is a categorical variable, all others are continuous)  \n"
   ]
  },
  {
   "cell_type": "code",
   "execution_count": 9,
   "id": "b0aa33bf",
   "metadata": {},
   "outputs": [
    {
     "data": {
      "text/html": [
       "<table>\n",
       "<thead><tr><th scope=col>Survived</th><th scope=col>Pclass</th><th scope=col>Name</th><th scope=col>Sex</th><th scope=col>Age</th><th scope=col>Siblings.Spouses.Aboard</th><th scope=col>Parents.Children.Aboard</th><th scope=col>Fare</th><th scope=col>Child_cat</th></tr></thead>\n",
       "<tbody>\n",
       "\t<tr><td>0                                                 </td><td>3                                                 </td><td>Mr. Owen Harris Braund                            </td><td>male                                              </td><td>22                                                </td><td>1                                                 </td><td>0                                                 </td><td> 7.2500                                           </td><td>Adult                                             </td></tr>\n",
       "\t<tr><td>1                                                 </td><td>1                                                 </td><td>Mrs. John Bradley (Florence Briggs Thayer) Cumings</td><td>female                                            </td><td>38                                                </td><td>1                                                 </td><td>0                                                 </td><td>71.2833                                           </td><td>Adult                                             </td></tr>\n",
       "\t<tr><td>1                                                 </td><td>3                                                 </td><td>Miss. Laina Heikkinen                             </td><td>female                                            </td><td>26                                                </td><td>0                                                 </td><td>0                                                 </td><td> 7.9250                                           </td><td>Adult                                             </td></tr>\n",
       "\t<tr><td>1                                                 </td><td>1                                                 </td><td>Mrs. Jacques Heath (Lily May Peel) Futrelle       </td><td>female                                            </td><td>35                                                </td><td>1                                                 </td><td>0                                                 </td><td>53.1000                                           </td><td>Adult                                             </td></tr>\n",
       "\t<tr><td>0                                                 </td><td>3                                                 </td><td>Mr. William Henry Allen                           </td><td>male                                              </td><td>35                                                </td><td>0                                                 </td><td>0                                                 </td><td> 8.0500                                           </td><td>Adult                                             </td></tr>\n",
       "\t<tr><td>0                                                 </td><td>3                                                 </td><td>Mr. James Moran                                   </td><td>male                                              </td><td>27                                                </td><td>0                                                 </td><td>0                                                 </td><td> 8.4583                                           </td><td>Adult                                             </td></tr>\n",
       "\t<tr><td>0                                                 </td><td>1                                                 </td><td>Mr. Timothy J McCarthy                            </td><td>male                                              </td><td>54                                                </td><td>0                                                 </td><td>0                                                 </td><td>51.8625                                           </td><td>Adult                                             </td></tr>\n",
       "\t<tr><td>0                                                 </td><td>3                                                 </td><td>Master. Gosta Leonard Palsson                     </td><td>male                                              </td><td> 2                                                </td><td>3                                                 </td><td>1                                                 </td><td>21.0750                                           </td><td>Child                                             </td></tr>\n",
       "\t<tr><td>1                                                 </td><td>3                                                 </td><td>Mrs. Oscar W (Elisabeth Vilhelmina Berg) Johnson  </td><td>female                                            </td><td>27                                                </td><td>0                                                 </td><td>2                                                 </td><td>11.1333                                           </td><td>Adult                                             </td></tr>\n",
       "\t<tr><td>1                                                 </td><td>2                                                 </td><td>Mrs. Nicholas (Adele Achem) Nasser                </td><td>female                                            </td><td>14                                                </td><td>1                                                 </td><td>0                                                 </td><td>30.0708                                           </td><td>Child                                             </td></tr>\n",
       "</tbody>\n",
       "</table>\n"
      ],
      "text/latex": [
       "\\begin{tabular}{r|lllllllll}\n",
       " Survived & Pclass & Name & Sex & Age & Siblings.Spouses.Aboard & Parents.Children.Aboard & Fare & Child\\_cat\\\\\n",
       "\\hline\n",
       "\t 0                                                  & 3                                                  & Mr. Owen Harris Braund                             & male                                               & 22                                                 & 1                                                  & 0                                                  &  7.2500                                            & Adult                                             \\\\\n",
       "\t 1                                                  & 1                                                  & Mrs. John Bradley (Florence Briggs Thayer) Cumings & female                                             & 38                                                 & 1                                                  & 0                                                  & 71.2833                                            & Adult                                             \\\\\n",
       "\t 1                                                  & 3                                                  & Miss. Laina Heikkinen                              & female                                             & 26                                                 & 0                                                  & 0                                                  &  7.9250                                            & Adult                                             \\\\\n",
       "\t 1                                                  & 1                                                  & Mrs. Jacques Heath (Lily May Peel) Futrelle        & female                                             & 35                                                 & 1                                                  & 0                                                  & 53.1000                                            & Adult                                             \\\\\n",
       "\t 0                                                  & 3                                                  & Mr. William Henry Allen                            & male                                               & 35                                                 & 0                                                  & 0                                                  &  8.0500                                            & Adult                                             \\\\\n",
       "\t 0                                                  & 3                                                  & Mr. James Moran                                    & male                                               & 27                                                 & 0                                                  & 0                                                  &  8.4583                                            & Adult                                             \\\\\n",
       "\t 0                                                  & 1                                                  & Mr. Timothy J McCarthy                             & male                                               & 54                                                 & 0                                                  & 0                                                  & 51.8625                                            & Adult                                             \\\\\n",
       "\t 0                                                  & 3                                                  & Master. Gosta Leonard Palsson                      & male                                               &  2                                                 & 3                                                  & 1                                                  & 21.0750                                            & Child                                             \\\\\n",
       "\t 1                                                  & 3                                                  & Mrs. Oscar W (Elisabeth Vilhelmina Berg) Johnson   & female                                             & 27                                                 & 0                                                  & 2                                                  & 11.1333                                            & Adult                                             \\\\\n",
       "\t 1                                                  & 2                                                  & Mrs. Nicholas (Adele Achem) Nasser                 & female                                             & 14                                                 & 1                                                  & 0                                                  & 30.0708                                            & Child                                             \\\\\n",
       "\\end{tabular}\n"
      ],
      "text/markdown": [
       "\n",
       "| Survived | Pclass | Name | Sex | Age | Siblings.Spouses.Aboard | Parents.Children.Aboard | Fare | Child_cat |\n",
       "|---|---|---|---|---|---|---|---|---|\n",
       "| 0                                                  | 3                                                  | Mr. Owen Harris Braund                             | male                                               | 22                                                 | 1                                                  | 0                                                  |  7.2500                                            | Adult                                              |\n",
       "| 1                                                  | 1                                                  | Mrs. John Bradley (Florence Briggs Thayer) Cumings | female                                             | 38                                                 | 1                                                  | 0                                                  | 71.2833                                            | Adult                                              |\n",
       "| 1                                                  | 3                                                  | Miss. Laina Heikkinen                              | female                                             | 26                                                 | 0                                                  | 0                                                  |  7.9250                                            | Adult                                              |\n",
       "| 1                                                  | 1                                                  | Mrs. Jacques Heath (Lily May Peel) Futrelle        | female                                             | 35                                                 | 1                                                  | 0                                                  | 53.1000                                            | Adult                                              |\n",
       "| 0                                                  | 3                                                  | Mr. William Henry Allen                            | male                                               | 35                                                 | 0                                                  | 0                                                  |  8.0500                                            | Adult                                              |\n",
       "| 0                                                  | 3                                                  | Mr. James Moran                                    | male                                               | 27                                                 | 0                                                  | 0                                                  |  8.4583                                            | Adult                                              |\n",
       "| 0                                                  | 1                                                  | Mr. Timothy J McCarthy                             | male                                               | 54                                                 | 0                                                  | 0                                                  | 51.8625                                            | Adult                                              |\n",
       "| 0                                                  | 3                                                  | Master. Gosta Leonard Palsson                      | male                                               |  2                                                 | 3                                                  | 1                                                  | 21.0750                                            | Child                                              |\n",
       "| 1                                                  | 3                                                  | Mrs. Oscar W (Elisabeth Vilhelmina Berg) Johnson   | female                                             | 27                                                 | 0                                                  | 2                                                  | 11.1333                                            | Adult                                              |\n",
       "| 1                                                  | 2                                                  | Mrs. Nicholas (Adele Achem) Nasser                 | female                                             | 14                                                 | 1                                                  | 0                                                  | 30.0708                                            | Child                                              |\n",
       "\n"
      ],
      "text/plain": [
       "   Survived Pclass Name                                               Sex   \n",
       "1  0        3      Mr. Owen Harris Braund                             male  \n",
       "2  1        1      Mrs. John Bradley (Florence Briggs Thayer) Cumings female\n",
       "3  1        3      Miss. Laina Heikkinen                              female\n",
       "4  1        1      Mrs. Jacques Heath (Lily May Peel) Futrelle        female\n",
       "5  0        3      Mr. William Henry Allen                            male  \n",
       "6  0        3      Mr. James Moran                                    male  \n",
       "7  0        1      Mr. Timothy J McCarthy                             male  \n",
       "8  0        3      Master. Gosta Leonard Palsson                      male  \n",
       "9  1        3      Mrs. Oscar W (Elisabeth Vilhelmina Berg) Johnson   female\n",
       "10 1        2      Mrs. Nicholas (Adele Achem) Nasser                 female\n",
       "   Age Siblings.Spouses.Aboard Parents.Children.Aboard Fare    Child_cat\n",
       "1  22  1                       0                        7.2500 Adult    \n",
       "2  38  1                       0                       71.2833 Adult    \n",
       "3  26  0                       0                        7.9250 Adult    \n",
       "4  35  1                       0                       53.1000 Adult    \n",
       "5  35  0                       0                        8.0500 Adult    \n",
       "6  27  0                       0                        8.4583 Adult    \n",
       "7  54  0                       0                       51.8625 Adult    \n",
       "8   2  3                       1                       21.0750 Child    \n",
       "9  27  0                       2                       11.1333 Adult    \n",
       "10 14  1                       0                       30.0708 Child    "
      ]
     },
     "metadata": {},
     "output_type": "display_data"
    },
    {
     "data": {
      "text/plain": [
       " Survived Pclass                                  Name         Sex     \n",
       " 0:545    1:216   Capt. Edward Gifford Crosby       :  1   female:314  \n",
       " 1:342    2:184   Col. John Weir                    :  1   male  :573  \n",
       "          3:487   Col. Oberst Alfons Simonius-Blumer:  1               \n",
       "                  Don. Manuel E Uruchurtu           :  1               \n",
       "                  Dr. Alfred Pain                   :  1               \n",
       "                  Dr. Alice (Farnham) Leader        :  1               \n",
       "                  (Other)                           :881               \n",
       "      Age        Siblings.Spouses.Aboard Parents.Children.Aboard\n",
       " Min.   : 0.42   Min.   :0.0000          Min.   :0.0000         \n",
       " 1st Qu.:20.25   1st Qu.:0.0000          1st Qu.:0.0000         \n",
       " Median :28.00   Median :0.0000          Median :0.0000         \n",
       " Mean   :29.47   Mean   :0.5254          Mean   :0.3833         \n",
       " 3rd Qu.:38.00   3rd Qu.:1.0000          3rd Qu.:0.0000         \n",
       " Max.   :80.00   Max.   :8.0000          Max.   :6.0000         \n",
       "                                                                \n",
       "      Fare          Child_cat        \n",
       " Min.   :  0.000   Length:887        \n",
       " 1st Qu.:  7.925   Class :character  \n",
       " Median : 14.454   Mode  :character  \n",
       " Mean   : 32.305                     \n",
       " 3rd Qu.: 31.137                     \n",
       " Max.   :512.329                     \n",
       "                                     "
      ]
     },
     "metadata": {},
     "output_type": "display_data"
    }
   ],
   "source": [
    "# Stanford course CS109: A Titanic Probability\n",
    "# https://web.stanford.edu/class/archive/cs/cs109/cs109.1166/problem12.html\n",
    "# reads in a copy of the Titanic survival data from a URL\n",
    "X <- read.csv(url(\"https://web.stanford.edu/class/archive/cs/cs109/cs109.1166/stuff/titanic.csv\"))\n",
    "\n",
    "# convert Survived and Pclass to factors\n",
    "X$Survived <- as.factor(X$Survived)\n",
    "X$Pclass <- as.factor(X$Pclass)\n",
    "\n",
    "# Creates a new dichotomous variable for Adult/Child\n",
    "X$Child_cat[X$Age < 18] <- \"Child\"\n",
    "X$Child_cat[X$Age >=18] <- \"Adult\"\n",
    "\n",
    "head(X,10)\n",
    "summary(X)"
   ]
  },
  {
   "cell_type": "code",
   "execution_count": 7,
   "id": "fb86d2e8",
   "metadata": {},
   "outputs": [
    {
     "name": "stdout",
     "output_type": "stream",
     "text": [
      "\n",
      "  There is a binary version available but the source version is later:\n",
      "        binary   source needs_compilation\n",
      "gmodels 2.18.1 2.18.1.1             FALSE\n",
      "\n"
     ]
    },
    {
     "name": "stderr",
     "output_type": "stream",
     "text": [
      "installing the source package 'gmodels'\n",
      "\n"
     ]
    },
    {
     "ename": "ERROR",
     "evalue": "Error in CrossTable(workshop, gender, chisq = TRUE, format = \"SAS\"): could not find function \"CrossTable\"\n",
     "output_type": "error",
     "traceback": [
      "Error in CrossTable(workshop, gender, chisq = TRUE, format = \"SAS\"): could not find function \"CrossTable\"\nTraceback:\n"
     ]
    }
   ],
   "source": [
    "#install.packages(\"gmodels\")\n",
    "#CrossTable(workshop, gender, chisq = TRUE, format = \"SAS\")\n"
   ]
  },
  {
   "cell_type": "code",
   "execution_count": 12,
   "id": "d23919e3",
   "metadata": {},
   "outputs": [
    {
     "data": {
      "text/html": [
       "<table>\n",
       "<thead><tr><th></th><th scope=col>No</th><th scope=col>Yes</th></tr></thead>\n",
       "<tbody>\n",
       "\t<tr><th scope=row>Child</th><td>  52</td><td> 57 </td></tr>\n",
       "\t<tr><th scope=row>Adult</th><td>1438</td><td>654 </td></tr>\n",
       "</tbody>\n",
       "</table>\n"
      ],
      "text/latex": [
       "\\begin{tabular}{r|ll}\n",
       "  & No & Yes\\\\\n",
       "\\hline\n",
       "\tChild &   52 &  57 \\\\\n",
       "\tAdult & 1438 & 654 \\\\\n",
       "\\end{tabular}\n"
      ],
      "text/markdown": [
       "\n",
       "| <!--/--> | No | Yes |\n",
       "|---|---|---|\n",
       "| Child |   52 |  57  |\n",
       "| Adult | 1438 | 654  |\n",
       "\n"
      ],
      "text/plain": [
       "       Survived\n",
       "Age     No   Yes\n",
       "  Child   52  57\n",
       "  Adult 1438 654"
      ]
     },
     "metadata": {},
     "output_type": "display_data"
    }
   ],
   "source": [
    "# simple crosstab table of counts\n",
    "# Higher survival rates in children?\n",
    "apply(Titanic, c(3, 4), sum)\n",
    "\n",
    "# NOTE: There appears to be something funky about the Titantic dataset in R Base"
   ]
  },
  {
   "cell_type": "code",
   "execution_count": null,
   "id": "2b2ea402",
   "metadata": {},
   "outputs": [],
   "source": [
    "## Grouped summaries of continuous variables  "
   ]
  }
 ],
 "metadata": {
  "kernelspec": {
   "display_name": "R",
   "language": "R",
   "name": "ir"
  },
  "language_info": {
   "codemirror_mode": "r",
   "file_extension": ".r",
   "mimetype": "text/x-r-source",
   "name": "R",
   "pygments_lexer": "r",
   "version": "3.6.1"
  }
 },
 "nbformat": 4,
 "nbformat_minor": 5
}

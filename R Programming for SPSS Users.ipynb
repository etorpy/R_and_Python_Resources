{
 "cells": [
  {
   "cell_type": "markdown",
   "id": "0dccc9c2",
   "metadata": {},
   "source": [
    "## R Programming For SPSS Users\n",
    "From 2003 - 2009, I taught software training courses for SPSS Inc.  The contents of this notebook are partially inspired by the course titled \"Statistical Analysis Using SPSS\" that I frequenty taught during that time.  Another important source is a book titled \"R for SAS and SPSS Users\" by Robert Muenchen.  If you already know how to write SPSS Statistics syntax (code) or SAS code and want to learn how to do similiar things in R, Bob's book is highly recommended.  The following URL will take you to the web site for Bob's book: https://r4stats.com/\n"
   ]
  },
  {
   "cell_type": "markdown",
   "id": "6ceaa5b7",
   "metadata": {},
   "source": [
    "### Procedures covered\n",
    "- head(): returns the first six rows in the data frame   \n",
    "- summary(): frequencies & descriptive statistics   \n",
    "- \n"
   ]
  },
  {
   "cell_type": "markdown",
   "id": "bec40981",
   "metadata": {},
   "source": [
    "### Useful R Packages to consider\n",
    "\n",
    "Frank Harrell’s Hmisc package  \n",
    "https://cran.r-project.org/web/packages/Hmisc/  \n",
    "https://hbiostat.org/R/Hmisc/  \n",
    "contains functions that produce more informative output than standard R functions  \n"
   ]
  },
  {
   "cell_type": "code",
   "execution_count": 1,
   "id": "c78c0bd4",
   "metadata": {},
   "outputs": [
    {
     "data": {
      "text/plain": [
       "               _                           \n",
       "platform       x86_64-w64-mingw32          \n",
       "arch           x86_64                      \n",
       "os             mingw32                     \n",
       "system         x86_64, mingw32             \n",
       "status                                     \n",
       "major          3                           \n",
       "minor          6.1                         \n",
       "year           2019                        \n",
       "month          07                          \n",
       "day            05                          \n",
       "svn rev        76782                       \n",
       "language       R                           \n",
       "version.string R version 3.6.1 (2019-07-05)\n",
       "nickname       Action of the Toes          "
      ]
     },
     "metadata": {},
     "output_type": "display_data"
    }
   ],
   "source": [
    "# R Programming For SPSS Users\n",
    "# Last updated 2/5/2023\n",
    "\n",
    "version # show the version of R used in Anaconda"
   ]
  },
  {
   "cell_type": "code",
   "execution_count": 2,
   "id": "b7eeadda",
   "metadata": {},
   "outputs": [
    {
     "data": {
      "text/html": [
       "<ol class=list-inline>\n",
       "\t<li>512</li>\n",
       "\t<li>313</li>\n",
       "\t<li>89</li>\n",
       "\t<li>19</li>\n",
       "\t<li>353</li>\n",
       "\t<li>207</li>\n",
       "</ol>\n"
      ],
      "text/latex": [
       "\\begin{enumerate*}\n",
       "\\item 512\n",
       "\\item 313\n",
       "\\item 89\n",
       "\\item 19\n",
       "\\item 353\n",
       "\\item 207\n",
       "\\end{enumerate*}\n"
      ],
      "text/markdown": [
       "1. 512\n",
       "2. 313\n",
       "3. 89\n",
       "4. 19\n",
       "5. 353\n",
       "6. 207\n",
       "\n",
       "\n"
      ],
      "text/plain": [
       "[1] 512 313  89  19 353 207"
      ]
     },
     "metadata": {},
     "output_type": "display_data"
    }
   ],
   "source": [
    "# Displays a list of the dataset contain in the installed version of R Base  \n",
    "# library(help = \"datasets\")  \n",
    "# favorite datasets include: mtcars, iris, titanic\n",
    "\n",
    "# head(mtcars)\n",
    "# summary(mtcars)\n",
    "\n",
    "head(UCBAdmissions)"
   ]
  },
  {
   "cell_type": "code",
   "execution_count": 3,
   "id": "fde5c329",
   "metadata": {},
   "outputs": [
    {
     "data": {
      "text/plain": [
       "      mpg        cyl         disp             hp             drat      \n",
       " Min.   :10.40   4:11   Min.   : 71.1   Min.   : 52.0   Min.   :2.760  \n",
       " 1st Qu.:15.43   6: 7   1st Qu.:120.8   1st Qu.: 96.5   1st Qu.:3.080  \n",
       " Median :19.20   8:14   Median :196.3   Median :123.0   Median :3.695  \n",
       " Mean   :20.09          Mean   :230.7   Mean   :146.7   Mean   :3.597  \n",
       " 3rd Qu.:22.80          3rd Qu.:326.0   3rd Qu.:180.0   3rd Qu.:3.920  \n",
       " Max.   :33.90          Max.   :472.0   Max.   :335.0   Max.   :4.930  \n",
       "       wt             qsec             vs         am     gear   carb  \n",
       " Min.   :1.513   Min.   :14.50   Min.   :0.0000   0:19   3:15   1: 7  \n",
       " 1st Qu.:2.581   1st Qu.:16.89   1st Qu.:0.0000   1:13   4:12   2:10  \n",
       " Median :3.325   Median :17.71   Median :0.0000          5: 5   3: 3  \n",
       " Mean   :3.217   Mean   :17.85   Mean   :0.4375                 4:10  \n",
       " 3rd Qu.:3.610   3rd Qu.:18.90   3rd Qu.:1.0000                 6: 1  \n",
       " Max.   :5.424   Max.   :22.90   Max.   :1.0000                 8: 1  "
      ]
     },
     "metadata": {},
     "output_type": "display_data"
    }
   ],
   "source": [
    "# Convert cyl and gear (Numeric) to factor using as.factor()\n",
    "# alternative syntax: mtcars$gear <- as.factor(mtcars$gear)\n",
    "# as.numeric(mtcars$carb) -> mtcars$carb\n",
    "\n",
    "# To convert a variable from factor to number\n",
    "as.factor(mtcars$cyl)->mtcars$cyl  \n",
    "as.factor(mtcars$gear)->mtcars$gear \n",
    "as.factor(mtcars$am)->mtcars$am\n",
    "as.factor(mtcars$carb) -> mtcars$carb\n",
    "\n",
    "summary(mtcars)\n"
   ]
  },
  {
   "cell_type": "code",
   "execution_count": 4,
   "id": "385e616f",
   "metadata": {},
   "outputs": [
    {
     "data": {
      "text/html": [
       "<table>\n",
       "<thead><tr><th scope=col>Sepal.Length</th><th scope=col>Sepal.Width</th><th scope=col>Petal.Length</th><th scope=col>Petal.Width</th><th scope=col>Species</th></tr></thead>\n",
       "<tbody>\n",
       "\t<tr><td>5.1   </td><td>3.5   </td><td>1.4   </td><td>0.2   </td><td>setosa</td></tr>\n",
       "\t<tr><td>4.9   </td><td>3.0   </td><td>1.4   </td><td>0.2   </td><td>setosa</td></tr>\n",
       "\t<tr><td>4.7   </td><td>3.2   </td><td>1.3   </td><td>0.2   </td><td>setosa</td></tr>\n",
       "\t<tr><td>4.6   </td><td>3.1   </td><td>1.5   </td><td>0.2   </td><td>setosa</td></tr>\n",
       "\t<tr><td>5.0   </td><td>3.6   </td><td>1.4   </td><td>0.2   </td><td>setosa</td></tr>\n",
       "\t<tr><td>5.4   </td><td>3.9   </td><td>1.7   </td><td>0.4   </td><td>setosa</td></tr>\n",
       "\t<tr><td>4.6   </td><td>3.4   </td><td>1.4   </td><td>0.3   </td><td>setosa</td></tr>\n",
       "\t<tr><td>5.0   </td><td>3.4   </td><td>1.5   </td><td>0.2   </td><td>setosa</td></tr>\n",
       "\t<tr><td>4.4   </td><td>2.9   </td><td>1.4   </td><td>0.2   </td><td>setosa</td></tr>\n",
       "\t<tr><td>4.9   </td><td>3.1   </td><td>1.5   </td><td>0.1   </td><td>setosa</td></tr>\n",
       "</tbody>\n",
       "</table>\n"
      ],
      "text/latex": [
       "\\begin{tabular}{r|lllll}\n",
       " Sepal.Length & Sepal.Width & Petal.Length & Petal.Width & Species\\\\\n",
       "\\hline\n",
       "\t 5.1    & 3.5    & 1.4    & 0.2    & setosa\\\\\n",
       "\t 4.9    & 3.0    & 1.4    & 0.2    & setosa\\\\\n",
       "\t 4.7    & 3.2    & 1.3    & 0.2    & setosa\\\\\n",
       "\t 4.6    & 3.1    & 1.5    & 0.2    & setosa\\\\\n",
       "\t 5.0    & 3.6    & 1.4    & 0.2    & setosa\\\\\n",
       "\t 5.4    & 3.9    & 1.7    & 0.4    & setosa\\\\\n",
       "\t 4.6    & 3.4    & 1.4    & 0.3    & setosa\\\\\n",
       "\t 5.0    & 3.4    & 1.5    & 0.2    & setosa\\\\\n",
       "\t 4.4    & 2.9    & 1.4    & 0.2    & setosa\\\\\n",
       "\t 4.9    & 3.1    & 1.5    & 0.1    & setosa\\\\\n",
       "\\end{tabular}\n"
      ],
      "text/markdown": [
       "\n",
       "| Sepal.Length | Sepal.Width | Petal.Length | Petal.Width | Species |\n",
       "|---|---|---|---|---|\n",
       "| 5.1    | 3.5    | 1.4    | 0.2    | setosa |\n",
       "| 4.9    | 3.0    | 1.4    | 0.2    | setosa |\n",
       "| 4.7    | 3.2    | 1.3    | 0.2    | setosa |\n",
       "| 4.6    | 3.1    | 1.5    | 0.2    | setosa |\n",
       "| 5.0    | 3.6    | 1.4    | 0.2    | setosa |\n",
       "| 5.4    | 3.9    | 1.7    | 0.4    | setosa |\n",
       "| 4.6    | 3.4    | 1.4    | 0.3    | setosa |\n",
       "| 5.0    | 3.4    | 1.5    | 0.2    | setosa |\n",
       "| 4.4    | 2.9    | 1.4    | 0.2    | setosa |\n",
       "| 4.9    | 3.1    | 1.5    | 0.1    | setosa |\n",
       "\n"
      ],
      "text/plain": [
       "   Sepal.Length Sepal.Width Petal.Length Petal.Width Species\n",
       "1  5.1          3.5         1.4          0.2         setosa \n",
       "2  4.9          3.0         1.4          0.2         setosa \n",
       "3  4.7          3.2         1.3          0.2         setosa \n",
       "4  4.6          3.1         1.5          0.2         setosa \n",
       "5  5.0          3.6         1.4          0.2         setosa \n",
       "6  5.4          3.9         1.7          0.4         setosa \n",
       "7  4.6          3.4         1.4          0.3         setosa \n",
       "8  5.0          3.4         1.5          0.2         setosa \n",
       "9  4.4          2.9         1.4          0.2         setosa \n",
       "10 4.9          3.1         1.5          0.1         setosa "
      ]
     },
     "metadata": {},
     "output_type": "display_data"
    },
    {
     "data": {
      "text/plain": [
       "  Sepal.Length    Sepal.Width     Petal.Length    Petal.Width   \n",
       " Min.   :4.300   Min.   :2.000   Min.   :1.000   Min.   :0.100  \n",
       " 1st Qu.:5.100   1st Qu.:2.800   1st Qu.:1.600   1st Qu.:0.300  \n",
       " Median :5.800   Median :3.000   Median :4.350   Median :1.300  \n",
       " Mean   :5.843   Mean   :3.057   Mean   :3.758   Mean   :1.199  \n",
       " 3rd Qu.:6.400   3rd Qu.:3.300   3rd Qu.:5.100   3rd Qu.:1.800  \n",
       " Max.   :7.900   Max.   :4.400   Max.   :6.900   Max.   :2.500  \n",
       "       Species  \n",
       " setosa    :50  \n",
       " versicolor:50  \n",
       " virginica :50  \n",
       "                \n",
       "                \n",
       "                "
      ]
     },
     "metadata": {},
     "output_type": "display_data"
    }
   ],
   "source": [
    "# R Base: Summary function\n",
    "# produces summary statistics of both continuous and categorical variables  \n",
    "head(iris, n=10)   # By default, the head() function returns the first 6 rows by default\n",
    "summary(iris)  # species is a categorical variable, all others are continuous)  \n"
   ]
  },
  {
   "cell_type": "code",
   "execution_count": 5,
   "id": "b0aa33bf",
   "metadata": {},
   "outputs": [
    {
     "data": {
      "text/html": [
       "<ol class=list-inline>\n",
       "\t<li>0</li>\n",
       "\t<li>0</li>\n",
       "\t<li>35</li>\n",
       "\t<li>0</li>\n",
       "\t<li>0</li>\n",
       "\t<li>0</li>\n",
       "\t<li>17</li>\n",
       "\t<li>0</li>\n",
       "\t<li>118</li>\n",
       "\t<li>154</li>\n",
       "</ol>\n"
      ],
      "text/latex": [
       "\\begin{enumerate*}\n",
       "\\item 0\n",
       "\\item 0\n",
       "\\item 35\n",
       "\\item 0\n",
       "\\item 0\n",
       "\\item 0\n",
       "\\item 17\n",
       "\\item 0\n",
       "\\item 118\n",
       "\\item 154\n",
       "\\end{enumerate*}\n"
      ],
      "text/markdown": [
       "1. 0\n",
       "2. 0\n",
       "3. 35\n",
       "4. 0\n",
       "5. 0\n",
       "6. 0\n",
       "7. 17\n",
       "8. 0\n",
       "9. 118\n",
       "10. 154\n",
       "\n",
       "\n"
      ],
      "text/plain": [
       " [1]   0   0  35   0   0   0  17   0 118 154"
      ]
     },
     "metadata": {},
     "output_type": "display_data"
    }
   ],
   "source": [
    "head(Titanic, n=10)"
   ]
  },
  {
   "cell_type": "code",
   "execution_count": 7,
   "id": "fb86d2e8",
   "metadata": {},
   "outputs": [
    {
     "name": "stdout",
     "output_type": "stream",
     "text": [
      "\n",
      "  There is a binary version available but the source version is later:\n",
      "        binary   source needs_compilation\n",
      "gmodels 2.18.1 2.18.1.1             FALSE\n",
      "\n"
     ]
    },
    {
     "name": "stderr",
     "output_type": "stream",
     "text": [
      "installing the source package 'gmodels'\n",
      "\n"
     ]
    },
    {
     "ename": "ERROR",
     "evalue": "Error in CrossTable(workshop, gender, chisq = TRUE, format = \"SAS\"): could not find function \"CrossTable\"\n",
     "output_type": "error",
     "traceback": [
      "Error in CrossTable(workshop, gender, chisq = TRUE, format = \"SAS\"): could not find function \"CrossTable\"\nTraceback:\n"
     ]
    }
   ],
   "source": [
    "install.packages(\"gmodels\")\n",
    "CrossTable(workshop, gender, chisq = TRUE, format = \"SAS\")\n"
   ]
  },
  {
   "cell_type": "code",
   "execution_count": 15,
   "id": "d23919e3",
   "metadata": {},
   "outputs": [
    {
     "data": {
      "text/html": [
       "<table>\n",
       "<thead><tr><th></th><th scope=col>No</th><th scope=col>Yes</th></tr></thead>\n",
       "<tbody>\n",
       "\t<tr><th scope=row>Child</th><td>  52</td><td> 57 </td></tr>\n",
       "\t<tr><th scope=row>Adult</th><td>1438</td><td>654 </td></tr>\n",
       "</tbody>\n",
       "</table>\n"
      ],
      "text/latex": [
       "\\begin{tabular}{r|ll}\n",
       "  & No & Yes\\\\\n",
       "\\hline\n",
       "\tChild &   52 &  57 \\\\\n",
       "\tAdult & 1438 & 654 \\\\\n",
       "\\end{tabular}\n"
      ],
      "text/markdown": [
       "\n",
       "| <!--/--> | No | Yes |\n",
       "|---|---|---|\n",
       "| Child |   52 |  57  |\n",
       "| Adult | 1438 | 654  |\n",
       "\n"
      ],
      "text/plain": [
       "       Survived\n",
       "Age     No   Yes\n",
       "  Child   52  57\n",
       "  Adult 1438 654"
      ]
     },
     "metadata": {},
     "output_type": "display_data"
    }
   ],
   "source": [
    "# simple crosstab table of counts\n",
    "# Higher survival rates in children?\n",
    "apply(Titanic, c(3, 4), sum)\n"
   ]
  },
  {
   "cell_type": "code",
   "execution_count": null,
   "id": "2b2ea402",
   "metadata": {},
   "outputs": [],
   "source": [
    "## Grouped summaries of continuous variables  "
   ]
  }
 ],
 "metadata": {
  "kernelspec": {
   "display_name": "R",
   "language": "R",
   "name": "ir"
  },
  "language_info": {
   "codemirror_mode": "r",
   "file_extension": ".r",
   "mimetype": "text/x-r-source",
   "name": "R",
   "pygments_lexer": "r",
   "version": "3.6.1"
  }
 },
 "nbformat": 4,
 "nbformat_minor": 5
}

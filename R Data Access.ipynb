{
 "cells": [
  {
   "cell_type": "markdown",
   "id": "071db8f9",
   "metadata": {},
   "source": [
    "This will show examples using the **odbc + DBI** packages and additional examples using the older **RODBC** package.  \n",
    "\n",
    "**odbc + DBI**: How to Use the New R ODBC Package to Connect to an Oracle Database  \n",
    "https://blog.redpillanalytics.com/how-to-use-the-new-r-odbc-package-to-connect-to-an-oracle-database-70ce6783e397  \n",
    "\n",
    "**odbc**: Connect to ODBC Compatible Databases (using the DBI Interface)  \n",
    "https://cran.r-project.org/web/packages/odbc/index.html  \n",
    "**DBI**: R Database Interface  \n",
    "https://cran.r-project.org/web/packages/DBI/index.html  \n",
    "\n",
    "**RODBC**: ODBC Database Access  \n",
    "https://cran.r-project.org/web/packages/RODBC/index.html  \n"
   ]
  },
  {
   "cell_type": "code",
   "execution_count": 1,
   "id": "0a9235bf",
   "metadata": {},
   "outputs": [
    {
     "data": {
      "text/plain": [
       "               _                           \n",
       "platform       x86_64-w64-mingw32          \n",
       "arch           x86_64                      \n",
       "os             mingw32                     \n",
       "system         x86_64, mingw32             \n",
       "status                                     \n",
       "major          4                           \n",
       "minor          1.3                         \n",
       "year           2022                        \n",
       "month          03                          \n",
       "day            10                          \n",
       "svn rev        81868                       \n",
       "language       R                           \n",
       "version.string R version 4.1.3 (2022-03-10)\n",
       "nickname       One Push-Up                 "
      ]
     },
     "metadata": {},
     "output_type": "display_data"
    }
   ],
   "source": [
    "version"
   ]
  },
  {
   "cell_type": "code",
   "execution_count": 2,
   "id": "22897901",
   "metadata": {},
   "outputs": [
    {
     "name": "stderr",
     "output_type": "stream",
     "text": [
      "Warning message in install.packages(\"odbc\"):\n",
      "\"'lib = \"C:/ProgramData/Anaconda3/envs/conda_env_2023-0309/Lib/R/library\"' is not writable\"\n"
     ]
    },
    {
     "ename": "ERROR",
     "evalue": "Error in install.packages(\"odbc\"): unable to install packages\n",
     "output_type": "error",
     "traceback": [
      "Error in install.packages(\"odbc\"): unable to install packages\nTraceback:\n",
      "1. install.packages(\"odbc\")",
      "2. stop(\"unable to install packages\")"
     ]
    }
   ],
   "source": [
    "# NOTE: the error occurs because \"C:/ProgramData/\" is not writable\n",
    "#    The solution is to make \"C:/ProgramData/Anaconda3\" (and all subfolders) writable\n",
    "install.packages('odbc')  "
   ]
  },
  {
   "cell_type": "code",
   "execution_count": 4,
   "id": "9aed3ee9",
   "metadata": {},
   "outputs": [
    {
     "name": "stderr",
     "output_type": "stream",
     "text": [
      "Warning message in install.packages(\"odbc\"):\n",
      "\"'lib = \"C:/ProgramData/Anaconda3/envs/conda_env_2023-0309/Lib/R/library\"' is not writable\"\n"
     ]
    },
    {
     "ename": "ERROR",
     "evalue": "Error in install.packages(\"odbc\"): unable to install packages\n",
     "output_type": "error",
     "traceback": [
      "Error in install.packages(\"odbc\"): unable to install packages\nTraceback:\n",
      "1. install.packages(\"odbc\")",
      "2. stop(\"unable to install packages\")"
     ]
    }
   ],
   "source": [
    "install.packages('odbc')"
   ]
  },
  {
   "cell_type": "code",
   "execution_count": null,
   "id": "f3748d43",
   "metadata": {},
   "outputs": [],
   "source": [
    "library(odbc)\n",
    "library(dplyr)\n",
    "library(dbplyr)\n",
    "# Connect using the DSN\n",
    "db <- DBI::dbConnect(odbc::odbc(), \"SQL\")"
   ]
  },
  {
   "cell_type": "code",
   "execution_count": null,
   "id": "e8e74411",
   "metadata": {},
   "outputs": [],
   "source": [
    "# Connect without a DSN\n",
    "db <- DBI::dbConnect(odbc::odbc(),\n",
    "                     Driver = 'ODBC Driver 13 for SQL Server',\n",
    "                     Server = 'localhost\\\\SQLEXPRESS',\n",
    "                     Database = \"master\",\n",
    "                     trusted_connection = 'yes',\n",
    "                     Port = 1433\n",
    "                     )"
   ]
  }
 ],
 "metadata": {
  "kernelspec": {
   "display_name": "R",
   "language": "R",
   "name": "ir"
  },
  "language_info": {
   "codemirror_mode": "r",
   "file_extension": ".r",
   "mimetype": "text/x-r-source",
   "name": "R",
   "pygments_lexer": "r",
   "version": "4.1.3"
  }
 },
 "nbformat": 4,
 "nbformat_minor": 5
}

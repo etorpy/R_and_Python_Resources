{
 "cells": [
  {
   "cell_type": "markdown",
   "id": "071db8f9",
   "metadata": {},
   "source": [
    "# Two ways to access data from an ODBC data source\n",
    "\n",
    "This will show examples using the **odbc + DBI** packages and additional examples using the older **RODBC** package.  \n",
    "\n",
    "**1) odbc + DBI**: How to Use the New R ODBC Package to Connect to an Oracle Database  \n",
    "https://blog.redpillanalytics.com/how-to-use-the-new-r-odbc-package-to-connect-to-an-oracle-database-70ce6783e397  \n",
    "\n",
    "**odbc**: Connect to ODBC Compatible Databases (using the DBI Interface)  \n",
    "https://cran.r-project.org/web/packages/odbc/index.html  \n",
    "**DBI**: R Database Interface  \n",
    "https://cran.r-project.org/web/packages/DBI/index.html  \n",
    "\n",
    "**2) RODBC**: ODBC Database Access  \n",
    "https://cran.r-project.org/web/packages/RODBC/index.html  \n"
   ]
  },
  {
   "cell_type": "code",
   "execution_count": 1,
   "id": "0a9235bf",
   "metadata": {},
   "outputs": [
    {
     "data": {
      "text/plain": [
       "               _                           \n",
       "platform       x86_64-w64-mingw32          \n",
       "arch           x86_64                      \n",
       "os             mingw32                     \n",
       "system         x86_64, mingw32             \n",
       "status                                     \n",
       "major          4                           \n",
       "minor          1.3                         \n",
       "year           2022                        \n",
       "month          03                          \n",
       "day            10                          \n",
       "svn rev        81868                       \n",
       "language       R                           \n",
       "version.string R version 4.1.3 (2022-03-10)\n",
       "nickname       One Push-Up                 "
      ]
     },
     "metadata": {},
     "output_type": "display_data"
    }
   ],
   "source": [
    "version"
   ]
  },
  {
   "cell_type": "code",
   "execution_count": 2,
   "id": "22897901",
   "metadata": {},
   "outputs": [
    {
     "name": "stdout",
     "output_type": "stream",
     "text": [
      "package 'odbc' successfully unpacked and MD5 sums checked\n",
      "\n",
      "The downloaded binary packages are in\n",
      "\tC:\\Users\\etorp\\AppData\\Local\\Temp\\Rtmp0gXBoC\\downloaded_packages\n"
     ]
    }
   ],
   "source": [
    "# NOTE: When installing Anaconda3 for Windows, choose the option \"Install for: Just Me\".  \n",
    "#   This will install Anaconda under the Users folder which will NOT result any subfolders being write-protected.\n",
    "#   If Anaconda is installed for All Users, it will be installed under C:\\ProgramData\\Anaconda3\\ and will be write-protected.\n",
    "\n",
    "install.packages('odbc')  "
   ]
  },
  {
   "cell_type": "code",
   "execution_count": 3,
   "id": "762862fd",
   "metadata": {},
   "outputs": [
    {
     "name": "stdout",
     "output_type": "stream",
     "text": [
      "package 'DBI' successfully unpacked and MD5 sums checked\n",
      "\n",
      "The downloaded binary packages are in\n",
      "\tC:\\Users\\etorp\\AppData\\Local\\Temp\\Rtmp0gXBoC\\downloaded_packages\n"
     ]
    }
   ],
   "source": [
    "# DBI is useful for creating R code to query an ODBC database without relying on the DSN setting (may be unique to user)\n",
    "install.packages(\"DBI\")"
   ]
  },
  {
   "cell_type": "markdown",
   "id": "422ef883",
   "metadata": {},
   "source": [
    "### Querring data from MS SQL Server\n",
    "\n",
    "Setting up an ODBC connection with MS SQL Server on Windows  \n",
    "https://www.r-bloggers.com/2018/05/setting-up-an-odbc-connection-with-ms-sql-server-on-windows/  \n",
    "NOTE: Using DBI allows users to access an ODBC data source WITHOUT relying on the DSN that may be unique to the user's computer.  \n",
    "\n",
    "The Connection Strings Reference  \n",
    "https://www.connectionstrings.com/  \n",
    "   Server=myServerAddress;Database=myDataBase;User Id=myUsername;Password=myPassword;  \n",
    "\n",
    "===============  \n",
    "R Square Academy: R, Databases & SQL  \n",
    "https://rdbsql.rsquaredacademy.com/dbi.html  \n",
    "\n",
    "  \n",
    "Database Queries With R  \n",
    "https://solutions.posit.co/connections/db/getting-started/database-queries/  \n",
    "\n",
    "You can query your data with DBI by using the dbGetQuery() function. Simply paste your SQL code into the R function as a quoted string. This method is sometimes referred to as pass through SQL code, and is probably the simplest way to query your data. Care should be used to escape your quotes as needed. For example, 'yes' is written as \\'yes\\'.  \n",
    "\n",
    "dbGetQuery(con,'  \n",
    "  select \"month_idx\", \"year\", \"month\",  \n",
    "  sum(case when \"term_deposit\" = \\'yes\\' then 1.0 else 0.0 end) as subscribe,  \n",
    "  count(*) as total  \n",
    "  from \"bank\"  \n",
    "  group by \"month_idx\", \"year\", \"month\"  \n",
    "')  \n",
    "\n",
    "\n",
    "\n"
   ]
  },
  {
   "cell_type": "raw",
   "id": "b2a7829e",
   "metadata": {},
   "source": [
    "The following are two examples of using DBI to connect to an ODBC data source\n",
    "\n",
    "# Connect using the DSN\n",
    "db <- DBI::dbConnect(odbc::odbc(), \"SQL\")\n",
    "\n",
    "# Connect without a DSN\n",
    "db <- DBI::dbConnect(odbc::odbc(),\n",
    "                     Driver = 'ODBC Driver 13 for SQL Server',\n",
    "                     Server = 'localhost\\\\SQLEXPRESS',\n",
    "                     Database = \"master\",\n",
    "                     trusted_connection = 'yes',\n",
    "                     Port = 1433\n",
    "                     )\n"
   ]
  },
  {
   "cell_type": "code",
   "execution_count": 4,
   "id": "9aed3ee9",
   "metadata": {
    "scrolled": false
   },
   "outputs": [
    {
     "data": {
      "text/plain": [
       "<OdbcConnection> dbo@ThinkPad-X1\\SQLEXPRESS\n",
       "  Database: AdventureWorksLT2019\n",
       "  Microsoft SQL Server Version: 16.00.1050"
      ]
     },
     "metadata": {},
     "output_type": "display_data"
    }
   ],
   "source": [
    "library(odbc)\n",
    "library(DBI)\n",
    "\n",
    "# Connect without a DSN (using DBI)\n",
    "db <- DBI::dbConnect(odbc::odbc(),\n",
    "                     Driver = 'ODBC Driver 17 for SQL Server',\n",
    "                     Server = 'localhost\\\\SQLEXPRESS',\n",
    "                     Database = \"AdventureWorksLT2019\",\n",
    "                     trusted_connection = 'yes',\n",
    "                     Port = 1433\n",
    "                     )\n",
    "db"
   ]
  },
  {
   "cell_type": "code",
   "execution_count": 18,
   "id": "f3748d43",
   "metadata": {},
   "outputs": [
    {
     "data": {
      "text/html": [
       "<style>\n",
       ".list-inline {list-style: none; margin:0; padding: 0}\n",
       ".list-inline>li {display: inline-block}\n",
       ".list-inline>li:not(:last-child)::after {content: \"\\00b7\"; padding: 0 .5ex}\n",
       "</style>\n",
       "<ol class=list-inline><li>'Product'</li><li>'ProductCategory'</li><li>'ProductDescription'</li><li>'ProductModel'</li><li>'ProductModelProductDescription'</li><li>'PARAMETERS'</li><li>'parameter_type_usages'</li><li>'parameter_xml_schema_collection_usages'</li><li>'parameters'</li><li>'partition_functions'</li><li>'partition_parameters'</li><li>'partition_range_values'</li><li>'partition_schemes'</li><li>'partitions'</li><li>'periods'</li><li>'plan_guides'</li><li>'procedures'</li></ol>\n"
      ],
      "text/latex": [
       "\\begin{enumerate*}\n",
       "\\item 'Product'\n",
       "\\item 'ProductCategory'\n",
       "\\item 'ProductDescription'\n",
       "\\item 'ProductModel'\n",
       "\\item 'ProductModelProductDescription'\n",
       "\\item 'PARAMETERS'\n",
       "\\item 'parameter\\_type\\_usages'\n",
       "\\item 'parameter\\_xml\\_schema\\_collection\\_usages'\n",
       "\\item 'parameters'\n",
       "\\item 'partition\\_functions'\n",
       "\\item 'partition\\_parameters'\n",
       "\\item 'partition\\_range\\_values'\n",
       "\\item 'partition\\_schemes'\n",
       "\\item 'partitions'\n",
       "\\item 'periods'\n",
       "\\item 'plan\\_guides'\n",
       "\\item 'procedures'\n",
       "\\end{enumerate*}\n"
      ],
      "text/markdown": [
       "1. 'Product'\n",
       "2. 'ProductCategory'\n",
       "3. 'ProductDescription'\n",
       "4. 'ProductModel'\n",
       "5. 'ProductModelProductDescription'\n",
       "6. 'PARAMETERS'\n",
       "7. 'parameter_type_usages'\n",
       "8. 'parameter_xml_schema_collection_usages'\n",
       "9. 'parameters'\n",
       "10. 'partition_functions'\n",
       "11. 'partition_parameters'\n",
       "12. 'partition_range_values'\n",
       "13. 'partition_schemes'\n",
       "14. 'partitions'\n",
       "15. 'periods'\n",
       "16. 'plan_guides'\n",
       "17. 'procedures'\n",
       "\n",
       "\n"
      ],
      "text/plain": [
       " [1] \"Product\"                               \n",
       " [2] \"ProductCategory\"                       \n",
       " [3] \"ProductDescription\"                    \n",
       " [4] \"ProductModel\"                          \n",
       " [5] \"ProductModelProductDescription\"        \n",
       " [6] \"PARAMETERS\"                            \n",
       " [7] \"parameter_type_usages\"                 \n",
       " [8] \"parameter_xml_schema_collection_usages\"\n",
       " [9] \"parameters\"                            \n",
       "[10] \"partition_functions\"                   \n",
       "[11] \"partition_parameters\"                  \n",
       "[12] \"partition_range_values\"                \n",
       "[13] \"partition_schemes\"                     \n",
       "[14] \"partitions\"                            \n",
       "[15] \"periods\"                               \n",
       "[16] \"plan_guides\"                           \n",
       "[17] \"procedures\"                            "
      ]
     },
     "metadata": {},
     "output_type": "display_data"
    },
    {
     "ename": "ERROR",
     "evalue": "Error: nanodbc/nanodbc.cpp:1752: 42000: [Microsoft][ODBC Driver 17 for SQL Server][SQL Server]Invalid object name 'Product'.  [Microsoft][ODBC Driver 17 for SQL Server][SQL Server]Statement(s) could not be prepared. \n<SQL> 'SELECT * FROM \"Product\"'\n",
     "output_type": "error",
     "traceback": [
      "Error: nanodbc/nanodbc.cpp:1752: 42000: [Microsoft][ODBC Driver 17 for SQL Server][SQL Server]Invalid object name 'Product'.  [Microsoft][ODBC Driver 17 for SQL Server][SQL Server]Statement(s) could not be prepared. \n<SQL> 'SELECT * FROM \"Product\"'\nTraceback:\n",
      "1. dbReadTable(db, \"Product\")",
      "2. dbReadTable(db, \"Product\")",
      "3. .local(conn, name, ...)",
      "4. dbGetQuery(conn, paste0(\"SELECT * FROM \", sql_name))",
      "5. dbGetQuery(conn, paste0(\"SELECT * FROM \", sql_name))",
      "6. .local(conn, statement, ...)",
      "7. dbSendQuery(conn, statement, params = params, ...)",
      "8. dbSendQuery(conn, statement, params = params, ...)",
      "9. .local(conn, statement, ...)",
      "10. OdbcResult(connection = conn, statement = statement, params = params, \n  .     immediate = immediate)",
      "11. new_result(connection@ptr, statement, immediate)"
     ]
    }
   ],
   "source": [
    "# QUESTION: Is it preferable to use \"con\" instead of \"db\"?\n",
    "\n",
    "# dbListTables(db)   # lists all the tables in the database\n",
    "\n",
    "dbListTables(db, table_name = \"P%\")   # List tables beginning with P\n",
    "\n",
    "\n",
    "# dbReadTable() will read a full table into an R data.frame().\n",
    "# data <- dbReadTable(con, \"flights\")\n",
    "data <- dbReadTable(db, 'Product')\n",
    "\n",
    "\n",
    "# data <- dbReadTable(db, \"Product\")\n",
    "\n"
   ]
  },
  {
   "cell_type": "code",
   "execution_count": null,
   "id": "e8e74411",
   "metadata": {},
   "outputs": [],
   "source": []
  }
 ],
 "metadata": {
  "kernelspec": {
   "display_name": "R",
   "language": "R",
   "name": "ir"
  },
  "language_info": {
   "codemirror_mode": "r",
   "file_extension": ".r",
   "mimetype": "text/x-r-source",
   "name": "R",
   "pygments_lexer": "r",
   "version": "4.1.3"
  }
 },
 "nbformat": 4,
 "nbformat_minor": 5
}
